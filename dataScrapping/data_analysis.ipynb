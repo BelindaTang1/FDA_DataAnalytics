{
 "metadata": {
  "language_info": {
   "codemirror_mode": {
    "name": "ipython",
    "version": 3
   },
   "file_extension": ".py",
   "mimetype": "text/x-python",
   "name": "python",
   "nbconvert_exporter": "python",
   "pygments_lexer": "ipython3",
   "version": "3.8.5"
  },
  "orig_nbformat": 2,
  "kernelspec": {
   "name": "python3",
   "display_name": "Python 3.8.5 64-bit",
   "metadata": {
    "interpreter": {
     "hash": "910010b9128fec0bda95a110deaa2f7baca3ef79608cce04836aad2a922a4fb5"
    }
   }
  }
 },
 "nbformat": 4,
 "nbformat_minor": 2,
 "cells": [
  {
   "cell_type": "code",
   "execution_count": null,
   "metadata": {},
   "outputs": [],
   "source": [
    "import pandas as pd\n",
    "import seaborn  as sns\n",
    "from datetime import datetime\n",
    "import random\n",
    "import matplotlib.pyplot as plt\n"
   ]
  },
  {
   "cell_type": "code",
   "execution_count": null,
   "metadata": {},
   "outputs": [],
   "source": [
    "DATA_rec = pd.read_csv(\"../FDA Registration Record/510k/pmnlstmn.txt\", sep = \"|\",encoding='cp1252')\n",
    "DATA_96cur = pd.read_csv(\"../FDA Registration Record/510k/pmn96cur.txt\", sep = \"|\",encoding='cp1252')\n",
    "DATA_9195 = pd.read_csv(\"../FDA Registration Record/510k/pmn9195.txt\", sep = \"|\",encoding='cp1252')\n",
    "DATA_8690 = pd.read_csv(\"../FDA Registration Record/510k/pmn8690.txt\", sep = \"|\",encoding='cp1252')\n",
    "DATA_8185 = pd.read_csv(\"../FDA Registration Record/510k/pmn8185.txt\", sep = \"|\",encoding='cp1252')\n",
    "DATA_7680 = pd.read_csv(\"../FDA Registration Record/510k/pmn7680.txt\", sep = \"|\",encoding='cp1252')\n",
    "\n",
    "DATA = pd.concat([DATA_rec, DATA_96cur, DATA_9195, DATA_8690, DATA_8185, DATA_7680])\n",
    "\n",
    "if   len(DATA.index) == (len(DATA_rec) + len(DATA_96cur) + len(DATA_9195) + len(DATA_8690) + len(DATA_8185) + len(DATA_7680)):\n",
    "    print(f\"Datasets concat successfully!!\\nTotal elements number is {len(DATA.index)}\\n\\n\")\n",
    "\n",
    "print(DATA.columns)"
   ]
  },
  {
   "cell_type": "code",
   "execution_count": null,
   "metadata": {},
   "outputs": [],
   "source": [
    "DATA"
   ]
  },
  {
   "source": [
    "# The objective is to find a variety of relationships between FDA Product Code and the average time taken for a final Decision:\n"
   ],
   "cell_type": "markdown",
   "metadata": {}
  },
  {
   "source": [
    "## 1. From 1976 to now:"
   ],
   "cell_type": "markdown",
   "metadata": {}
  },
  {
   "cell_type": "code",
   "execution_count": null,
   "metadata": {},
   "outputs": [],
   "source": [
    "date_format = \"%m/%d/%Y\"\n",
    "def cal_time_length(date1, date2):\n",
    "    d0 = datetime.strptime(date1, date_format)\n",
    "    d1 = datetime.strptime(date2, date_format)\n",
    "    delta = d1 - d0\n",
    "    return delta.days\n",
    "\n"
   ]
  },
  {
   "source": [
    "### Distributions:"
   ],
   "cell_type": "markdown",
   "metadata": {}
  },
  {
   "cell_type": "code",
   "execution_count": null,
   "metadata": {},
   "outputs": [],
   "source": [
    "TIME_LENGTH_df = DATA[[\"PRODUCTCODE\",\"DATERECEIVED\", \"DECISIONDATE\", \"COUNTRY_CODE\", \"APPLICANT\", \"THIRD PARTY FLAG]]\n",
    "recieved_date = TIME_LENGTH_df['DATERECEIVED'].tolist()\n",
    "decision_date = TIME_LENGTH_df[\"DECISIONDATE\"].tolist()\n",
    "time_length = []\n",
    "for i in range(len(recieved_date)):\n",
    "    time_length.append(cal_time_length(recieved_date[i], decision_date[i]))\n",
    "TIME_LENGTH_df['DECISIONMAKINGTIME(days)'] = time_length\n",
    "AVERAGE_TIME = TIME_LENGTH_df.groupby('PRODUCTCODE', as_index= False)['DECISIONMAKINGTIME(days)'].mean()"
   ]
  },
  {
   "cell_type": "code",
   "execution_count": null,
   "metadata": {},
   "outputs": [],
   "source": [
    "print(f\"total number of product code types from 1976 till now is {len(AVERAGE_TIME.index)}\")\n",
    "print(f\"total case number from 1976 till now is {len(TIME_LENGTH_df)}\")"
   ]
  },
  {
   "cell_type": "code",
   "execution_count": null,
   "metadata": {},
   "outputs": [],
   "source": [
    "# The size of the entire dataset is too big, only we're taking only the 20 datasets with the highest overall frequency to be displayed on a graph for better visulization . \n",
    "TOP10 = TIME_LENGTH_df['PRODUCTCODE'].value_counts()[:10].index.tolist()\n",
    "AVERAGE_TIME_TOP10 = AVERAGE_TIME.loc[AVERAGE_TIME['PRODUCTCODE'].isin(TOP10)]\n",
    "\n",
    "sns.set_theme(style=\"whitegrid\")\n",
    "aver_t_plot = sns.barplot(x = \"PRODUCTCODE\", y = \"DECISIONMAKINGTIME(days)\", data = AVERAGE_TIME_TOP10)\n",
    "plt.show()"
   ]
  },
  {
   "cell_type": "code",
   "execution_count": null,
   "metadata": {},
   "outputs": [],
   "source": [
    "# Second of the top 20, can change number of product code by change the [10:20] to any other number range  \n",
    "TOP20 = TIME_LENGTH_df['PRODUCTCODE'].value_counts()[10:20].index.tolist()\n",
    "AVERAGE_TIME_TOP20 = AVERAGE_TIME.loc[AVERAGE_TIME['PRODUCTCODE'].isin(TOP20)]\n",
    "AVERAGE_TIME_TOP20.head(20)\n",
    "\n",
    "sns.set_theme(style=\"whitegrid\")\n",
    "aver_t_plot = sns.barplot(x = \"PRODUCTCODE\", y = \"DECISIONMAKINGTIME(days)\", data = AVERAGE_TIME_TOP20)\n",
    "plt.show()"
   ]
  },
  {
   "source": [
    "###  Top 20th most frequently apply product code from 1976 to now："
   ],
   "cell_type": "markdown",
   "metadata": {}
  },
  {
   "cell_type": "code",
   "execution_count": null,
   "metadata": {},
   "outputs": [],
   "source": [
    "Top20_productcode = TIME_LENGTH_df['PRODUCTCODE'].value_counts()[0:20].index.tolist()\n",
    "Top20_productcode_counts = TIME_LENGTH_df['PRODUCTCODE'].value_counts()[0:20].tolist()\n",
    "TIME_LENGTH_df['PRODUCTCODE'].value_counts()[0:20]"
   ]
  },
  {
   "source": [
    "### The product code for the Longest Time:"
   ],
   "cell_type": "markdown",
   "metadata": {}
  },
  {
   "cell_type": "code",
   "execution_count": null,
   "metadata": {},
   "outputs": [],
   "source": [
    "MAX_TIME_L = AVERAGE_TIME.sort_values(by=['DECISIONMAKINGTIME(days)'], ascending= False)\n",
    "MAX_TIME_L.head(1)"
   ]
  },
  {
   "source": [
    "### Result: The longest Time period of making decision is 2201 days for Product PBK from 1976 till now."
   ],
   "cell_type": "markdown",
   "metadata": {}
  },
  {
   "source": [
    "###  Top 5 product codes for the Shortest Application Time:"
   ],
   "cell_type": "markdown",
   "metadata": {}
  },
  {
   "cell_type": "code",
   "execution_count": null,
   "metadata": {},
   "outputs": [],
   "source": [
    "MIN_TIME_L = AVERAGE_TIME.sort_values(by=['DECISIONMAKINGTIME(days)'])\n",
    "MIN_TIME_L.head(5)"
   ]
  },
  {
   "source": [
    "### Result: For product code DJH, it took less than 1 day to make decision, and for KIK, ESH, IFZ, OUC their average time length is 4 ,6, 6, 7 days."
   ],
   "cell_type": "markdown",
   "metadata": {}
  },
  {
   "source": [
    "# 2.  The below data focuses on the most recent timeframes"
   ],
   "cell_type": "markdown",
   "metadata": {}
  },
  {
   "cell_type": "code",
   "execution_count": null,
   "metadata": {},
   "outputs": [],
   "source": [
    "TIME_LENGTH_df_rec = DATA_rec[[\"PRODUCTCODE\",\"DATERECEIVED\", \"DECISIONDATE\"]]\n",
    "recieved_date = TIME_LENGTH_df_rec['DATERECEIVED'].tolist()\n",
    "decision_date = TIME_LENGTH_df_rec[\"DECISIONDATE\"].tolist()\n",
    "time_length = []\n",
    "for i in range(len(recieved_date)):\n",
    "    time_length.append(cal_time_length(recieved_date[i], decision_date[i]))\n",
    "TIME_LENGTH_df_rec['DECISIONMAKINGTIME(days)'] = time_length\n",
    "AVERAGE_TIME_rec = TIME_LENGTH_df_rec.groupby('PRODUCTCODE', as_index= False)['DECISIONMAKINGTIME(days)'].mean()"
   ]
  },
  {
   "source": [
    "### Distribution:"
   ],
   "cell_type": "markdown",
   "metadata": {}
  },
  {
   "cell_type": "code",
   "execution_count": null,
   "metadata": {},
   "outputs": [],
   "source": [
    "print(f\"total number of product code types recently is {len(AVERAGE_TIME_rec.index)}\")\n",
    "print(f\"total case number recently is {len(TIME_LENGTH_df_rec)}\")"
   ]
  },
  {
   "source": [
    "## The top #1-#10 product codes and their average approval time:\n"
   ],
   "cell_type": "markdown",
   "metadata": {}
  },
  {
   "cell_type": "code",
   "execution_count": null,
   "metadata": {},
   "outputs": [],
   "source": [
    "TOP10_rec = TIME_LENGTH_df_rec['PRODUCTCODE'].value_counts()[:10].index.tolist()\n",
    "AVERAGE_TIME_TOP10_rec = AVERAGE_TIME_rec.loc[AVERAGE_TIME_rec['PRODUCTCODE'].isin(TOP10_rec)]\n",
    "\n",
    "sns.set_theme(style=\"whitegrid\")\n",
    "aver_t_plot = sns.barplot(x = \"PRODUCTCODE\", y = \"DECISIONMAKINGTIME(days)\", data = AVERAGE_TIME_TOP10_rec)\n",
    "plt.show()"
   ]
  },
  {
   "source": [
    "## The top #10-#20 product codes and their average approval time:"
   ],
   "cell_type": "markdown",
   "metadata": {}
  },
  {
   "cell_type": "code",
   "execution_count": null,
   "metadata": {},
   "outputs": [],
   "source": [
    "TOP20_rec = TIME_LENGTH_df_rec['PRODUCTCODE'].value_counts()[10:20].index.tolist()\n",
    "AVERAGE_TIME_TOP20_rec = AVERAGE_TIME_rec.loc[AVERAGE_TIME_rec['PRODUCTCODE'].isin(TOP20_rec)]\n",
    "AVERAGE_TIME_TOP20_rec.head(20)\n",
    "\n",
    "sns.set_theme(style=\"whitegrid\")\n",
    "aver_t_plot = sns.barplot(x = \"PRODUCTCODE\", y = \"DECISIONMAKINGTIME(days)\", data = AVERAGE_TIME_TOP20_rec)\n",
    "plt.show()"
   ]
  },
  {
   "source": [
    "###  Top 20 most frequently applied product codes recently："
   ],
   "cell_type": "markdown",
   "metadata": {}
  },
  {
   "cell_type": "code",
   "execution_count": null,
   "metadata": {},
   "outputs": [],
   "source": [
    "Top20_productcode = TIME_LENGTH_df_rec['PRODUCTCODE'].value_counts()[0:20].index.tolist()\n",
    "Top20_productcode_counts = TIME_LENGTH_df_rec['PRODUCTCODE'].value_counts()[0:20].tolist()\n",
    "TIME_LENGTH_df_rec['PRODUCTCODE'].value_counts()[0:20]"
   ]
  },
  {
   "source": [
    "### Longest Time Length Recently:"
   ],
   "cell_type": "markdown",
   "metadata": {}
  },
  {
   "cell_type": "code",
   "execution_count": null,
   "metadata": {},
   "outputs": [],
   "source": [
    "MAX_TIME_L_rec = AVERAGE_TIME_rec.sort_values(by=['DECISIONMAKINGTIME(days)'], ascending= False)\n",
    "MAX_TIME_L_rec.head(1)"
   ]
  },
  {
   "source": [
    "### Result: The longest Time period of making decision is 682 days for Product EBG recently."
   ],
   "cell_type": "markdown",
   "metadata": {}
  },
  {
   "source": [
    "### Shortest Time Length Recently:"
   ],
   "cell_type": "markdown",
   "metadata": {}
  },
  {
   "cell_type": "code",
   "execution_count": null,
   "metadata": {},
   "outputs": [],
   "source": [
    "MIN_TIME_L_rec = AVERAGE_TIME_rec.sort_values(by=['DECISIONMAKINGTIME(days)'])\n",
    "MIN_TIME_L_rec.head(1)"
   ]
  },
  {
   "source": [
    "### Result: The shortest Time period of making decision is 14 days for Product DQO recently."
   ],
   "cell_type": "markdown",
   "metadata": {}
  },
  {
   "source": [
    "# 3. From 1996 to Now:"
   ],
   "cell_type": "markdown",
   "metadata": {}
  },
  {
   "cell_type": "code",
   "execution_count": null,
   "metadata": {},
   "outputs": [],
   "source": [
    "TIME_LENGTH_df_96 = DATA_96cur[[\"PRODUCTCODE\",\"DATERECEIVED\", \"DECISIONDATE\"]]\n",
    "recieved_date = TIME_LENGTH_df_96['DATERECEIVED'].tolist()\n",
    "decision_date = TIME_LENGTH_df_96[\"DECISIONDATE\"].tolist()\n",
    "time_length = []\n",
    "for i in range(len(recieved_date)):\n",
    "    time_length.append(cal_time_length(recieved_date[i], decision_date[i]))\n",
    "TIME_LENGTH_df_96['DECISIONMAKINGTIME(days)'] = time_length\n",
    "AVERAGE_TIME_96 = TIME_LENGTH_df_96.groupby('PRODUCTCODE', as_index= False)['DECISIONMAKINGTIME(days)'].mean()"
   ]
  },
  {
   "source": [
    "### Distributions:"
   ],
   "cell_type": "markdown",
   "metadata": {}
  },
  {
   "cell_type": "code",
   "execution_count": null,
   "metadata": {},
   "outputs": [],
   "source": [
    "print(f\"total number of product code types from 1996 till now is {len(AVERAGE_TIME_96.index)}\")\n",
    "print(f\"total case number recently from 1996 till now is {len(TIME_LENGTH_df_96)}\")"
   ]
  },
  {
   "cell_type": "code",
   "execution_count": null,
   "metadata": {},
   "outputs": [],
   "source": [
    "TOP10_96 = TIME_LENGTH_df_96['PRODUCTCODE'].value_counts()[:10].index.tolist()\n",
    "AVERAGE_TIME_TOP10_96 = AVERAGE_TIME_96.loc[AVERAGE_TIME_96['PRODUCTCODE'].isin(TOP10)]\n",
    "\n",
    "sns.set_theme(style=\"whitegrid\")\n",
    "aver_t_plot = sns.barplot(x = \"PRODUCTCODE\", y = \"DECISIONMAKINGTIME(days)\", data = AVERAGE_TIME_TOP10_96)\n",
    "plt.show()"
   ]
  },
  {
   "cell_type": "code",
   "execution_count": null,
   "metadata": {},
   "outputs": [],
   "source": [
    "TOP20_96 = TIME_LENGTH_df_96['PRODUCTCODE'].value_counts()[10:20].index.tolist()\n",
    "AVERAGE_TIME_TOP20_96 = AVERAGE_TIME_96.loc[AVERAGE_TIME_96['PRODUCTCODE'].isin(TOP20_96)]\n",
    "AVERAGE_TIME_TOP20_96.head(20)\n",
    "\n",
    "sns.set_theme(style=\"whitegrid\")\n",
    "aver_t_plot = sns.barplot(x = \"PRODUCTCODE\", y = \"DECISIONMAKINGTIME(days)\", data = AVERAGE_TIME_TOP20_96)\n",
    "plt.show()"
   ]
  },
  {
   "source": [
    "###  Top 20th most frequently apply product code from 1996 till now："
   ],
   "cell_type": "markdown",
   "metadata": {}
  },
  {
   "cell_type": "code",
   "execution_count": null,
   "metadata": {},
   "outputs": [],
   "source": [
    "Top20_productcode = TIME_LENGTH_df_96['PRODUCTCODE'].value_counts()[0:20].index.tolist()\n",
    "Top20_productcode_counts = TIME_LENGTH_df_96['PRODUCTCODE'].value_counts()[0:20].tolist()\n",
    "TIME_LENGTH_df_96['PRODUCTCODE'].value_counts()[0:20]"
   ]
  },
  {
   "source": [
    "### Longest Time Length (1996 till now):"
   ],
   "cell_type": "markdown",
   "metadata": {}
  },
  {
   "cell_type": "code",
   "execution_count": null,
   "metadata": {},
   "outputs": [],
   "source": [
    "MAX_TIME_L_96 = AVERAGE_TIME_96.sort_values(by=['DECISIONMAKINGTIME(days)'], ascending= False)\n",
    "MAX_TIME_L_96.head(1)"
   ]
  },
  {
   "source": [
    "### Result: The longest Time period of making decision is 2201 days for Product PBK recently."
   ],
   "cell_type": "markdown",
   "metadata": {}
  },
  {
   "source": [
    "### Shortest Time Length (1996 TILL NOW):"
   ],
   "cell_type": "markdown",
   "metadata": {}
  },
  {
   "cell_type": "code",
   "execution_count": null,
   "metadata": {},
   "outputs": [],
   "source": [
    "MIN_TIME_L_96 = AVERAGE_TIME_96.sort_values(by=['DECISIONMAKINGTIME(days)'])\n",
    "MIN_TIME_L_96.head(1)"
   ]
  },
  {
   "source": [
    "### Result: The shortest Time period of making decision is 7 days for Product OUC recently."
   ],
   "cell_type": "markdown",
   "metadata": {}
  },
  {
   "source": [
    "---"
   ],
   "cell_type": "markdown",
   "metadata": {}
  },
  {
   "source": [
    "\n"
   ],
   "cell_type": "markdown",
   "metadata": {}
  },
  {
   "source": [
    "# Find the trend of 510k applicant from the pass 30 years"
   ],
   "cell_type": "markdown",
   "metadata": {}
  },
  {
   "source": [
    "---\n"
   ],
   "cell_type": "markdown",
   "metadata": {}
  },
  {
   "cell_type": "code",
   "execution_count": null,
   "metadata": {},
   "outputs": [],
   "source": [
    "DATA_30years = pd.concat([DATA_rec, DATA_96cur,DATA_9195])\n"
   ]
  },
  {
   "cell_type": "code",
   "execution_count": null,
   "metadata": {
    "tags": []
   },
   "outputs": [],
   "source": [
    "received_date = DATA_30years['DATERECEIVED'].tolist()\n",
    "received_year = []\n",
    "for date in received_date:\n",
    "    new_date = datetime.strptime(str(date), date_format)\n",
    "    received_year.append(new_date.year)\n",
    "DATA_30years['YEARRECEIVED'] = received_year"
   ]
  },
  {
   "source": [
    "## 1, PRODUCT CODE TREND\n"
   ],
   "cell_type": "markdown",
   "metadata": {}
  },
  {
   "cell_type": "code",
   "execution_count": null,
   "metadata": {},
   "outputs": [],
   "source": [
    "DATA_30YEARS_PC = DATA_30years[[\"PRODUCTCODE\", \"YEARRECEIVED\"]]"
   ]
  },
  {
   "cell_type": "code",
   "execution_count": null,
   "metadata": {},
   "outputs": [],
   "source": [
    "DATA_1020_PC = DATA_30YEARS_PC[DATA_30YEARS_PC['YEARRECEIVED'] >= 2010]\n",
    "DATA_0010_PC = DATA_30YEARS_PC[DATA_30YEARS_PC['YEARRECEIVED'].isin(range(2000,2010))]\n",
    "DATA_9000_PC = DATA_30YEARS_PC[DATA_30YEARS_PC['YEARRECEIVED'] < 2000]\n",
    "if len(DATA_30YEARS_PC.index) == (len(DATA_0010_PC.index) + len(DATA_9000_PC.index)  +  len(DATA_1020_PC.index)):\n",
    "    print('Split successfully!')\n",
    "else:\n",
    "    print(len(DATA_30YEARS_PC.index))\n",
    "    print((len(DATA_0010_PC.index) + len(DATA_9000_PC.index)  +  len(DATA_1020_PC.index)))"
   ]
  },
  {
   "cell_type": "code",
   "execution_count": null,
   "metadata": {},
   "outputs": [],
   "source": [
    "TOP10_1020_PC = DATA_1020_PC['PRODUCTCODE'].value_counts().index[0:10].tolist()\n",
    "TOP10_1020_Count = DATA_1020_PC['PRODUCTCODE'].value_counts()[0:10].tolist()\n",
    "\n",
    "sns.set_theme(style=\"whitegrid\")\n",
    "TOP10_1020_P_plot = sns.barplot( TOP10_1020_PC, TOP10_1020_Count)\n",
    "plt.show()\n",
    "\n"
   ]
  },
  {
   "cell_type": "code",
   "execution_count": null,
   "metadata": {},
   "outputs": [],
   "source": [
    "TOP10_0010_PC = DATA_0010_PC['PRODUCTCODE'].value_counts().index[0:10].tolist()\n",
    "TOP10_0010_Count = DATA_0010_PC['PRODUCTCODE'].value_counts()[0:10].tolist()\n",
    "sns.set_theme(style=\"whitegrid\")\n",
    "TOP10_0010_P_plot = sns.barplot( TOP10_0010_PC, TOP10_0010_Count)\n",
    "plt.show()"
   ]
  },
  {
   "cell_type": "code",
   "execution_count": null,
   "metadata": {},
   "outputs": [],
   "source": [
    "TOP10_9000_PC = DATA_9000_PC['PRODUCTCODE'].value_counts().index[0:10].tolist()\n",
    "TOP10_9000_Count = DATA_9000_PC['PRODUCTCODE'].value_counts()[0:10].tolist()\n",
    "\n",
    "sns.set_theme(style=\"whitegrid\")\n",
    "TOP10_9000_P_plot = sns.barplot( TOP10_9000_PC, TOP10_9000_Count)\n",
    "plt.show()"
   ]
  },
  {
   "cell_type": "code",
   "execution_count": null,
   "metadata": {},
   "outputs": [],
   "source": [
    "COMMON_PC = []\n",
    "for i in range(10):\n",
    "    if TOP10_1020_PC[i] in TOP10_0010_PC and TOP10_1020_PC[i] in TOP10_9000_PC:\n",
    "        COMMON_PC.append(TOP10_1020_PC[i])\n",
    "\n",
    "print(f\"The most common product codes that dominate each decade are {COMMON_PC}\")"
   ]
  },
  {
   "cell_type": "code",
   "execution_count": null,
   "metadata": {},
   "outputs": [],
   "source": [
    "DATA_30years_PC_year = DATA_30years[['PRODUCTCODE','YEARRECEIVED']]\n",
    "DATA_COMMON = DATA_30years_PC_year[DATA_30years_PC_year[\"PRODUCTCODE\"].isin(COMMON_PC)]\n",
    "DATA_COMMON"
   ]
  },
  {
   "cell_type": "code",
   "execution_count": null,
   "metadata": {},
   "outputs": [],
   "source": [
    "COMMON_PC_YEAR_COUNT = DATA_COMMON.groupby([\"PRODUCTCODE\", \"YEARRECEIVED\"], as_index = False).size()"
   ]
  },
  {
   "cell_type": "code",
   "execution_count": null,
   "metadata": {},
   "outputs": [],
   "source": [
    "sns.lineplot(data=COMMON_PC_YEAR_COUNT, x=\"YEAR RECEIVED\", y=\"Size\", hue=\"PRODUCT CODE\")"
   ]
  },
  {
   "source": [
    "## 2. Trends by country of origin"
   ],
   "cell_type": "markdown",
   "metadata": {}
  },
  {
   "cell_type": "code",
   "execution_count": null,
   "metadata": {},
   "outputs": [],
   "source": [
    "# Main dataframe is DATA_30years\n",
    "DATA_30YEARS_CY = DATA_30years[[\"COUNTRY_CODE\",\"YEARRECEIVED\"]]\n",
    "DATA_30YEARS_CY"
   ]
  },
  {
   "cell_type": "code",
   "execution_count": null,
   "metadata": {},
   "outputs": [],
   "source": [
    "DATA_1020_CY = DATA_30YEARS_CY[DATA_30YEARS_CY['YEARRECEIVED'] >= 2010]\n",
    "DATA_0010_CY = DATA_30YEARS_CY[DATA_30YEARS_CY['YEARRECEIVED'].isin(range(2000,2010))]\n",
    "DATA_9000_CY = DATA_30YEARS_CY[DATA_30YEARS_CY['YEARRECEIVED'] < 2000]\n",
    "if len(DATA_30YEARS_CY.index) == (len(DATA_1020_CY.index) + len(DATA_0010_CY.index)  +  len(DATA_9000_CY.index)):\n",
    "    print('Split successfully!')\n",
    "else:\n",
    "    print(len(DATA_30YEARS_CY.index))\n",
    "    print((len(DATA_1020_CY.index) + len(DATA_0010_CY.index)  +  len(DATA_9000_CY.index)))"
   ]
  },
  {
   "source": [
    "# Dominant countries and their number of applications visualied throughout 3 decades"
   ],
   "cell_type": "markdown",
   "metadata": {}
  },
  {
   "cell_type": "code",
   "execution_count": null,
   "metadata": {},
   "outputs": [],
   "source": [
    "TOP10_1020_CY = DATA_1020_CY['COUNTRY_CODE'].value_counts().index[0:10].tolist()\n",
    "TOP10_1020_CY_Count = DATA_1020_CY['COUNTRY_CODE'].value_counts()[0:10].tolist()\n",
    "\n",
    "sns.set_theme(style=\"whitegrid\")\n",
    "TOP10_1020_C_plot = sns.barplot( TOP10_1020_CY, TOP10_1020_CY_Count)\n",
    "plt.show()"
   ]
  },
  {
   "cell_type": "code",
   "execution_count": null,
   "metadata": {},
   "outputs": [],
   "source": [
    "TOP10_0010_CY = DATA_0010_CY['COUNTRY_CODE'].value_counts().index[0:10].tolist()\n",
    "TOP10_0010_CY_Count = DATA_0010_CY['COUNTRY_CODE'].value_counts()[0:10].tolist()\n",
    "\n",
    "sns.set_theme(style=\"whitegrid\")\n",
    "TOP10_0010_C_plot = sns.barplot( TOP10_0010_CY, TOP10_0010_CY_Count)\n",
    "plt.show()"
   ]
  },
  {
   "cell_type": "code",
   "execution_count": null,
   "metadata": {},
   "outputs": [],
   "source": [
    "TOP10_9000_CY = DATA_9000_CY['COUNTRY_CODE'].value_counts().index[0:10].tolist()\n",
    "TOP10_9000_CY_Count = DATA_9000_CY['COUNTRY_CODE'].value_counts()[0:10].tolist()\n",
    "\n",
    "sns.set_theme(style=\"whitegrid\")\n",
    "TOP10_9000_C_plot = sns.barplot( TOP10_9000_CY, TOP10_9000_CY_Count)\n",
    "plt.show()"
   ]
  },
  {
   "cell_type": "code",
   "execution_count": null,
   "metadata": {},
   "outputs": [],
   "source": [
    "COMMON_CY = []\n",
    "for i in range(10):\n",
    "    if TOP10_1020_CY[i] in TOP10_0010_CY and TOP10_1020_CY[i] in TOP10_9000_CY:\n",
    "        COMMON_CY.append(TOP10_1020_CY[i])\n",
    "\n",
    "print(f\"The most common country where the applicants that dominate each decade from are {COMMON_CY}\")"
   ]
  },
  {
   "cell_type": "code",
   "execution_count": null,
   "metadata": {},
   "outputs": [],
   "source": [
    "DATA_30years_CY_year = DATA_30years[['COUNTRY_CODE','YEARRECEIVED']]\n",
    "DATA_COMMON_CY = DATA_30years_CY_year[DATA_30years_CY_year[\"COUNTRY_CODE\"].isin(COMMON_CY)]"
   ]
  },
  {
   "cell_type": "code",
   "execution_count": null,
   "metadata": {},
   "outputs": [],
   "source": [
    "COMMON_CY_YEAR_COUNT = DATA_COMMON_CY.groupby([\"COUNTRY_CODE\", \"YEARRECEIVED\"], as_index = False).size()\n",
    "COMMON_CY_YEAR_COUNT_US = COMMON_CY_YEAR_COUNT[COMMON_CY_YEAR_COUNT[\"COUNTRY_CODE\"] == \"US\"]\n",
    "COMMON_CY_YEAR_COUNT_OTHER = COMMON_CY_YEAR_COUNT[COMMON_CY_YEAR_COUNT[\"COUNTRY_CODE\"] != \"US\"]"
   ]
  },
  {
   "cell_type": "code",
   "execution_count": null,
   "metadata": {},
   "outputs": [],
   "source": [
    "# Since the number of US applicants is faily large, in order for better visualization the trend for the US has been seperated from the other 5 common countries. \n",
    "sns.lineplot(data=COMMON_CY_YEAR_COUNT_US, x=\"YEARRECEIVED\", y=\"size\", hue=\"COUNTRY_CODE\")"
   ]
  },
  {
   "cell_type": "code",
   "execution_count": null,
   "metadata": {},
   "outputs": [],
   "source": [
    "sns.lineplot(data=COMMON_CY_YEAR_COUNT_OTHER, x=\"YEARRECEIVED\", y=\"size\", hue=\"COUNTRY_CODE\")"
   ]
  },
  {
   "source": [
    "## 3. Applicants by corporation and their most dominant trends:"
   ],
   "cell_type": "markdown",
   "metadata": {}
  },
  {
   "cell_type": "code",
   "execution_count": null,
   "metadata": {},
   "outputs": [],
   "source": [
    "# Main dataframe is DATA_30years\n",
    "DATA_30YEARS_AP = DATA_30years[[\"APPLICANT\", \"YEARRECEIVED\"]]\n",
    "DATA_30YEARS_AP"
   ]
  },
  {
   "cell_type": "code",
   "execution_count": null,
   "metadata": {},
   "outputs": [],
   "source": [
    "DATA_1020_AP = DATA_30YEARS_AP[DATA_30YEARS_AP['YEARRECEIVED'] >= 2010]\n",
    "DATA_0010_AP = DATA_30YEARS_AP[DATA_30YEARS_AP['YEARRECEIVED'].isin(range(2000,2010))]\n",
    "DATA_9000_AP = DATA_30YEARS_AP[DATA_30YEARS_AP['YEARRECEIVED'] < 2000]\n",
    "if len(DATA_30YEARS_AP.index) == (len(DATA_1020_AP.index) + len(DATA_0010_AP.index)  +  len(DATA_9000_AP.index)):\n",
    "    print('Split successfully!')\n",
    "else:\n",
    "    print(len(DATA_30YEARS_AP.index))\n",
    "    print((len(DATA_1020_AP.index) + len(DATA_0010_AP.index)  +  len(DATA_9000_AP.index)))"
   ]
  },
  {
   "source": [
    "## Most dominant corpoations and their frequency of applications through the decades"
   ],
   "cell_type": "markdown",
   "metadata": {}
  },
  {
   "cell_type": "code",
   "execution_count": null,
   "metadata": {},
   "outputs": [],
   "source": [
    "TOP10_1020_AP = DATA_1020_AP['APPLICANT'].value_counts().index[0:10].tolist()\n",
    "TOP10_1020_AP_Count = DATA_1020_AP['APPLICANT'].value_counts()[0:10].tolist()\n",
    "\n",
    "sns.set_theme(style=\"whitegrid\")\n",
    "TOP10_1020_AP_plot = sns.barplot( TOP10_1020_AP, TOP10_1020_AP_Count)\n",
    "TOP10_1020_AP_plot.set_xticklabels(TOP10_1020_AP_plot.get_xticklabels(), rotation=40, ha=\"right\")\n",
    "\n",
    "plt.show()"
   ]
  },
  {
   "cell_type": "code",
   "execution_count": null,
   "metadata": {},
   "outputs": [],
   "source": [
    "TOP10_0010_AP = DATA_0010_AP['APPLICANT'].value_counts().index[0:10].tolist()\n",
    "TOP10_0010_AP_Count = DATA_0010_AP['APPLICANT'].value_counts()[0:10].tolist()\n",
    "\n",
    "sns.set_theme(style=\"whitegrid\")\n",
    "TOP10_0010_AP_plot = sns.barplot( TOP10_0010_AP, TOP10_0010_AP_Count)\n",
    "TOP10_0010_AP_plot.set_xticklabels(TOP10_0010_AP_plot.get_xticklabels(), rotation=40, ha=\"right\")\n",
    "\n",
    "plt.show()"
   ]
  },
  {
   "cell_type": "code",
   "execution_count": null,
   "metadata": {},
   "outputs": [],
   "source": [
    "TOP10_9000_AP = DATA_9000_AP['APPLICANT'].value_counts().index[0:10].tolist()\n",
    "TOP10_9000_AP_Count = DATA_9000_AP['APPLICANT'].value_counts()[0:10].tolist()\n",
    "\n",
    "sns.set_theme(style=\"whitegrid\")\n",
    "TOP10_9000_AP_plot = sns.barplot( TOP10_9000_AP, TOP10_9000_AP_Count)\n",
    "TOP10_9000_AP_plot.set_xticklabels(TOP10_9000_AP_plot.get_xticklabels(), rotation=40, ha=\"right\")\n",
    "\n",
    "plt.show()"
   ]
  },
  {
   "source": [
    "COMMON_AP = []\n",
    "for i in range(10):\n",
    "    if TOP10_1020_AP[i] in TOP10_0010_AP and TOP10_1020_AP[i] in TOP10_9000_AP:\n",
    "        COMMON_AP.append(TOP10_1020_AP[i])\n",
    "\n",
    "print(f\"The most common applicants that dominate each decade from are {COMMON_AP}\")"
   ],
   "cell_type": "code",
   "metadata": {},
   "execution_count": null,
   "outputs": []
  },
  {
   "source": [
    "# The number of applications per top 10 coprorations"
   ],
   "cell_type": "markdown",
   "metadata": {}
  },
  {
   "cell_type": "code",
   "execution_count": null,
   "metadata": {},
   "outputs": [],
   "source": [
    "TOP10_30Y_MODE_AP = DATA_30YEARS_AP['APPLICANT'].value_counts()[:10].index.tolist()\n",
    "TOP10_30Y_MODE_AP_VALUE = DATA_30YEARS_AP['APPLICANT'].value_counts()[:10].tolist()\n",
    "DATA_30YEARS_AP['APPLICANT'].value_counts()[:10]"
   ]
  },
  {
   "cell_type": "code",
   "execution_count": null,
   "metadata": {},
   "outputs": [],
   "source": [
    "TOP3_30Y_MODE_AP =  TOP10_30Y_MODE_AP[0:3]\n",
    "TOP10_30Y_MODE_AP =  TOP10_30Y_MODE_AP[3:10]\n",
    "TOP3_30Y_MODE_AP\n"
   ]
  },
  {
   "cell_type": "code",
   "execution_count": null,
   "metadata": {},
   "outputs": [],
   "source": [
    "DATA_TOP3_AP = DATA_30YEARS_AP[DATA_30YEARS_AP[\"APPLICANT\"].isin(TOP3_30Y_MODE_AP)]\n",
    "DATA_TOP3_AP_COUNT = DATA_TOP3_AP.groupby([\"APPLICANT\", \"YEARRECEIVED\"], as_index = False).size()\n",
    "DATA_30YEARS_AP[DATA_30YEARS_AP[\"APPLICANT\"].isin(TOP3_30Y_MODE_AP)]\n",
    "DATA_TOP3_AP_COUNT"
   ]
  },
  {
   "source": [
    "## The Annual Trends of the Top 3 Applicant Corporations "
   ],
   "cell_type": "code",
   "metadata": {},
   "execution_count": null,
   "outputs": []
  },
  {
   "cell_type": "code",
   "execution_count": null,
   "metadata": {},
   "outputs": [],
   "source": [
    "sns.lineplot(data=DATA_TOP3_AP_COUNT, x=\"YEARRECEIVED\", y=\"size\", hue=\"APPLICANT\").set_title(\"Top 3 companies applications number annually change\")"
   ]
  },
  {
   "source": [
    "## Note: the Siemens Medical Solutions Inc USA seems to be the most stable and consistent company through the time periods"
   ],
   "cell_type": "markdown",
   "metadata": {}
  },
  {
   "source": [
    "## 4. Number of Applicants Trend from 1995 to 2015"
   ],
   "cell_type": "markdown",
   "metadata": {}
  },
  {
   "cell_type": "code",
   "execution_count": null,
   "metadata": {},
   "outputs": [],
   "source": [
    "# Main dataframe is DATA_30years\n",
    "APPLICANT_YEAR = DATA_30years[['YEARRECEIVED']]\n",
    "APPLICANT_YEAR"
   ]
  },
  {
   "cell_type": "code",
   "execution_count": null,
   "metadata": {},
   "outputs": [],
   "source": [
    "AP_NUM_15 = APPLICANT_YEAR[APPLICANT_YEAR['YEARRECEIVED'] >= 2015]\n",
    "AP_NUM_10 = APPLICANT_YEAR[APPLICANT_YEAR['YEARRECEIVED'].isin(range(2010,2015))]\n",
    "AP_NUM_05 = APPLICANT_YEAR[APPLICANT_YEAR['YEARRECEIVED'].isin(range(2005,2010))]\n",
    "AP_NUM_00 = APPLICANT_YEAR[APPLICANT_YEAR['YEARRECEIVED'].isin(range(2000,2005))]\n",
    "AP_NUM_95 = APPLICANT_YEAR[APPLICANT_YEAR['YEARRECEIVED'].isin(range(1995,2000))]\n",
    "AP_NUM_90 = APPLICANT_YEAR[APPLICANT_YEAR['YEARRECEIVED'] < 1995]\n",
    "if (len(AP_NUM_15) + len(AP_NUM_10) + len(AP_NUM_05) + len(AP_NUM_00) + len(AP_NUM_95) + len(AP_NUM_90)) == len(APPLICANT_YEAR):\n",
    "    print(\"split successfully!\")\n",
    "else:\n",
    "    print(f\"Splitted number is {(len(AP_NUM_15) + len(AP_NUM_10) + len(AP_NUM_05) + len(AP_NUM_00) + len(AP_NUM_95) + len(AP_NUM_90))}\")\n",
    "    print(f'Total Number is {len(APPLICANT_YEAR)}')\n"
   ]
  },
  {
   "cell_type": "code",
   "execution_count": null,
   "metadata": {},
   "outputs": [],
   "source": [
    "d = {\"Period\":[ \"1995\", \"2000\", \"2005\", \"2010\", \"2015\", \"2020\"], \"Number\"  : [ len(AP_NUM_90),  len(AP_NUM_95), len(AP_NUM_00), len(AP_NUM_05), len(AP_NUM_10), len(AP_NUM_15),]}\n",
    "APP_NUMBER_TREND = pd.DataFrame(data  = d)\n",
    "APP_NUMBER_TREND"
   ]
  },
  {
   "cell_type": "code",
   "execution_count": null,
   "metadata": {},
   "outputs": [],
   "source": [
    "sns.lineplot(data=APP_NUMBER_TREND, x=\"Period\", y=\"Number\").set_title(\"Applicants per year trend in past 30 years!\")\n",
    "plt.show()"
   ]
  },
  {
   "cell_type": "code",
   "execution_count": null,
   "metadata": {},
   "outputs": [],
   "source": []
  },
  {
   "source": [
    "# Specific Analytics of the Top 3 most consistent product codes of each decade (the 90s, early 2000s, and 2010-2020)"
   ],
   "cell_type": "markdown",
   "metadata": {}
  },
  {
   "source": [
    "### The most successful companies behind the high frequency of the GEX (Laser surgical implementations) product code"
   ],
   "cell_type": "markdown",
   "metadata": {}
  },
  {
   "cell_type": "code",
   "execution_count": null,
   "metadata": {},
   "outputs": [],
   "source": [
    "DATA_TOPInc_PC = DATA_30years.groupby([\"PRODUCTCODE\",\"APPLICANT\"], as_index = False).size()\n",
    "DATA_TOPInc_PC_GEX = DATA_TOPInc_PC[DATA_TOPInc_PC['PRODUCTCODE'] == \"GEX\"]\n",
    "DATA_TOPInc_PC_GEX.sort_values(by=['size'], ascending = False).head(10)\n"
   ]
  },
  {
   "source": [
    "### The most successful companies behind the high frequency of the GEI (Electrosurgical cutting and coagulation devices) product code "
   ],
   "cell_type": "markdown",
   "metadata": {}
  },
  {
   "cell_type": "code",
   "execution_count": null,
   "metadata": {},
   "outputs": [],
   "source": [
    "DATA_TOPInc_PC = DATA_30years.groupby([\"PRODUCTCODE\",\"APPLICANT\"], as_index = False).size()\n",
    "DATA_TOPInc_PC_GEX = DATA_TOPInc_PC[DATA_TOPInc_PC['PRODUCTCODE'] == \"GEI\"]\n",
    "DATA_TOPInc_PC_GEX.sort_values(by=['size'], ascending = False).head(10)"
   ]
  },
  {
   "source": [
    "### The most successful companies behind the high frequency of the DZE (Dental implants) product code "
   ],
   "cell_type": "markdown",
   "metadata": {}
  },
  {
   "cell_type": "code",
   "execution_count": null,
   "metadata": {},
   "outputs": [],
   "source": [
    "DATA_TOPInc_PC = DATA_30years.groupby([\"PRODUCTCODE\",\"APPLICANT\"], as_index = False).size()\n",
    "DATA_TOPInc_PC_GEX = DATA_TOPInc_PC[DATA_TOPInc_PC['PRODUCTCODE'] == \"DZE\"]\n",
    "DATA_TOPInc_PC_GEX.sort_values(by=['size'], ascending = False).head(10)"
   ]
  },
  {
   "source": [
    "## The Shortest Application time frames from China since 1996"
   ],
   "cell_type": "markdown",
   "metadata": {}
  },
  {
   "cell_type": "code",
   "execution_count": null,
   "metadata": {},
   "outputs": [],
   "source": [
    "MIN_TIME_L_96_CN = TIME_LENGTH_df[TIME_LENGTH_df[\"COUNTRY_CODE\"] == \"CN\"]\n",
    "MIN_TIME_L_96_CN.sort_values(by=['DECISIONMAKINGTIME(days)']).head(5)"
   ]
  },
  {
   "source": [
    "##### The IYN product code refers to products that are catagorized as -> ultrasonic pulsed doppler imaging systems\n",
    "##### The DSA product code refers to products that are catagorizedd as -> Electrode Transducers and Cardiovascular devices\n",
    "##### The LYZ product code refers to products  that are categorized as -> Non-powdered patient examination gloves"
   ],
   "cell_type": "markdown",
   "metadata": {}
  },
  {
   "source": [
    "## The Longest Time frames from China since 1996"
   ],
   "cell_type": "markdown",
   "metadata": {}
  },
  {
   "cell_type": "code",
   "execution_count": null,
   "metadata": {},
   "outputs": [],
   "source": [
    "MIN_TIME_L_96_CN = TIME_LENGTH_df[TIME_LENGTH_df[\"COUNTRY_CODE\"] == \"CN\"]\n",
    "MIN_TIME_L_96_CN.sort_values(by=['DECISIONMAKINGTIME(days)'], ascending= False).head(5)"
   ]
  },
  {
   "source": [
    "## Most frequently appearing China based applicant"
   ],
   "cell_type": "markdown",
   "metadata": {}
  },
  {
   "cell_type": "code",
   "execution_count": null,
   "metadata": {},
   "outputs": [],
   "source": [
    "DATA_TOPInc_PC = DATA_30years.groupby([\"COUNTRY_CODE\",\"APPLICANT\"], as_index = False).size()\n",
    "DATA_TOPInc_PC_GEX = DATA_TOPInc_PC[DATA_TOPInc_PC['COUNTRY_CODE'] == \"CN\"]\n",
    "DATA_TOPInc_PC_GEX.sort_values(by=['size'], ascending = False).head(10)"
   ]
  },
  {
   "source": [
    "### The top product code from the most frequently appearing China based company"
   ],
   "cell_type": "markdown",
   "metadata": {}
  },
  {
   "cell_type": "code",
   "execution_count": null,
   "metadata": {},
   "outputs": [],
   "source": [
    "DATA_TOPInc_PC = DATA_30years.groupby([\"COUNTRY_CODE\",\"APPLICANT\",\"PRODUCTCODE\"], as_index = False).size()\n",
    "DATA_TOPInc_PC_GEX = DATA_TOPInc_PC[DATA_TOPInc_PC['APPLICANT'] == \"ANDON HEALTH CO.,LTD\"]\n",
    "DATA_TOPInc_PC_GEX.sort_values(by=['size'], ascending = False).head(10)"
   ]
  },
  {
   "source": [
    "#### For context, The DXN product code refers to -> Noninvasive blood pressure measurement systems of the cardiovascular category"
   ],
   "cell_type": "markdown",
   "metadata": {}
  },
  {
   "source": [
    "### Follow up -> China based applicants"
   ],
   "cell_type": "markdown",
   "metadata": {}
  },
  {
   "source": [
    "## Collected the K number cases for the most successful applicants from previous years based on popular PureFDA product codes (FXX, LZA, FYA, QBD, JSM, JSG,GEX, FLL)"
   ],
   "cell_type": "markdown",
   "metadata": {}
  },
  {
   "source": [
    "### -> Time taken With Third Party review"
   ],
   "cell_type": "markdown",
   "metadata": {}
  },
  {
   "cell_type": "code",
   "execution_count": null,
   "metadata": {},
   "outputs": [],
   "source": [
    "DATA_30years_PFDACodes = DATA_30years.groupby ([\"COUNTRY_CODE\",\"APPLICANT\",\"PRODUCTCODE\",\"510(K) NUMBER\",\"DECISIONMAKINGTIME(days)\",\"THIRD PARTY FLAG\"])\n",
    "DATA_30years_PFDACodesPT2 = [DATA_30years_PFDACodes[\"THIRD PARTY FLAG\"] == 'Y']\n",
    "DATA_30years_PFDACodesPT2.sort_values(by=['DECISIONMAKINGTIME(days)'], ascending = False).head(20)\n",
    "\n",
    "DATA_30years_PFDACodes_plotdata = DATA_30years[['PRODUCTCODE'] == \"FXX, LZA, FYA, QBD, JSM, JSG,GEX, FLL\"]].value_counts().index[0:10].tolist()\n",
    "DATA_30years_PFDACodes_count = DATA_30years['size'].value_counts()[0:10].tolist()\n",
    "\n",
    "sns.set_theme(style=\"whitegrid\")\n",
    "DATA_30years_PFDACodes_plot = sns.barplot( DATA_30years_PFDACodes, DATA_30years_PFDACodes_count)\n",
    "DATA_30years_PFDACodes_Plot.set_xticklabels(DATA_30years_PFDACodes_plot.get_xticklabels(), rotation=40, ha=\"right\")\n",
    "\n",
    "plt.show()\n",
    "\n",
    "sns.lineplot(data=DATA_30years_PFDACodes_plotdata, x=\"DATERECEIVED\", y=\"size\", hue=\"PRODUCTCODE\")"
   ]
  },
  {
   "source": [
    "### -> Time Taken Without Third Party review"
   ],
   "cell_type": "markdown",
   "metadata": {}
  },
  {
   "cell_type": "code",
   "execution_count": null,
   "metadata": {},
   "outputs": [],
   "source": [
    "DATA_30years_PFDACodes = DATA_30years.groupby ([\"COUNTRY_CODE\",\"APPLICANT\",\"PRODUCTCODE\",\"510(K) NUMBER\",\"DECISIONMAKINGTIME(days)\"])\n",
    "DATA_30years_PFDACodes_plotdata = DATA_30years_PFDACodes[['510(K) NUMBER'] == \"FXX, LZA, FYA, QBD, JSM, JSG,GEX, FLL\"]].value_counts().index[0:10].tolist()\n",
    "DATA_30years_PFDACodes_count = DATA_30years_PFDACodes['size'].value_counts()[0:10].tolist()\n",
    "DATA_30years_PFDACodes_plotdata.sort_values(by=['DECISIONMAKINGTIME(days)'], ascending = False).head(10)\n",
    "\n",
    "sns.set_theme(style=\"whitegrid\")\n",
    "DATA_30years_PFDACodes_plotdata = sns.barplot( DATA_30years_PFDACodes, DATA_30years_PFDACodes_count)\n",
    "DATA_30years_PFDACodes_plotdata.set_xticklabels(DATA_30years_PFDACodes_plotdata.get_xticklabels(), rotation=40, ha=\"right\")\n",
    "\n",
    "plt.title('Decision Making Time for PureFDAs Most Popular Product Codes(Sans Third Party Review)')\n",
    "plt.show()"
   ]
  },
  {
   "source": [
    "## Trend of product popular Purefda codes over time"
   ],
   "cell_type": "markdown",
   "metadata": {}
  },
  {
   "cell_type": "code",
   "execution_count": null,
   "metadata": {},
   "outputs": [],
   "source": [
    "sns.lineplot(data=DATA_30years_PFDACodes_plotdata, x=\"DATERECEIVED\", y=\"size\", hue=\"PRODUCTCODE\")"
   ]
  },
  {
   "source": [
    "## Find the most popular product codes over time in the China Region"
   ],
   "cell_type": "markdown",
   "metadata": {}
  },
  {
   "cell_type": "code",
   "execution_count": null,
   "metadata": {},
   "outputs": [],
   "source": [
    "MIN_TIME_L_96_CN = TIME_LENGTH_df[TIME_LENGTH_df[\"COUNTRY_CODE\"] == \"CN\"]\n",
    "MIN_TIME_L_3rdParty_CN = MIN_TIME_L_96_CN[[\"THIRD PARTY FLAG\"] == \"Y\"]\n",
    "MIN_TIME_L_3rdParty_CN.sort_values(by=['DECISIONMAKINGTIME(days)'], ascending= False).head(10)"
   ]
  }
 ]
}