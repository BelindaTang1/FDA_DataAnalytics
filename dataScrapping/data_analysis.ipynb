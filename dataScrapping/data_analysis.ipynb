{
 "metadata": {
  "language_info": {
   "codemirror_mode": {
    "name": "ipython",
    "version": 3
   },
   "file_extension": ".py",
   "mimetype": "text/x-python",
   "name": "python",
   "nbconvert_exporter": "python",
   "pygments_lexer": "ipython3",
   "version": "3.8.5-final"
  },
  "orig_nbformat": 2,
  "kernelspec": {
   "name": "python3",
   "display_name": "Python 3",
   "language": "python"
  }
 },
 "nbformat": 4,
 "nbformat_minor": 2,
 "cells": [
  {
   "cell_type": "code",
   "execution_count": 3,
   "metadata": {},
   "outputs": [],
   "source": [
    "import pandas as pd\n",
    "import seaborn  as sns\n",
    "from datetime import datetime\n",
    "import random\n",
    "import matplotlib.pyplot as plt\n"
   ]
  },
  {
   "cell_type": "code",
   "execution_count": 4,
   "metadata": {},
   "outputs": [
    {
     "output_type": "stream",
     "name": "stdout",
     "text": [
      "Datasets concat successfully!!\nTotal elements number is 158468\n\n\nIndex(['KNUMBER', 'APPLICANT', 'CONTACT', 'STREET1', 'STREET2', 'CITY',\n       'STATE', 'COUNTRY_CODE', 'ZIP', 'POSTAL_CODE', 'DATERECEIVED',\n       'DECISIONDATE', 'DECISION', 'REVIEWADVISECOMM', 'PRODUCTCODE',\n       'STATEORSUMM', 'CLASSADVISECOMM', 'SSPINDICATOR', 'TYPE', 'THIRDPARTY',\n       'EXPEDITEDREVIEW', 'DEVICENAME'],\n      dtype='object')\n"
     ]
    }
   ],
   "source": [
    "DATA_rec = pd.read_csv(\"../FDA Registration Record/510k/pmnlstmn.txt\", sep = \"|\",encoding='cp1252')\n",
    "DATA_96cur = pd.read_csv(\"../FDA Registration Record/510k/pmn96cur.txt\", sep = \"|\",encoding='cp1252')\n",
    "DATA_9195 = pd.read_csv(\"../FDA Registration Record/510k/pmn9195.txt\", sep = \"|\",encoding='cp1252')\n",
    "DATA_8690 = pd.read_csv(\"../FDA Registration Record/510k/pmn8690.txt\", sep = \"|\",encoding='cp1252')\n",
    "DATA_8185 = pd.read_csv(\"../FDA Registration Record/510k/pmn8185.txt\", sep = \"|\",encoding='cp1252')\n",
    "DATA_7680 = pd.read_csv(\"../FDA Registration Record/510k/pmn7680.txt\", sep = \"|\",encoding='cp1252')\n",
    "\n",
    "DATA = pd.concat([DATA_rec, DATA_96cur, DATA_9195, DATA_8690, DATA_8185, DATA_7680])\n",
    "\n",
    "if   len(DATA.index) == (len(DATA_rec) + len(DATA_96cur) + len(DATA_9195) + len(DATA_8690) + len(DATA_8185) + len(DATA_7680)):\n",
    "    print(f\"Datasets concat successfully!!\\nTotal elements number is {len(DATA.index)}\\n\\n\")\n",
    "\n",
    "print(DATA.columns)"
   ]
  },
  {
   "cell_type": "code",
   "execution_count": 3,
   "metadata": {},
   "outputs": [
    {
     "output_type": "execute_result",
     "data": {
      "text/plain": [
       "         KNUMBER                                  APPLICANT       CONTACT  \\\n",
       "0      DEN190035                            Helix OpCo, LLC   Gloria  Lee   \n",
       "1        K190217  Aidite (Qinhuangdao) Technology Co., Ltd.    Zhang  Wei   \n",
       "2        K191978                           HuBDIC Co., Ltd.  Shin  Jae-Ho   \n",
       "3        K192073                            Helix OpCo, LLC   Gloria  Lee   \n",
       "4        K192308                        Wu's Tech Co., Ltd.   Jen  Ke-Min   \n",
       "...          ...                                        ...           ...   \n",
       "10460    K803151                         ABCO DEALERS, INC.           NaN   \n",
       "10461    K803165                               ZIMMER, INC.           NaN   \n",
       "10462    K803174                              CONPHAR, INC.           NaN   \n",
       "10463    K803177                        DURO-MED IND., INC.           NaN   \n",
       "10464    K803201                                 WALPAK CO.           NaN   \n",
       "\n",
       "                                                 STREET1 STREET2  \\\n",
       "0                                      96 Colbeck Street     NaN   \n",
       "1      No.9 Dushan Road,Economic and Technological De...     NaN   \n",
       "2       301, 53 Jeonpa-ro, Mana-gu, Anyang-si, Gyongg-do     NaN   \n",
       "3                                      96 Colbeck Street     NaN   \n",
       "4                                 No. 225, Yuan Peir St.     NaN   \n",
       "...                                                  ...     ...   \n",
       "10460                           803 N. Front St. Suite 3     NaN   \n",
       "10461                           803 N. Front St. Suite 3     NaN   \n",
       "10462                           803 N. Front St. Suite 3     NaN   \n",
       "10463                           803 N. Front St. Suite 3     NaN   \n",
       "10464                           803 N. Front St. Suite 3     NaN   \n",
       "\n",
       "                CITY STATE COUNTRY_CODE      ZIP POSTAL_CODE  ... DECISION  \\\n",
       "0            Toronto   NaN           CA  M6S1 V2     M6S1 V2  ...     DENG   \n",
       "1        Qinhuangdao   NaN           CN   066000      066000  ...     SESE   \n",
       "2          Anyang-si   NaN           KR    14084       14084  ...     SESE   \n",
       "3            Toronto   NaN           CA  M6S1 V2     M6S1 V2  ...     SESE   \n",
       "4      Hsin-Chu City   NaN           TW    30093       30093  ...     SESE   \n",
       "...              ...   ...          ...      ...         ...  ...      ...   \n",
       "10460        McHenry    IL           US    60050       60050  ...     SESE   \n",
       "10461        McHenry    IL           US    60050       60050  ...     SESE   \n",
       "10462        McHenry    IL           US    60050       60050  ...     SESE   \n",
       "10463        McHenry    IL           US    60050       60050  ...     SESE   \n",
       "10464        McHenry    IL           US    60050       60050  ...     SESP   \n",
       "\n",
       "      REVIEWADVISECOMM PRODUCTCODE STATEORSUMM CLASSADVISECOMM SSPINDICATOR  \\\n",
       "0                   MG         QNC         NaN              MG          NaN   \n",
       "1                   DE         EBG     Summary              DE          NaN   \n",
       "2                   HO         FLL     Summary              HO          NaN   \n",
       "3                   IM         PTA     Summary              IM          NaN   \n",
       "4                   PM         INI     Summary              PM          NaN   \n",
       "...                ...         ...         ...             ...          ...   \n",
       "10460               NE         GYB         NaN              NE          NaN   \n",
       "10461               OR         HXO         NaN              OR          NaN   \n",
       "10462               NE         GWZ         NaN              NE          NaN   \n",
       "10463               PM         IMA         NaN              PM          NaN   \n",
       "10464               HO         NaN         NaN             NaN          NaN   \n",
       "\n",
       "              TYPE  THIRDPARTY EXPEDITEDREVIEW  \\\n",
       "0           Direct           N             NaN   \n",
       "1      Traditional           N             NaN   \n",
       "2      Traditional           N             NaN   \n",
       "3      Traditional           N             NaN   \n",
       "4      Traditional           N             NaN   \n",
       "...            ...         ...             ...   \n",
       "10460  Traditional           N             NaN   \n",
       "10461  Traditional           N             NaN   \n",
       "10462  Traditional           N             NaN   \n",
       "10463  Traditional           N             NaN   \n",
       "10464  Traditional           N             NaN   \n",
       "\n",
       "                                              DEVICENAME  \n",
       "0                              Helix Laboratory Platform  \n",
       "1                                            Aidite PMMA  \n",
       "2                                            Fever Garde  \n",
       "3      Helix Genetic Health Risk App for late-onset A...  \n",
       "4                                Wu's Electrical Scooter  \n",
       "...                                                  ...  \n",
       "10460             ECG & ULTRASOUND GELS, CREAMS & LOTION  \n",
       "10461                       ACETABULAR CEMENT COMPRESSOR  \n",
       "10462               CONPHAR PERCUSSION HAMMER(BUCK TYPE)  \n",
       "10463                                    MOIST HEAT PACK  \n",
       "10464                              LEMON GLYCERINE SWABS  \n",
       "\n",
       "[158468 rows x 22 columns]"
      ],
      "text/html": "<div>\n<style scoped>\n    .dataframe tbody tr th:only-of-type {\n        vertical-align: middle;\n    }\n\n    .dataframe tbody tr th {\n        vertical-align: top;\n    }\n\n    .dataframe thead th {\n        text-align: right;\n    }\n</style>\n<table border=\"1\" class=\"dataframe\">\n  <thead>\n    <tr style=\"text-align: right;\">\n      <th></th>\n      <th>KNUMBER</th>\n      <th>APPLICANT</th>\n      <th>CONTACT</th>\n      <th>STREET1</th>\n      <th>STREET2</th>\n      <th>CITY</th>\n      <th>STATE</th>\n      <th>COUNTRY_CODE</th>\n      <th>ZIP</th>\n      <th>POSTAL_CODE</th>\n      <th>...</th>\n      <th>DECISION</th>\n      <th>REVIEWADVISECOMM</th>\n      <th>PRODUCTCODE</th>\n      <th>STATEORSUMM</th>\n      <th>CLASSADVISECOMM</th>\n      <th>SSPINDICATOR</th>\n      <th>TYPE</th>\n      <th>THIRDPARTY</th>\n      <th>EXPEDITEDREVIEW</th>\n      <th>DEVICENAME</th>\n    </tr>\n  </thead>\n  <tbody>\n    <tr>\n      <th>0</th>\n      <td>DEN190035</td>\n      <td>Helix OpCo, LLC</td>\n      <td>Gloria  Lee</td>\n      <td>96 Colbeck Street</td>\n      <td>NaN</td>\n      <td>Toronto</td>\n      <td>NaN</td>\n      <td>CA</td>\n      <td>M6S1 V2</td>\n      <td>M6S1 V2</td>\n      <td>...</td>\n      <td>DENG</td>\n      <td>MG</td>\n      <td>QNC</td>\n      <td>NaN</td>\n      <td>MG</td>\n      <td>NaN</td>\n      <td>Direct</td>\n      <td>N</td>\n      <td>NaN</td>\n      <td>Helix Laboratory Platform</td>\n    </tr>\n    <tr>\n      <th>1</th>\n      <td>K190217</td>\n      <td>Aidite (Qinhuangdao) Technology Co., Ltd.</td>\n      <td>Zhang  Wei</td>\n      <td>No.9 Dushan Road,Economic and Technological De...</td>\n      <td>NaN</td>\n      <td>Qinhuangdao</td>\n      <td>NaN</td>\n      <td>CN</td>\n      <td>066000</td>\n      <td>066000</td>\n      <td>...</td>\n      <td>SESE</td>\n      <td>DE</td>\n      <td>EBG</td>\n      <td>Summary</td>\n      <td>DE</td>\n      <td>NaN</td>\n      <td>Traditional</td>\n      <td>N</td>\n      <td>NaN</td>\n      <td>Aidite PMMA</td>\n    </tr>\n    <tr>\n      <th>2</th>\n      <td>K191978</td>\n      <td>HuBDIC Co., Ltd.</td>\n      <td>Shin  Jae-Ho</td>\n      <td>301, 53 Jeonpa-ro, Mana-gu, Anyang-si, Gyongg-do</td>\n      <td>NaN</td>\n      <td>Anyang-si</td>\n      <td>NaN</td>\n      <td>KR</td>\n      <td>14084</td>\n      <td>14084</td>\n      <td>...</td>\n      <td>SESE</td>\n      <td>HO</td>\n      <td>FLL</td>\n      <td>Summary</td>\n      <td>HO</td>\n      <td>NaN</td>\n      <td>Traditional</td>\n      <td>N</td>\n      <td>NaN</td>\n      <td>Fever Garde</td>\n    </tr>\n    <tr>\n      <th>3</th>\n      <td>K192073</td>\n      <td>Helix OpCo, LLC</td>\n      <td>Gloria  Lee</td>\n      <td>96 Colbeck Street</td>\n      <td>NaN</td>\n      <td>Toronto</td>\n      <td>NaN</td>\n      <td>CA</td>\n      <td>M6S1 V2</td>\n      <td>M6S1 V2</td>\n      <td>...</td>\n      <td>SESE</td>\n      <td>IM</td>\n      <td>PTA</td>\n      <td>Summary</td>\n      <td>IM</td>\n      <td>NaN</td>\n      <td>Traditional</td>\n      <td>N</td>\n      <td>NaN</td>\n      <td>Helix Genetic Health Risk App for late-onset A...</td>\n    </tr>\n    <tr>\n      <th>4</th>\n      <td>K192308</td>\n      <td>Wu's Tech Co., Ltd.</td>\n      <td>Jen  Ke-Min</td>\n      <td>No. 225, Yuan Peir St.</td>\n      <td>NaN</td>\n      <td>Hsin-Chu City</td>\n      <td>NaN</td>\n      <td>TW</td>\n      <td>30093</td>\n      <td>30093</td>\n      <td>...</td>\n      <td>SESE</td>\n      <td>PM</td>\n      <td>INI</td>\n      <td>Summary</td>\n      <td>PM</td>\n      <td>NaN</td>\n      <td>Traditional</td>\n      <td>N</td>\n      <td>NaN</td>\n      <td>Wu's Electrical Scooter</td>\n    </tr>\n    <tr>\n      <th>...</th>\n      <td>...</td>\n      <td>...</td>\n      <td>...</td>\n      <td>...</td>\n      <td>...</td>\n      <td>...</td>\n      <td>...</td>\n      <td>...</td>\n      <td>...</td>\n      <td>...</td>\n      <td>...</td>\n      <td>...</td>\n      <td>...</td>\n      <td>...</td>\n      <td>...</td>\n      <td>...</td>\n      <td>...</td>\n      <td>...</td>\n      <td>...</td>\n      <td>...</td>\n      <td>...</td>\n    </tr>\n    <tr>\n      <th>10460</th>\n      <td>K803151</td>\n      <td>ABCO DEALERS, INC.</td>\n      <td>NaN</td>\n      <td>803 N. Front St. Suite 3</td>\n      <td>NaN</td>\n      <td>McHenry</td>\n      <td>IL</td>\n      <td>US</td>\n      <td>60050</td>\n      <td>60050</td>\n      <td>...</td>\n      <td>SESE</td>\n      <td>NE</td>\n      <td>GYB</td>\n      <td>NaN</td>\n      <td>NE</td>\n      <td>NaN</td>\n      <td>Traditional</td>\n      <td>N</td>\n      <td>NaN</td>\n      <td>ECG &amp; ULTRASOUND GELS, CREAMS &amp; LOTION</td>\n    </tr>\n    <tr>\n      <th>10461</th>\n      <td>K803165</td>\n      <td>ZIMMER, INC.</td>\n      <td>NaN</td>\n      <td>803 N. Front St. Suite 3</td>\n      <td>NaN</td>\n      <td>McHenry</td>\n      <td>IL</td>\n      <td>US</td>\n      <td>60050</td>\n      <td>60050</td>\n      <td>...</td>\n      <td>SESE</td>\n      <td>OR</td>\n      <td>HXO</td>\n      <td>NaN</td>\n      <td>OR</td>\n      <td>NaN</td>\n      <td>Traditional</td>\n      <td>N</td>\n      <td>NaN</td>\n      <td>ACETABULAR CEMENT COMPRESSOR</td>\n    </tr>\n    <tr>\n      <th>10462</th>\n      <td>K803174</td>\n      <td>CONPHAR, INC.</td>\n      <td>NaN</td>\n      <td>803 N. Front St. Suite 3</td>\n      <td>NaN</td>\n      <td>McHenry</td>\n      <td>IL</td>\n      <td>US</td>\n      <td>60050</td>\n      <td>60050</td>\n      <td>...</td>\n      <td>SESE</td>\n      <td>NE</td>\n      <td>GWZ</td>\n      <td>NaN</td>\n      <td>NE</td>\n      <td>NaN</td>\n      <td>Traditional</td>\n      <td>N</td>\n      <td>NaN</td>\n      <td>CONPHAR PERCUSSION HAMMER(BUCK TYPE)</td>\n    </tr>\n    <tr>\n      <th>10463</th>\n      <td>K803177</td>\n      <td>DURO-MED IND., INC.</td>\n      <td>NaN</td>\n      <td>803 N. Front St. Suite 3</td>\n      <td>NaN</td>\n      <td>McHenry</td>\n      <td>IL</td>\n      <td>US</td>\n      <td>60050</td>\n      <td>60050</td>\n      <td>...</td>\n      <td>SESE</td>\n      <td>PM</td>\n      <td>IMA</td>\n      <td>NaN</td>\n      <td>PM</td>\n      <td>NaN</td>\n      <td>Traditional</td>\n      <td>N</td>\n      <td>NaN</td>\n      <td>MOIST HEAT PACK</td>\n    </tr>\n    <tr>\n      <th>10464</th>\n      <td>K803201</td>\n      <td>WALPAK CO.</td>\n      <td>NaN</td>\n      <td>803 N. Front St. Suite 3</td>\n      <td>NaN</td>\n      <td>McHenry</td>\n      <td>IL</td>\n      <td>US</td>\n      <td>60050</td>\n      <td>60050</td>\n      <td>...</td>\n      <td>SESP</td>\n      <td>HO</td>\n      <td>NaN</td>\n      <td>NaN</td>\n      <td>NaN</td>\n      <td>NaN</td>\n      <td>Traditional</td>\n      <td>N</td>\n      <td>NaN</td>\n      <td>LEMON GLYCERINE SWABS</td>\n    </tr>\n  </tbody>\n</table>\n<p>158468 rows × 22 columns</p>\n</div>"
     },
     "metadata": {},
     "execution_count": 3
    }
   ],
   "source": [
    "DATA"
   ]
  },
  {
   "source": [
    "# The objective is to find a variety of relationships between FDA Product Code and the average time taken for a final Decision:\n"
   ],
   "cell_type": "markdown",
   "metadata": {}
  },
  {
   "source": [
    "## 1. From 1976 to now:"
   ],
   "cell_type": "markdown",
   "metadata": {}
  },
  {
   "cell_type": "code",
   "execution_count": 5,
   "metadata": {},
   "outputs": [],
   "source": [
    "date_format = \"%m/%d/%Y\"\n",
    "def cal_time_length(date1, date2):\n",
    "    d0 = datetime.strptime(date1, date_format)\n",
    "    d1 = datetime.strptime(date2, date_format)\n",
    "    delta = d1 - d0\n",
    "    return delta.days\n",
    "\n"
   ]
  },
  {
   "source": [
    "### Distributions:"
   ],
   "cell_type": "markdown",
   "metadata": {}
  },
  {
   "cell_type": "code",
   "execution_count": 7,
   "metadata": {},
   "outputs": [],
   "source": [
    "TIME_LENGTH_df = DATA[[\"PRODUCTCODE\",\"DATERECEIVED\", \"DECISIONDATE\", \"COUNTRY_CODE\", \"APPLICANT\"]]\n",
    "recieved_date = TIME_LENGTH_df['DATERECEIVED'].tolist()\n",
    "decision_date = TIME_LENGTH_df[\"DECISIONDATE\"].tolist()\n",
    "time_length = []\n",
    "for i in range(len(recieved_date)):\n",
    "    time_length.append(cal_time_length(recieved_date[i], decision_date[i]))\n",
    "TIME_LENGTH_df['DECISIONMAKINGTIME(days)'] = time_length\n",
    "AVERAGE_TIME = TIME_LENGTH_df.groupby('PRODUCTCODE', as_index= False)['DECISIONMAKINGTIME(days)'].mean()"
   ]
  },
  {
   "cell_type": "code",
   "execution_count": 8,
   "metadata": {},
   "outputs": [
    {
     "output_type": "stream",
     "name": "stdout",
     "text": [
      "total number of product code types from 1976 till now is 4447\ntotal case number from 1976 till now is 158468\n"
     ]
    }
   ],
   "source": [
    "print(f\"total number of product code types from 1976 till now is {len(AVERAGE_TIME.index)}\")\n",
    "print(f\"total case number from 1976 till now is {len(TIME_LENGTH_df)}\")"
   ]
  },
  {
   "cell_type": "code",
   "execution_count": 9,
   "metadata": {},
   "outputs": [
    {
     "output_type": "display_data",
     "data": {
      "text/plain": "<Figure size 432x288 with 1 Axes>",
      "image/svg+xml": "<?xml version=\"1.0\" encoding=\"utf-8\" standalone=\"no\"?>\n<!DOCTYPE svg PUBLIC \"-//W3C//DTD SVG 1.1//EN\"\n  \"http://www.w3.org/Graphics/SVG/1.1/DTD/svg11.dtd\">\n<!-- Created with matplotlib (https://matplotlib.org/) -->\n<svg height=\"266.374219pt\" version=\"1.1\" viewBox=\"0 0 392.319844 266.374219\" width=\"392.319844pt\" xmlns=\"http://www.w3.org/2000/svg\" xmlns:xlink=\"http://www.w3.org/1999/xlink\">\n <metadata>\n  <rdf:RDF xmlns:cc=\"http://creativecommons.org/ns#\" xmlns:dc=\"http://purl.org/dc/elements/1.1/\" xmlns:rdf=\"http://www.w3.org/1999/02/22-rdf-syntax-ns#\">\n   <cc:Work>\n    <dc:type rdf:resource=\"http://purl.org/dc/dcmitype/StillImage\"/>\n    <dc:date>2021-03-08T15:07:31.916725</dc:date>\n    <dc:format>image/svg+xml</dc:format>\n    <dc:creator>\n     <cc:Agent>\n      <dc:title>Matplotlib v3.3.2, https://matplotlib.org/</dc:title>\n     </cc:Agent>\n    </dc:creator>\n   </cc:Work>\n  </rdf:RDF>\n </metadata>\n <defs>\n  <style type=\"text/css\">*{stroke-linecap:butt;stroke-linejoin:round;}</style>\n </defs>\n <g id=\"figure_1\">\n  <g id=\"patch_1\">\n   <path d=\"M 0 266.374219 \nL 392.319844 266.374219 \nL 392.319844 0 \nL 0 0 \nz\n\" style=\"fill:#ffffff;\"/>\n  </g>\n  <g id=\"axes_1\">\n   <g id=\"patch_2\">\n    <path d=\"M 50.319844 224.64 \nL 385.119844 224.64 \nL 385.119844 7.2 \nL 50.319844 7.2 \nz\n\" style=\"fill:#ffffff;\"/>\n   </g>\n   <g id=\"matplotlib.axis_1\">\n    <g id=\"xtick_1\">\n     <g id=\"text_1\">\n      <!-- DXN -->\n      <g style=\"fill:#262626;\" transform=\"translate(55.447109 242.013594)scale(0.11 -0.11)\">\n       <defs>\n        <path d=\"M 7.71875 0 \nL 7.71875 71.578125 \nL 32.375 71.578125 \nQ 40.71875 71.578125 45.125 70.5625 \nQ 51.265625 69.140625 55.609375 65.4375 \nQ 61.28125 60.640625 64.078125 53.1875 \nQ 66.890625 45.75 66.890625 36.1875 \nQ 66.890625 28.03125 64.984375 21.734375 \nQ 63.09375 15.4375 60.109375 11.296875 \nQ 57.125 7.171875 53.578125 4.796875 \nQ 50.046875 2.4375 45.046875 1.21875 \nQ 40.046875 0 33.546875 0 \nz\nM 17.1875 8.453125 \nL 32.46875 8.453125 \nQ 39.546875 8.453125 43.578125 9.765625 \nQ 47.609375 11.078125 50 13.484375 \nQ 53.375 16.84375 55.25 22.53125 \nQ 57.125 28.21875 57.125 36.328125 \nQ 57.125 47.5625 53.4375 53.59375 \nQ 49.75 59.625 44.484375 61.671875 \nQ 40.671875 63.140625 32.234375 63.140625 \nL 17.1875 63.140625 \nz\n\" id=\"ArialMT-68\"/>\n        <path d=\"M 0.4375 0 \nL 28.125 37.3125 \nL 3.71875 71.578125 \nL 14.984375 71.578125 \nL 27.984375 53.21875 \nQ 32.03125 47.515625 33.734375 44.4375 \nQ 36.140625 48.34375 39.40625 52.59375 \nL 53.8125 71.578125 \nL 64.109375 71.578125 \nL 38.96875 37.84375 \nL 66.0625 0 \nL 54.34375 0 \nL 36.328125 25.53125 \nQ 34.8125 27.734375 33.203125 30.328125 \nQ 30.8125 26.421875 29.78125 24.953125 \nL 11.8125 0 \nz\n\" id=\"ArialMT-88\"/>\n        <path d=\"M 7.625 0 \nL 7.625 71.578125 \nL 17.328125 71.578125 \nL 54.9375 15.375 \nL 54.9375 71.578125 \nL 64.015625 71.578125 \nL 64.015625 0 \nL 54.296875 0 \nL 16.703125 56.25 \nL 16.703125 0 \nz\n\" id=\"ArialMT-78\"/>\n       </defs>\n       <use xlink:href=\"#ArialMT-68\"/>\n       <use x=\"72.216797\" xlink:href=\"#ArialMT-88\"/>\n       <use x=\"138.916016\" xlink:href=\"#ArialMT-78\"/>\n      </g>\n     </g>\n    </g>\n    <g id=\"xtick_2\">\n     <g id=\"text_2\">\n      <!-- DZE -->\n      <g style=\"fill:#262626;\" transform=\"translate(89.539844 242.013594)scale(0.11 -0.11)\">\n       <defs>\n        <path d=\"M 2 0 \nL 2 8.796875 \nL 38.671875 54.640625 \nQ 42.578125 59.515625 46.09375 63.140625 \nL 6.15625 63.140625 \nL 6.15625 71.578125 \nL 57.421875 71.578125 \nL 57.421875 63.140625 \nL 17.234375 13.484375 \nL 12.890625 8.453125 \nL 58.59375 8.453125 \nL 58.59375 0 \nz\n\" id=\"ArialMT-90\"/>\n        <path d=\"M 7.90625 0 \nL 7.90625 71.578125 \nL 59.671875 71.578125 \nL 59.671875 63.140625 \nL 17.390625 63.140625 \nL 17.390625 41.21875 \nL 56.984375 41.21875 \nL 56.984375 32.8125 \nL 17.390625 32.8125 \nL 17.390625 8.453125 \nL 61.328125 8.453125 \nL 61.328125 0 \nz\n\" id=\"ArialMT-69\"/>\n       </defs>\n       <use xlink:href=\"#ArialMT-68\"/>\n       <use x=\"72.216797\" xlink:href=\"#ArialMT-90\"/>\n       <use x=\"133.300781\" xlink:href=\"#ArialMT-69\"/>\n      </g>\n     </g>\n    </g>\n    <g id=\"xtick_3\">\n     <g id=\"text_3\">\n      <!-- ESD -->\n      <g style=\"fill:#262626;\" transform=\"translate(122.710469 242.013594)scale(0.11 -0.11)\">\n       <defs>\n        <path d=\"M 4.5 23 \nL 13.421875 23.78125 \nQ 14.0625 18.40625 16.375 14.96875 \nQ 18.703125 11.53125 23.578125 9.40625 \nQ 28.46875 7.28125 34.578125 7.28125 \nQ 39.984375 7.28125 44.140625 8.890625 \nQ 48.296875 10.5 50.3125 13.296875 \nQ 52.34375 16.109375 52.34375 19.4375 \nQ 52.34375 22.796875 50.390625 25.3125 \nQ 48.4375 27.828125 43.953125 29.546875 \nQ 41.0625 30.671875 31.203125 33.03125 \nQ 21.34375 35.40625 17.390625 37.5 \nQ 12.25 40.1875 9.734375 44.15625 \nQ 7.234375 48.140625 7.234375 53.078125 \nQ 7.234375 58.5 10.296875 63.203125 \nQ 13.375 67.921875 19.28125 70.359375 \nQ 25.203125 72.796875 32.421875 72.796875 \nQ 40.375 72.796875 46.453125 70.234375 \nQ 52.546875 67.671875 55.8125 62.6875 \nQ 59.078125 57.71875 59.328125 51.421875 \nL 50.25 50.734375 \nQ 49.515625 57.515625 45.28125 60.984375 \nQ 41.0625 64.453125 32.8125 64.453125 \nQ 24.21875 64.453125 20.28125 61.296875 \nQ 16.359375 58.15625 16.359375 53.71875 \nQ 16.359375 49.859375 19.140625 47.359375 \nQ 21.875 44.875 33.421875 42.265625 \nQ 44.96875 39.65625 49.265625 37.703125 \nQ 55.515625 34.8125 58.484375 30.390625 \nQ 61.46875 25.984375 61.46875 20.21875 \nQ 61.46875 14.5 58.203125 9.4375 \nQ 54.9375 4.390625 48.796875 1.578125 \nQ 42.671875 -1.21875 35.015625 -1.21875 \nQ 25.296875 -1.21875 18.71875 1.609375 \nQ 12.15625 4.4375 8.421875 10.125 \nQ 4.6875 15.828125 4.5 23 \nz\n\" id=\"ArialMT-83\"/>\n       </defs>\n       <use xlink:href=\"#ArialMT-69\"/>\n       <use x=\"66.699219\" xlink:href=\"#ArialMT-83\"/>\n       <use x=\"133.398438\" xlink:href=\"#ArialMT-68\"/>\n      </g>\n     </g>\n    </g>\n    <g id=\"xtick_4\">\n     <g id=\"text_4\">\n      <!-- FPA -->\n      <g style=\"fill:#262626;\" transform=\"translate(157.208828 242.013594)scale(0.11 -0.11)\">\n       <defs>\n        <path d=\"M 8.203125 0 \nL 8.203125 71.578125 \nL 56.5 71.578125 \nL 56.5 63.140625 \nL 17.671875 63.140625 \nL 17.671875 40.96875 \nL 51.265625 40.96875 \nL 51.265625 32.515625 \nL 17.671875 32.515625 \nL 17.671875 0 \nz\n\" id=\"ArialMT-70\"/>\n        <path d=\"M 7.71875 0 \nL 7.71875 71.578125 \nL 34.71875 71.578125 \nQ 41.84375 71.578125 45.609375 70.90625 \nQ 50.875 70.015625 54.4375 67.546875 \nQ 58.015625 65.09375 60.1875 60.640625 \nQ 62.359375 56.203125 62.359375 50.875 \nQ 62.359375 41.75 56.546875 35.421875 \nQ 50.734375 29.109375 35.546875 29.109375 \nL 17.1875 29.109375 \nL 17.1875 0 \nz\nM 17.1875 37.546875 \nL 35.6875 37.546875 \nQ 44.875 37.546875 48.734375 40.96875 \nQ 52.59375 44.390625 52.59375 50.59375 \nQ 52.59375 55.078125 50.3125 58.265625 \nQ 48.046875 61.46875 44.34375 62.5 \nQ 41.9375 63.140625 35.5 63.140625 \nL 17.1875 63.140625 \nz\n\" id=\"ArialMT-80\"/>\n        <path d=\"M -0.140625 0 \nL 27.34375 71.578125 \nL 37.546875 71.578125 \nL 66.84375 0 \nL 56.0625 0 \nL 47.703125 21.6875 \nL 17.78125 21.6875 \nL 9.90625 0 \nz\nM 20.515625 29.390625 \nL 44.78125 29.390625 \nL 37.3125 49.21875 \nQ 33.890625 58.25 32.234375 64.0625 \nQ 30.859375 57.171875 28.375 50.390625 \nz\n\" id=\"ArialMT-65\"/>\n       </defs>\n       <use xlink:href=\"#ArialMT-70\"/>\n       <use x=\"61.083984\" xlink:href=\"#ArialMT-80\"/>\n       <use x=\"120.408203\" xlink:href=\"#ArialMT-65\"/>\n      </g>\n     </g>\n    </g>\n    <g id=\"xtick_5\">\n     <g id=\"text_5\">\n      <!-- GCJ -->\n      <g style=\"fill:#262626;\" transform=\"translate(189.979844 242.013594)scale(0.11 -0.11)\">\n       <defs>\n        <path d=\"M 41.21875 28.078125 \nL 41.21875 36.46875 \nL 71.53125 36.53125 \nL 71.53125 9.96875 \nQ 64.546875 4.390625 57.125 1.578125 \nQ 49.703125 -1.21875 41.890625 -1.21875 \nQ 31.34375 -1.21875 22.71875 3.296875 \nQ 14.109375 7.8125 9.71875 16.359375 \nQ 5.328125 24.90625 5.328125 35.453125 \nQ 5.328125 45.90625 9.6875 54.953125 \nQ 14.0625 64.015625 22.265625 68.40625 \nQ 30.46875 72.796875 41.15625 72.796875 \nQ 48.921875 72.796875 55.1875 70.28125 \nQ 61.46875 67.78125 65.03125 63.28125 \nQ 68.609375 58.796875 70.453125 51.5625 \nL 61.921875 49.21875 \nQ 60.296875 54.6875 57.90625 57.8125 \nQ 55.515625 60.9375 51.0625 62.8125 \nQ 46.625 64.703125 41.21875 64.703125 \nQ 34.71875 64.703125 29.984375 62.71875 \nQ 25.25 60.75 22.34375 57.515625 \nQ 19.4375 54.296875 17.828125 50.4375 \nQ 15.09375 43.796875 15.09375 36.03125 \nQ 15.09375 26.46875 18.390625 20.015625 \nQ 21.6875 13.578125 27.984375 10.453125 \nQ 34.28125 7.328125 41.359375 7.328125 \nQ 47.515625 7.328125 53.375 9.6875 \nQ 59.234375 12.0625 62.25 14.75 \nL 62.25 28.078125 \nz\n\" id=\"ArialMT-71\"/>\n        <path d=\"M 58.796875 25.09375 \nL 68.265625 22.703125 \nQ 65.28125 11.03125 57.546875 4.90625 \nQ 49.8125 -1.21875 38.625 -1.21875 \nQ 27.046875 -1.21875 19.796875 3.484375 \nQ 12.546875 8.203125 8.765625 17.140625 \nQ 4.984375 26.078125 4.984375 36.328125 \nQ 4.984375 47.515625 9.25 55.828125 \nQ 13.53125 64.15625 21.40625 68.46875 \nQ 29.296875 72.796875 38.765625 72.796875 \nQ 49.515625 72.796875 56.828125 67.328125 \nQ 64.15625 61.859375 67.046875 51.953125 \nL 57.71875 49.75 \nQ 55.21875 57.5625 50.484375 61.125 \nQ 45.75 64.703125 38.578125 64.703125 \nQ 30.328125 64.703125 24.78125 60.734375 \nQ 19.234375 56.78125 16.984375 50.109375 \nQ 14.75 43.453125 14.75 36.375 \nQ 14.75 27.25 17.40625 20.4375 \nQ 20.0625 13.625 25.671875 10.25 \nQ 31.296875 6.890625 37.84375 6.890625 \nQ 45.796875 6.890625 51.3125 11.46875 \nQ 56.84375 16.0625 58.796875 25.09375 \nz\n\" id=\"ArialMT-67\"/>\n        <path d=\"M 2.875 20.3125 \nL 11.421875 21.484375 \nQ 11.765625 13.28125 14.5 10.25 \nQ 17.234375 7.234375 22.078125 7.234375 \nQ 25.640625 7.234375 28.21875 8.859375 \nQ 30.8125 10.5 31.78125 13.296875 \nQ 32.765625 16.109375 32.765625 22.265625 \nL 32.765625 71.578125 \nL 42.234375 71.578125 \nL 42.234375 22.796875 \nQ 42.234375 13.8125 40.0625 8.875 \nQ 37.890625 3.953125 33.171875 1.359375 \nQ 28.46875 -1.21875 22.125 -1.21875 \nQ 12.703125 -1.21875 7.6875 4.203125 \nQ 2.6875 9.625 2.875 20.3125 \nz\n\" id=\"ArialMT-74\"/>\n       </defs>\n       <use xlink:href=\"#ArialMT-71\"/>\n       <use x=\"77.783203\" xlink:href=\"#ArialMT-67\"/>\n       <use x=\"150\" xlink:href=\"#ArialMT-74\"/>\n      </g>\n     </g>\n    </g>\n    <g id=\"xtick_6\">\n     <g id=\"text_6\">\n      <!-- GEI -->\n      <g style=\"fill:#262626;\" transform=\"translate(224.985234 242.013594)scale(0.11 -0.11)\">\n       <defs>\n        <path d=\"M 9.328125 0 \nL 9.328125 71.578125 \nL 18.796875 71.578125 \nL 18.796875 0 \nz\n\" id=\"ArialMT-73\"/>\n       </defs>\n       <use xlink:href=\"#ArialMT-71\"/>\n       <use x=\"77.783203\" xlink:href=\"#ArialMT-69\"/>\n       <use x=\"144.482422\" xlink:href=\"#ArialMT-73\"/>\n      </g>\n     </g>\n    </g>\n    <g id=\"xtick_7\">\n     <g id=\"text_7\">\n      <!-- GEX -->\n      <g style=\"fill:#262626;\" transform=\"translate(256.324531 242.013594)scale(0.11 -0.11)\">\n       <use xlink:href=\"#ArialMT-71\"/>\n       <use x=\"77.783203\" xlink:href=\"#ArialMT-69\"/>\n       <use x=\"144.482422\" xlink:href=\"#ArialMT-88\"/>\n      </g>\n     </g>\n    </g>\n    <g id=\"xtick_8\">\n     <g id=\"text_8\">\n      <!-- HRS -->\n      <g style=\"fill:#262626;\" transform=\"translate(289.807109 242.013594)scale(0.11 -0.11)\">\n       <defs>\n        <path d=\"M 8.015625 0 \nL 8.015625 71.578125 \nL 17.484375 71.578125 \nL 17.484375 42.1875 \nL 54.6875 42.1875 \nL 54.6875 71.578125 \nL 64.15625 71.578125 \nL 64.15625 0 \nL 54.6875 0 \nL 54.6875 33.734375 \nL 17.484375 33.734375 \nL 17.484375 0 \nz\n\" id=\"ArialMT-72\"/>\n        <path d=\"M 7.859375 0 \nL 7.859375 71.578125 \nL 39.59375 71.578125 \nQ 49.171875 71.578125 54.140625 69.640625 \nQ 59.125 67.71875 62.109375 62.828125 \nQ 65.09375 57.953125 65.09375 52.046875 \nQ 65.09375 44.4375 60.15625 39.203125 \nQ 55.21875 33.984375 44.921875 32.5625 \nQ 48.6875 30.765625 50.640625 29 \nQ 54.78125 25.203125 58.5 19.484375 \nL 70.953125 0 \nL 59.03125 0 \nL 49.5625 14.890625 \nQ 45.40625 21.34375 42.71875 24.75 \nQ 40.046875 28.171875 37.921875 29.53125 \nQ 35.796875 30.90625 33.59375 31.453125 \nQ 31.984375 31.78125 28.328125 31.78125 \nL 17.328125 31.78125 \nL 17.328125 0 \nz\nM 17.328125 39.984375 \nL 37.703125 39.984375 \nQ 44.1875 39.984375 47.84375 41.328125 \nQ 51.515625 42.671875 53.421875 45.625 \nQ 55.328125 48.578125 55.328125 52.046875 \nQ 55.328125 57.125 51.640625 60.390625 \nQ 47.953125 63.671875 39.984375 63.671875 \nL 17.328125 63.671875 \nz\n\" id=\"ArialMT-82\"/>\n       </defs>\n       <use xlink:href=\"#ArialMT-72\"/>\n       <use x=\"72.216797\" xlink:href=\"#ArialMT-82\"/>\n       <use x=\"144.433594\" xlink:href=\"#ArialMT-83\"/>\n      </g>\n     </g>\n    </g>\n    <g id=\"xtick_9\">\n     <g id=\"text_9\">\n      <!-- LLZ -->\n      <g style=\"fill:#262626;\" transform=\"translate(325.423516 242.013594)scale(0.11 -0.11)\">\n       <defs>\n        <path d=\"M 7.328125 0 \nL 7.328125 71.578125 \nL 16.796875 71.578125 \nL 16.796875 8.453125 \nL 52.046875 8.453125 \nL 52.046875 0 \nz\n\" id=\"ArialMT-76\"/>\n       </defs>\n       <use xlink:href=\"#ArialMT-76\"/>\n       <use x=\"55.615234\" xlink:href=\"#ArialMT-76\"/>\n       <use x=\"111.230469\" xlink:href=\"#ArialMT-90\"/>\n      </g>\n     </g>\n    </g>\n    <g id=\"xtick_10\">\n     <g id=\"text_10\">\n      <!-- LYY -->\n      <g style=\"fill:#262626;\" transform=\"translate(358.389609 242.013594)scale(0.11 -0.11)\">\n       <defs>\n        <path d=\"M 27.875 0 \nL 27.875 30.328125 \nL 0.296875 71.578125 \nL 11.8125 71.578125 \nL 25.921875 50 \nQ 29.828125 43.953125 33.203125 37.890625 \nQ 36.421875 43.5 41.015625 50.53125 \nL 54.890625 71.578125 \nL 65.921875 71.578125 \nL 37.359375 30.328125 \nL 37.359375 0 \nz\n\" id=\"ArialMT-89\"/>\n       </defs>\n       <use xlink:href=\"#ArialMT-76\"/>\n       <use x=\"48.240234\" xlink:href=\"#ArialMT-89\"/>\n       <use x=\"114.939453\" xlink:href=\"#ArialMT-89\"/>\n      </g>\n     </g>\n    </g>\n    <g id=\"text_11\">\n     <!-- PRODUCTCODE -->\n     <g style=\"fill:#262626;\" transform=\"translate(170.718281 256.789219)scale(0.12 -0.12)\">\n      <defs>\n       <path d=\"M 4.828125 34.859375 \nQ 4.828125 52.6875 14.390625 62.765625 \nQ 23.96875 72.859375 39.109375 72.859375 \nQ 49.03125 72.859375 56.984375 68.109375 \nQ 64.9375 63.375 69.109375 54.90625 \nQ 73.296875 46.4375 73.296875 35.6875 \nQ 73.296875 24.8125 68.890625 16.21875 \nQ 64.5 7.625 56.4375 3.203125 \nQ 48.390625 -1.21875 39.0625 -1.21875 \nQ 28.953125 -1.21875 20.984375 3.65625 \nQ 13.03125 8.546875 8.921875 16.984375 \nQ 4.828125 25.4375 4.828125 34.859375 \nz\nM 14.59375 34.71875 \nQ 14.59375 21.78125 21.546875 14.328125 \nQ 28.515625 6.890625 39.015625 6.890625 \nQ 49.703125 6.890625 56.609375 14.40625 \nQ 63.53125 21.921875 63.53125 35.75 \nQ 63.53125 44.484375 60.578125 51 \nQ 57.625 57.515625 51.921875 61.109375 \nQ 46.234375 64.703125 39.15625 64.703125 \nQ 29.109375 64.703125 21.84375 57.78125 \nQ 14.59375 50.875 14.59375 34.71875 \nz\n\" id=\"ArialMT-79\"/>\n       <path d=\"M 54.6875 71.578125 \nL 64.15625 71.578125 \nL 64.15625 30.21875 \nQ 64.15625 19.4375 61.71875 13.078125 \nQ 59.28125 6.734375 52.90625 2.75 \nQ 46.53125 -1.21875 36.1875 -1.21875 \nQ 26.125 -1.21875 19.71875 2.25 \nQ 13.328125 5.71875 10.59375 12.28125 \nQ 7.859375 18.84375 7.859375 30.21875 \nL 7.859375 71.578125 \nL 17.328125 71.578125 \nL 17.328125 30.28125 \nQ 17.328125 20.953125 19.0625 16.53125 \nQ 20.796875 12.109375 25.015625 9.71875 \nQ 29.25 7.328125 35.359375 7.328125 \nQ 45.796875 7.328125 50.234375 12.0625 \nQ 54.6875 16.796875 54.6875 30.28125 \nz\n\" id=\"ArialMT-85\"/>\n       <path d=\"M 25.921875 0 \nL 25.921875 63.140625 \nL 2.34375 63.140625 \nL 2.34375 71.578125 \nL 59.078125 71.578125 \nL 59.078125 63.140625 \nL 35.40625 63.140625 \nL 35.40625 0 \nz\n\" id=\"ArialMT-84\"/>\n      </defs>\n      <use xlink:href=\"#ArialMT-80\"/>\n      <use x=\"66.699219\" xlink:href=\"#ArialMT-82\"/>\n      <use x=\"138.916016\" xlink:href=\"#ArialMT-79\"/>\n      <use x=\"216.699219\" xlink:href=\"#ArialMT-68\"/>\n      <use x=\"288.916016\" xlink:href=\"#ArialMT-85\"/>\n      <use x=\"361.132812\" xlink:href=\"#ArialMT-67\"/>\n      <use x=\"433.349609\" xlink:href=\"#ArialMT-84\"/>\n      <use x=\"494.433594\" xlink:href=\"#ArialMT-67\"/>\n      <use x=\"566.650391\" xlink:href=\"#ArialMT-79\"/>\n      <use x=\"644.433594\" xlink:href=\"#ArialMT-68\"/>\n      <use x=\"716.650391\" xlink:href=\"#ArialMT-69\"/>\n     </g>\n    </g>\n   </g>\n   <g id=\"matplotlib.axis_2\">\n    <g id=\"ytick_1\">\n     <g id=\"line2d_1\">\n      <path clip-path=\"url(#pb075e3d3b8)\" d=\"M 50.319844 224.64 \nL 385.119844 224.64 \n\" style=\"fill:none;stroke:#cccccc;stroke-linecap:round;\"/>\n     </g>\n     <g id=\"text_12\">\n      <!-- 0 -->\n      <g style=\"fill:#262626;\" transform=\"translate(34.702813 228.576797)scale(0.11 -0.11)\">\n       <defs>\n        <path d=\"M 4.15625 35.296875 \nQ 4.15625 48 6.765625 55.734375 \nQ 9.375 63.484375 14.515625 67.671875 \nQ 19.671875 71.875 27.484375 71.875 \nQ 33.25 71.875 37.59375 69.546875 \nQ 41.9375 67.234375 44.765625 62.859375 \nQ 47.609375 58.5 49.21875 52.21875 \nQ 50.828125 45.953125 50.828125 35.296875 \nQ 50.828125 22.703125 48.234375 14.96875 \nQ 45.65625 7.234375 40.5 3 \nQ 35.359375 -1.21875 27.484375 -1.21875 \nQ 17.140625 -1.21875 11.234375 6.203125 \nQ 4.15625 15.140625 4.15625 35.296875 \nz\nM 13.1875 35.296875 \nQ 13.1875 17.671875 17.3125 11.828125 \nQ 21.4375 6 27.484375 6 \nQ 33.546875 6 37.671875 11.859375 \nQ 41.796875 17.71875 41.796875 35.296875 \nQ 41.796875 52.984375 37.671875 58.78125 \nQ 33.546875 64.59375 27.390625 64.59375 \nQ 21.34375 64.59375 17.71875 59.46875 \nQ 13.1875 52.9375 13.1875 35.296875 \nz\n\" id=\"ArialMT-48\"/>\n       </defs>\n       <use xlink:href=\"#ArialMT-48\"/>\n      </g>\n     </g>\n    </g>\n    <g id=\"ytick_2\">\n     <g id=\"line2d_2\">\n      <path clip-path=\"url(#pb075e3d3b8)\" d=\"M 50.319844 198.514547 \nL 385.119844 198.514547 \n\" style=\"fill:none;stroke:#cccccc;stroke-linecap:round;\"/>\n     </g>\n     <g id=\"text_13\">\n      <!-- 25 -->\n      <g style=\"fill:#262626;\" transform=\"translate(28.585781 202.451344)scale(0.11 -0.11)\">\n       <defs>\n        <path d=\"M 50.34375 8.453125 \nL 50.34375 0 \nL 3.03125 0 \nQ 2.9375 3.171875 4.046875 6.109375 \nQ 5.859375 10.9375 9.828125 15.625 \nQ 13.8125 20.3125 21.34375 26.46875 \nQ 33.015625 36.03125 37.109375 41.625 \nQ 41.21875 47.21875 41.21875 52.203125 \nQ 41.21875 57.421875 37.46875 61 \nQ 33.734375 64.59375 27.734375 64.59375 \nQ 21.390625 64.59375 17.578125 60.78125 \nQ 13.765625 56.984375 13.71875 50.25 \nL 4.6875 51.171875 \nQ 5.609375 61.28125 11.65625 66.578125 \nQ 17.71875 71.875 27.9375 71.875 \nQ 38.234375 71.875 44.234375 66.15625 \nQ 50.25 60.453125 50.25 52 \nQ 50.25 47.703125 48.484375 43.546875 \nQ 46.734375 39.40625 42.65625 34.8125 \nQ 38.578125 30.21875 29.109375 22.21875 \nQ 21.1875 15.578125 18.9375 13.203125 \nQ 16.703125 10.84375 15.234375 8.453125 \nz\n\" id=\"ArialMT-50\"/>\n        <path d=\"M 4.15625 18.75 \nL 13.375 19.53125 \nQ 14.40625 12.796875 18.140625 9.390625 \nQ 21.875 6 27.15625 6 \nQ 33.5 6 37.890625 10.78125 \nQ 42.28125 15.578125 42.28125 23.484375 \nQ 42.28125 31 38.0625 35.34375 \nQ 33.84375 39.703125 27 39.703125 \nQ 22.75 39.703125 19.328125 37.765625 \nQ 15.921875 35.84375 13.96875 32.765625 \nL 5.71875 33.84375 \nL 12.640625 70.609375 \nL 48.25 70.609375 \nL 48.25 62.203125 \nL 19.671875 62.203125 \nL 15.828125 42.96875 \nQ 22.265625 47.46875 29.34375 47.46875 \nQ 38.71875 47.46875 45.15625 40.96875 \nQ 51.609375 34.46875 51.609375 24.265625 \nQ 51.609375 14.546875 45.953125 7.46875 \nQ 39.0625 -1.21875 27.15625 -1.21875 \nQ 17.390625 -1.21875 11.203125 4.25 \nQ 5.03125 9.71875 4.15625 18.75 \nz\n\" id=\"ArialMT-53\"/>\n       </defs>\n       <use xlink:href=\"#ArialMT-50\"/>\n       <use x=\"55.615234\" xlink:href=\"#ArialMT-53\"/>\n      </g>\n     </g>\n    </g>\n    <g id=\"ytick_3\">\n     <g id=\"line2d_3\">\n      <path clip-path=\"url(#pb075e3d3b8)\" d=\"M 50.319844 172.389095 \nL 385.119844 172.389095 \n\" style=\"fill:none;stroke:#cccccc;stroke-linecap:round;\"/>\n     </g>\n     <g id=\"text_14\">\n      <!-- 50 -->\n      <g style=\"fill:#262626;\" transform=\"translate(28.585781 176.325892)scale(0.11 -0.11)\">\n       <use xlink:href=\"#ArialMT-53\"/>\n       <use x=\"55.615234\" xlink:href=\"#ArialMT-48\"/>\n      </g>\n     </g>\n    </g>\n    <g id=\"ytick_4\">\n     <g id=\"line2d_4\">\n      <path clip-path=\"url(#pb075e3d3b8)\" d=\"M 50.319844 146.263642 \nL 385.119844 146.263642 \n\" style=\"fill:none;stroke:#cccccc;stroke-linecap:round;\"/>\n     </g>\n     <g id=\"text_15\">\n      <!-- 75 -->\n      <g style=\"fill:#262626;\" transform=\"translate(28.585781 150.200439)scale(0.11 -0.11)\">\n       <defs>\n        <path d=\"M 4.734375 62.203125 \nL 4.734375 70.65625 \nL 51.078125 70.65625 \nL 51.078125 63.8125 \nQ 44.234375 56.546875 37.515625 44.484375 \nQ 30.8125 32.421875 27.15625 19.671875 \nQ 24.515625 10.6875 23.78125 0 \nL 14.75 0 \nQ 14.890625 8.453125 18.0625 20.40625 \nQ 21.234375 32.375 27.171875 43.484375 \nQ 33.109375 54.59375 39.796875 62.203125 \nz\n\" id=\"ArialMT-55\"/>\n       </defs>\n       <use xlink:href=\"#ArialMT-55\"/>\n       <use x=\"55.615234\" xlink:href=\"#ArialMT-53\"/>\n      </g>\n     </g>\n    </g>\n    <g id=\"ytick_5\">\n     <g id=\"line2d_5\">\n      <path clip-path=\"url(#pb075e3d3b8)\" d=\"M 50.319844 120.13819 \nL 385.119844 120.13819 \n\" style=\"fill:none;stroke:#cccccc;stroke-linecap:round;\"/>\n     </g>\n     <g id=\"text_16\">\n      <!-- 100 -->\n      <g style=\"fill:#262626;\" transform=\"translate(22.46875 124.074986)scale(0.11 -0.11)\">\n       <defs>\n        <path d=\"M 37.25 0 \nL 28.46875 0 \nL 28.46875 56 \nQ 25.296875 52.984375 20.140625 49.953125 \nQ 14.984375 46.921875 10.890625 45.40625 \nL 10.890625 53.90625 \nQ 18.265625 57.375 23.78125 62.296875 \nQ 29.296875 67.234375 31.59375 71.875 \nL 37.25 71.875 \nz\n\" id=\"ArialMT-49\"/>\n       </defs>\n       <use xlink:href=\"#ArialMT-49\"/>\n       <use x=\"55.615234\" xlink:href=\"#ArialMT-48\"/>\n       <use x=\"111.230469\" xlink:href=\"#ArialMT-48\"/>\n      </g>\n     </g>\n    </g>\n    <g id=\"ytick_6\">\n     <g id=\"line2d_6\">\n      <path clip-path=\"url(#pb075e3d3b8)\" d=\"M 50.319844 94.012737 \nL 385.119844 94.012737 \n\" style=\"fill:none;stroke:#cccccc;stroke-linecap:round;\"/>\n     </g>\n     <g id=\"text_17\">\n      <!-- 125 -->\n      <g style=\"fill:#262626;\" transform=\"translate(22.46875 97.949534)scale(0.11 -0.11)\">\n       <use xlink:href=\"#ArialMT-49\"/>\n       <use x=\"55.615234\" xlink:href=\"#ArialMT-50\"/>\n       <use x=\"111.230469\" xlink:href=\"#ArialMT-53\"/>\n      </g>\n     </g>\n    </g>\n    <g id=\"ytick_7\">\n     <g id=\"line2d_7\">\n      <path clip-path=\"url(#pb075e3d3b8)\" d=\"M 50.319844 67.887284 \nL 385.119844 67.887284 \n\" style=\"fill:none;stroke:#cccccc;stroke-linecap:round;\"/>\n     </g>\n     <g id=\"text_18\">\n      <!-- 150 -->\n      <g style=\"fill:#262626;\" transform=\"translate(22.46875 71.824081)scale(0.11 -0.11)\">\n       <use xlink:href=\"#ArialMT-49\"/>\n       <use x=\"55.615234\" xlink:href=\"#ArialMT-53\"/>\n       <use x=\"111.230469\" xlink:href=\"#ArialMT-48\"/>\n      </g>\n     </g>\n    </g>\n    <g id=\"ytick_8\">\n     <g id=\"line2d_8\">\n      <path clip-path=\"url(#pb075e3d3b8)\" d=\"M 50.319844 41.761832 \nL 385.119844 41.761832 \n\" style=\"fill:none;stroke:#cccccc;stroke-linecap:round;\"/>\n     </g>\n     <g id=\"text_19\">\n      <!-- 175 -->\n      <g style=\"fill:#262626;\" transform=\"translate(22.46875 45.698629)scale(0.11 -0.11)\">\n       <use xlink:href=\"#ArialMT-49\"/>\n       <use x=\"55.615234\" xlink:href=\"#ArialMT-55\"/>\n       <use x=\"111.230469\" xlink:href=\"#ArialMT-53\"/>\n      </g>\n     </g>\n    </g>\n    <g id=\"ytick_9\">\n     <g id=\"line2d_9\">\n      <path clip-path=\"url(#pb075e3d3b8)\" d=\"M 50.319844 15.636379 \nL 385.119844 15.636379 \n\" style=\"fill:none;stroke:#cccccc;stroke-linecap:round;\"/>\n     </g>\n     <g id=\"text_20\">\n      <!-- 200 -->\n      <g style=\"fill:#262626;\" transform=\"translate(22.46875 19.573176)scale(0.11 -0.11)\">\n       <use xlink:href=\"#ArialMT-50\"/>\n       <use x=\"55.615234\" xlink:href=\"#ArialMT-48\"/>\n       <use x=\"111.230469\" xlink:href=\"#ArialMT-48\"/>\n      </g>\n     </g>\n    </g>\n    <g id=\"text_21\">\n     <!-- DECISIONMAKINGTIME(days) -->\n     <g style=\"fill:#262626;\" transform=\"translate(15.943125 199.59375)rotate(-90)scale(0.12 -0.12)\">\n      <defs>\n       <path d=\"M 7.421875 0 \nL 7.421875 71.578125 \nL 21.6875 71.578125 \nL 38.625 20.90625 \nQ 40.96875 13.8125 42.046875 10.296875 \nQ 43.265625 14.203125 45.84375 21.78125 \nL 62.984375 71.578125 \nL 75.734375 71.578125 \nL 75.734375 0 \nL 66.609375 0 \nL 66.609375 59.90625 \nL 45.796875 0 \nL 37.25 0 \nL 16.546875 60.9375 \nL 16.546875 0 \nz\n\" id=\"ArialMT-77\"/>\n       <path d=\"M 7.328125 0 \nL 7.328125 71.578125 \nL 16.796875 71.578125 \nL 16.796875 36.078125 \nL 52.34375 71.578125 \nL 65.1875 71.578125 \nL 35.15625 42.578125 \nL 66.5 0 \nL 54 0 \nL 28.515625 36.234375 \nL 16.796875 24.8125 \nL 16.796875 0 \nz\n\" id=\"ArialMT-75\"/>\n       <path d=\"M 23.390625 -21.046875 \nQ 16.109375 -11.859375 11.078125 0.4375 \nQ 6.0625 12.75 6.0625 25.921875 \nQ 6.0625 37.546875 9.8125 48.1875 \nQ 14.203125 60.546875 23.390625 72.796875 \nL 29.6875 72.796875 \nQ 23.78125 62.640625 21.875 58.296875 \nQ 18.890625 51.5625 17.1875 44.234375 \nQ 15.09375 35.109375 15.09375 25.875 \nQ 15.09375 2.390625 29.6875 -21.046875 \nz\n\" id=\"ArialMT-40\"/>\n       <path d=\"M 40.234375 0 \nL 40.234375 6.546875 \nQ 35.296875 -1.171875 25.734375 -1.171875 \nQ 19.53125 -1.171875 14.328125 2.25 \nQ 9.125 5.671875 6.265625 11.796875 \nQ 3.421875 17.921875 3.421875 25.875 \nQ 3.421875 33.640625 6 39.96875 \nQ 8.59375 46.296875 13.765625 49.65625 \nQ 18.953125 53.03125 25.34375 53.03125 \nQ 30.03125 53.03125 33.6875 51.046875 \nQ 37.359375 49.078125 39.65625 45.90625 \nL 39.65625 71.578125 \nL 48.390625 71.578125 \nL 48.390625 0 \nz\nM 12.453125 25.875 \nQ 12.453125 15.921875 16.640625 10.984375 \nQ 20.84375 6.0625 26.5625 6.0625 \nQ 32.328125 6.0625 36.34375 10.765625 \nQ 40.375 15.484375 40.375 25.140625 \nQ 40.375 35.796875 36.265625 40.765625 \nQ 32.171875 45.75 26.171875 45.75 \nQ 20.3125 45.75 16.375 40.96875 \nQ 12.453125 36.1875 12.453125 25.875 \nz\n\" id=\"ArialMT-100\"/>\n       <path d=\"M 40.4375 6.390625 \nQ 35.546875 2.25 31.03125 0.53125 \nQ 26.515625 -1.171875 21.34375 -1.171875 \nQ 12.796875 -1.171875 8.203125 3 \nQ 3.609375 7.171875 3.609375 13.671875 \nQ 3.609375 17.484375 5.34375 20.625 \nQ 7.078125 23.78125 9.890625 25.6875 \nQ 12.703125 27.59375 16.21875 28.5625 \nQ 18.796875 29.25 24.03125 29.890625 \nQ 34.671875 31.15625 39.703125 32.90625 \nQ 39.75 34.71875 39.75 35.203125 \nQ 39.75 40.578125 37.25 42.78125 \nQ 33.890625 45.75 27.25 45.75 \nQ 21.046875 45.75 18.09375 43.578125 \nQ 15.140625 41.40625 13.71875 35.890625 \nL 5.125 37.0625 \nQ 6.296875 42.578125 8.984375 45.96875 \nQ 11.671875 49.359375 16.75 51.1875 \nQ 21.828125 53.03125 28.515625 53.03125 \nQ 35.15625 53.03125 39.296875 51.46875 \nQ 43.453125 49.90625 45.40625 47.53125 \nQ 47.359375 45.171875 48.140625 41.546875 \nQ 48.578125 39.3125 48.578125 33.453125 \nL 48.578125 21.734375 \nQ 48.578125 9.46875 49.140625 6.21875 \nQ 49.703125 2.984375 51.375 0 \nL 42.1875 0 \nQ 40.828125 2.734375 40.4375 6.390625 \nz\nM 39.703125 26.03125 \nQ 34.90625 24.078125 25.34375 22.703125 \nQ 19.921875 21.921875 17.671875 20.9375 \nQ 15.4375 19.96875 14.203125 18.09375 \nQ 12.984375 16.21875 12.984375 13.921875 \nQ 12.984375 10.40625 15.640625 8.0625 \nQ 18.3125 5.71875 23.4375 5.71875 \nQ 28.515625 5.71875 32.46875 7.9375 \nQ 36.421875 10.15625 38.28125 14.015625 \nQ 39.703125 17 39.703125 22.796875 \nz\n\" id=\"ArialMT-97\"/>\n       <path d=\"M 6.203125 -19.96875 \nL 5.21875 -11.71875 \nQ 8.109375 -12.5 10.25 -12.5 \nQ 13.1875 -12.5 14.9375 -11.515625 \nQ 16.703125 -10.546875 17.828125 -8.796875 \nQ 18.65625 -7.46875 20.515625 -2.25 \nQ 20.75 -1.515625 21.296875 -0.09375 \nL 1.609375 51.859375 \nL 11.078125 51.859375 \nL 21.875 21.828125 \nQ 23.96875 16.109375 25.640625 9.8125 \nQ 27.15625 15.875 29.25 21.625 \nL 40.328125 51.859375 \nL 49.125 51.859375 \nL 29.390625 -0.875 \nQ 26.21875 -9.421875 24.46875 -12.640625 \nQ 22.125 -17 19.09375 -19.015625 \nQ 16.0625 -21.046875 11.859375 -21.046875 \nQ 9.328125 -21.046875 6.203125 -19.96875 \nz\n\" id=\"ArialMT-121\"/>\n       <path d=\"M 3.078125 15.484375 \nL 11.765625 16.84375 \nQ 12.5 11.625 15.84375 8.84375 \nQ 19.1875 6.0625 25.203125 6.0625 \nQ 31.25 6.0625 34.171875 8.515625 \nQ 37.109375 10.984375 37.109375 14.3125 \nQ 37.109375 17.28125 34.515625 19 \nQ 32.71875 20.171875 25.53125 21.96875 \nQ 15.875 24.421875 12.140625 26.203125 \nQ 8.40625 27.984375 6.46875 31.125 \nQ 4.546875 34.28125 4.546875 38.09375 \nQ 4.546875 41.546875 6.125 44.5 \nQ 7.71875 47.46875 10.453125 49.421875 \nQ 12.5 50.921875 16.03125 51.96875 \nQ 19.578125 53.03125 23.640625 53.03125 \nQ 29.734375 53.03125 34.34375 51.265625 \nQ 38.96875 49.515625 41.15625 46.5 \nQ 43.359375 43.5 44.1875 38.484375 \nL 35.59375 37.3125 \nQ 35.015625 41.3125 32.203125 43.546875 \nQ 29.390625 45.796875 24.265625 45.796875 \nQ 18.21875 45.796875 15.625 43.796875 \nQ 13.03125 41.796875 13.03125 39.109375 \nQ 13.03125 37.40625 14.109375 36.03125 \nQ 15.1875 34.625 17.484375 33.6875 \nQ 18.796875 33.203125 25.25 31.453125 \nQ 34.578125 28.953125 38.25 27.359375 \nQ 41.9375 25.78125 44.03125 22.75 \nQ 46.140625 19.734375 46.140625 15.234375 \nQ 46.140625 10.84375 43.578125 6.953125 \nQ 41.015625 3.078125 36.171875 0.953125 \nQ 31.34375 -1.171875 25.25 -1.171875 \nQ 15.140625 -1.171875 9.84375 3.03125 \nQ 4.546875 7.234375 3.078125 15.484375 \nz\n\" id=\"ArialMT-115\"/>\n       <path d=\"M 12.359375 -21.046875 \nL 6.0625 -21.046875 \nQ 20.65625 2.390625 20.65625 25.875 \nQ 20.65625 35.0625 18.5625 44.09375 \nQ 16.890625 51.421875 13.921875 58.15625 \nQ 12.015625 62.546875 6.0625 72.796875 \nL 12.359375 72.796875 \nQ 21.53125 60.546875 25.921875 48.1875 \nQ 29.6875 37.546875 29.6875 25.921875 \nQ 29.6875 12.75 24.625 0.4375 \nQ 19.578125 -11.859375 12.359375 -21.046875 \nz\n\" id=\"ArialMT-41\"/>\n      </defs>\n      <use xlink:href=\"#ArialMT-68\"/>\n      <use x=\"72.216797\" xlink:href=\"#ArialMT-69\"/>\n      <use x=\"138.916016\" xlink:href=\"#ArialMT-67\"/>\n      <use x=\"211.132812\" xlink:href=\"#ArialMT-73\"/>\n      <use x=\"238.916016\" xlink:href=\"#ArialMT-83\"/>\n      <use x=\"305.615234\" xlink:href=\"#ArialMT-73\"/>\n      <use x=\"333.398438\" xlink:href=\"#ArialMT-79\"/>\n      <use x=\"411.181641\" xlink:href=\"#ArialMT-78\"/>\n      <use x=\"483.398438\" xlink:href=\"#ArialMT-77\"/>\n      <use x=\"566.699219\" xlink:href=\"#ArialMT-65\"/>\n      <use x=\"633.398438\" xlink:href=\"#ArialMT-75\"/>\n      <use x=\"700.097656\" xlink:href=\"#ArialMT-73\"/>\n      <use x=\"727.880859\" xlink:href=\"#ArialMT-78\"/>\n      <use x=\"800.097656\" xlink:href=\"#ArialMT-71\"/>\n      <use x=\"877.880859\" xlink:href=\"#ArialMT-84\"/>\n      <use x=\"938.964844\" xlink:href=\"#ArialMT-73\"/>\n      <use x=\"966.748047\" xlink:href=\"#ArialMT-77\"/>\n      <use x=\"1050.048828\" xlink:href=\"#ArialMT-69\"/>\n      <use x=\"1116.748047\" xlink:href=\"#ArialMT-40\"/>\n      <use x=\"1150.048828\" xlink:href=\"#ArialMT-100\"/>\n      <use x=\"1205.664062\" xlink:href=\"#ArialMT-97\"/>\n      <use x=\"1261.279297\" xlink:href=\"#ArialMT-121\"/>\n      <use x=\"1311.279297\" xlink:href=\"#ArialMT-115\"/>\n      <use x=\"1361.279297\" xlink:href=\"#ArialMT-41\"/>\n     </g>\n    </g>\n   </g>\n   <g id=\"patch_3\">\n    <path clip-path=\"url(#pb075e3d3b8)\" d=\"M 53.667844 224.64 \nL 80.451844 224.64 \nL 80.451844 86.068081 \nL 53.667844 86.068081 \nz\n\" style=\"fill:#5875a4;stroke:#ffffff;stroke-linejoin:miter;\"/>\n   </g>\n   <g id=\"patch_4\">\n    <path clip-path=\"url(#pb075e3d3b8)\" d=\"M 87.147844 224.64 \nL 113.931844 224.64 \nL 113.931844 17.554286 \nL 87.147844 17.554286 \nz\n\" style=\"fill:#cc8963;stroke:#ffffff;stroke-linejoin:miter;\"/>\n   </g>\n   <g id=\"patch_5\">\n    <path clip-path=\"url(#pb075e3d3b8)\" d=\"M 120.627844 224.64 \nL 147.411844 224.64 \nL 147.411844 166.034834 \nL 120.627844 166.034834 \nz\n\" style=\"fill:#5f9e6e;stroke:#ffffff;stroke-linejoin:miter;\"/>\n   </g>\n   <g id=\"patch_6\">\n    <path clip-path=\"url(#pb075e3d3b8)\" d=\"M 154.107844 224.64 \nL 180.891844 224.64 \nL 180.891844 108.428197 \nL 154.107844 108.428197 \nz\n\" style=\"fill:#b55d60;stroke:#ffffff;stroke-linejoin:miter;\"/>\n   </g>\n   <g id=\"patch_7\">\n    <path clip-path=\"url(#pb075e3d3b8)\" d=\"M 187.587844 224.64 \nL 214.371844 224.64 \nL 214.371844 106.884758 \nL 187.587844 106.884758 \nz\n\" style=\"fill:#857aab;stroke:#ffffff;stroke-linejoin:miter;\"/>\n   </g>\n   <g id=\"patch_8\">\n    <path clip-path=\"url(#pb075e3d3b8)\" d=\"M 221.067844 224.64 \nL 247.851844 224.64 \nL 247.851844 116.590942 \nL 221.067844 116.590942 \nz\n\" style=\"fill:#8d7866;stroke:#ffffff;stroke-linejoin:miter;\"/>\n   </g>\n   <g id=\"patch_9\">\n    <path clip-path=\"url(#pb075e3d3b8)\" d=\"M 254.547844 224.64 \nL 281.331844 224.64 \nL 281.331844 95.171697 \nL 254.547844 95.171697 \nz\n\" style=\"fill:#d095bf;stroke:#ffffff;stroke-linejoin:miter;\"/>\n   </g>\n   <g id=\"patch_10\">\n    <path clip-path=\"url(#pb075e3d3b8)\" d=\"M 288.027844 224.64 \nL 314.811844 224.64 \nL 314.811844 109.230191 \nL 288.027844 109.230191 \nz\n\" style=\"fill:#8c8c8c;stroke:#ffffff;stroke-linejoin:miter;\"/>\n   </g>\n   <g id=\"patch_11\">\n    <path clip-path=\"url(#pb075e3d3b8)\" d=\"M 321.507844 224.64 \nL 348.291844 224.64 \nL 348.291844 125.503892 \nL 321.507844 125.503892 \nz\n\" style=\"fill:#c1b37f;stroke:#ffffff;stroke-linejoin:miter;\"/>\n   </g>\n   <g id=\"patch_12\">\n    <path clip-path=\"url(#pb075e3d3b8)\" d=\"M 354.987844 224.64 \nL 381.771844 224.64 \nL 381.771844 117.012345 \nL 354.987844 117.012345 \nz\n\" style=\"fill:#71aec0;stroke:#ffffff;stroke-linejoin:miter;\"/>\n   </g>\n   <g id=\"line2d_10\">\n    <path clip-path=\"url(#pb075e3d3b8)\" d=\"M -0 0 \n\" style=\"fill:none;stroke:#424242;stroke-linecap:round;stroke-width:2.7;\"/>\n   </g>\n   <g id=\"line2d_11\">\n    <path clip-path=\"url(#pb075e3d3b8)\" d=\"M -0 0 \n\" style=\"fill:none;stroke:#424242;stroke-linecap:round;stroke-width:2.7;\"/>\n   </g>\n   <g id=\"line2d_12\">\n    <path clip-path=\"url(#pb075e3d3b8)\" d=\"M -0 0 \n\" style=\"fill:none;stroke:#424242;stroke-linecap:round;stroke-width:2.7;\"/>\n   </g>\n   <g id=\"line2d_13\">\n    <path clip-path=\"url(#pb075e3d3b8)\" d=\"M -0 0 \n\" style=\"fill:none;stroke:#424242;stroke-linecap:round;stroke-width:2.7;\"/>\n   </g>\n   <g id=\"line2d_14\">\n    <path clip-path=\"url(#pb075e3d3b8)\" d=\"M -0 0 \n\" style=\"fill:none;stroke:#424242;stroke-linecap:round;stroke-width:2.7;\"/>\n   </g>\n   <g id=\"line2d_15\">\n    <path clip-path=\"url(#pb075e3d3b8)\" d=\"M -0 0 \n\" style=\"fill:none;stroke:#424242;stroke-linecap:round;stroke-width:2.7;\"/>\n   </g>\n   <g id=\"line2d_16\">\n    <path clip-path=\"url(#pb075e3d3b8)\" d=\"M -0 0 \n\" style=\"fill:none;stroke:#424242;stroke-linecap:round;stroke-width:2.7;\"/>\n   </g>\n   <g id=\"line2d_17\">\n    <path clip-path=\"url(#pb075e3d3b8)\" d=\"M -0 0 \n\" style=\"fill:none;stroke:#424242;stroke-linecap:round;stroke-width:2.7;\"/>\n   </g>\n   <g id=\"line2d_18\">\n    <path clip-path=\"url(#pb075e3d3b8)\" d=\"M -0 0 \n\" style=\"fill:none;stroke:#424242;stroke-linecap:round;stroke-width:2.7;\"/>\n   </g>\n   <g id=\"line2d_19\">\n    <path clip-path=\"url(#pb075e3d3b8)\" d=\"M -0 0 \n\" style=\"fill:none;stroke:#424242;stroke-linecap:round;stroke-width:2.7;\"/>\n   </g>\n   <g id=\"patch_13\">\n    <path d=\"M 50.319844 224.64 \nL 50.319844 7.2 \n\" style=\"fill:none;stroke:#cccccc;stroke-linecap:square;stroke-linejoin:miter;stroke-width:1.25;\"/>\n   </g>\n   <g id=\"patch_14\">\n    <path d=\"M 385.119844 224.64 \nL 385.119844 7.2 \n\" style=\"fill:none;stroke:#cccccc;stroke-linecap:square;stroke-linejoin:miter;stroke-width:1.25;\"/>\n   </g>\n   <g id=\"patch_15\">\n    <path d=\"M 50.319844 224.64 \nL 385.119844 224.64 \n\" style=\"fill:none;stroke:#cccccc;stroke-linecap:square;stroke-linejoin:miter;stroke-width:1.25;\"/>\n   </g>\n   <g id=\"patch_16\">\n    <path d=\"M 50.319844 7.2 \nL 385.119844 7.2 \n\" style=\"fill:none;stroke:#cccccc;stroke-linecap:square;stroke-linejoin:miter;stroke-width:1.25;\"/>\n   </g>\n  </g>\n </g>\n <defs>\n  <clipPath id=\"pb075e3d3b8\">\n   <rect height=\"217.44\" width=\"334.8\" x=\"50.319844\" y=\"7.2\"/>\n  </clipPath>\n </defs>\n</svg>\n",
      "image/png": "[encoded data removed]"
     },
     "metadata": {}
    }
   ],
   "source": [
    "# The size of the entire dataset is too big, only we're taking only the 20 datasets with the highest overall frequency to be displayed on a graph for better visulization . \n",
    "TOP10 = TIME_LENGTH_df['PRODUCTCODE'].value_counts()[:10].index.tolist()\n",
    "AVERAGE_TIME_TOP10 = AVERAGE_TIME.loc[AVERAGE_TIME['PRODUCTCODE'].isin(TOP10)]\n",
    "\n",
    "sns.set_theme(style=\"whitegrid\")\n",
    "aver_t_plot = sns.barplot(x = \"PRODUCTCODE\", y = \"DECISIONMAKINGTIME(days)\", data = AVERAGE_TIME_TOP10)\n",
    "plt.show()"
   ]
  },
  {
   "cell_type": "code",
   "execution_count": null,
   "metadata": {},
   "outputs": [],
   "source": [
    "# Second of the top 20, can change number of product code by change the [10:20] to any other number range  \n",
    "TOP20 = TIME_LENGTH_df['PRODUCTCODE'].value_counts()[10:20].index.tolist()\n",
    "AVERAGE_TIME_TOP20 = AVERAGE_TIME.loc[AVERAGE_TIME['PRODUCTCODE'].isin(TOP20)]\n",
    "AVERAGE_TIME_TOP20.head(20)\n",
    "\n",
    "sns.set_theme(style=\"whitegrid\")\n",
    "aver_t_plot = sns.barplot(x = \"PRODUCTCODE\", y = \"DECISIONMAKINGTIME(days)\", data = AVERAGE_TIME_TOP20)\n",
    "plt.show()"
   ]
  },
  {
   "source": [
    "###  Top 20th most frequently apply product code from 1976 to now："
   ],
   "cell_type": "markdown",
   "metadata": {}
  },
  {
   "cell_type": "code",
   "execution_count": null,
   "metadata": {},
   "outputs": [],
   "source": [
    "Top20_productcode = TIME_LENGTH_df['PRODUCTCODE'].value_counts()[0:20].index.tolist()\n",
    "Top20_productcode_counts = TIME_LENGTH_df['PRODUCTCODE'].value_counts()[0:20].tolist()\n",
    "TIME_LENGTH_df['PRODUCTCODE'].value_counts()[0:20]"
   ]
  },
  {
   "source": [
    "### The product code for the Longest Time:"
   ],
   "cell_type": "markdown",
   "metadata": {}
  },
  {
   "cell_type": "code",
   "execution_count": null,
   "metadata": {},
   "outputs": [],
   "source": [
    "MAX_TIME_L = AVERAGE_TIME.sort_values(by=['DECISIONMAKINGTIME(days)'], ascending= False)\n",
    "MAX_TIME_L.head(1)"
   ]
  },
  {
   "source": [
    "### Result: The longest Time period of making decision is 2201 days for Product PBK from 1976 till now."
   ],
   "cell_type": "markdown",
   "metadata": {}
  },
  {
   "source": [
    "###  Top 5 product codes for the Shortest Application Time:"
   ],
   "cell_type": "markdown",
   "metadata": {}
  },
  {
   "cell_type": "code",
   "execution_count": null,
   "metadata": {},
   "outputs": [],
   "source": [
    "MIN_TIME_L = AVERAGE_TIME.sort_values(by=['DECISIONMAKINGTIME(days)'])\n",
    "MIN_TIME_L.head(5)"
   ]
  },
  {
   "source": [
    "### Result: For product code DJH, it took less than 1 day to make decision, and for KIK, ESH, IFZ, OUC their average time length is 4 ,6, 6, 7 days."
   ],
   "cell_type": "markdown",
   "metadata": {}
  },
  {
   "source": [
    "# 2.  The below data focuses on the most recent timeframes"
   ],
   "cell_type": "markdown",
   "metadata": {}
  },
  {
   "cell_type": "code",
   "execution_count": null,
   "metadata": {},
   "outputs": [],
   "source": [
    "TIME_LENGTH_df_rec = DATA_rec[[\"PRODUCTCODE\",\"DATERECEIVED\", \"DECISIONDATE\"]]\n",
    "recieved_date = TIME_LENGTH_df_rec['DATERECEIVED'].tolist()\n",
    "decision_date = TIME_LENGTH_df_rec[\"DECISIONDATE\"].tolist()\n",
    "time_length = []\n",
    "for i in range(len(recieved_date)):\n",
    "    time_length.append(cal_time_length(recieved_date[i], decision_date[i]))\n",
    "TIME_LENGTH_df_rec['DECISIONMAKINGTIME(days)'] = time_length\n",
    "AVERAGE_TIME_rec = TIME_LENGTH_df_rec.groupby('PRODUCTCODE', as_index= False)['DECISIONMAKINGTIME(days)'].mean()"
   ]
  },
  {
   "source": [
    "### Distribution:"
   ],
   "cell_type": "markdown",
   "metadata": {}
  },
  {
   "cell_type": "code",
   "execution_count": null,
   "metadata": {},
   "outputs": [],
   "source": [
    "print(f\"total number of product code types recently is {len(AVERAGE_TIME_rec.index)}\")\n",
    "print(f\"total case number recently is {len(TIME_LENGTH_df_rec)}\")"
   ]
  },
  {
   "source": [
    "## The top #1-#10 product codes and their average approval time:\n"
   ],
   "cell_type": "markdown",
   "metadata": {}
  },
  {
   "cell_type": "code",
   "execution_count": null,
   "metadata": {},
   "outputs": [],
   "source": [
    "TOP10_rec = TIME_LENGTH_df_rec['PRODUCTCODE'].value_counts()[:10].index.tolist()\n",
    "AVERAGE_TIME_TOP10_rec = AVERAGE_TIME_rec.loc[AVERAGE_TIME_rec['PRODUCTCODE'].isin(TOP10_rec)]\n",
    "\n",
    "sns.set_theme(style=\"whitegrid\")\n",
    "aver_t_plot = sns.barplot(x = \"PRODUCTCODE\", y = \"DECISIONMAKINGTIME(days)\", data = AVERAGE_TIME_TOP10_rec)\n",
    "plt.show()"
   ]
  },
  {
   "source": [
    "## The top #10-#20 product codes and their average approval time:"
   ],
   "cell_type": "markdown",
   "metadata": {}
  },
  {
   "cell_type": "code",
   "execution_count": null,
   "metadata": {},
   "outputs": [],
   "source": [
    "TOP20_rec = TIME_LENGTH_df_rec['PRODUCTCODE'].value_counts()[10:20].index.tolist()\n",
    "AVERAGE_TIME_TOP20_rec = AVERAGE_TIME_rec.loc[AVERAGE_TIME_rec['PRODUCTCODE'].isin(TOP20_rec)]\n",
    "AVERAGE_TIME_TOP20_rec.head(20)\n",
    "\n",
    "sns.set_theme(style=\"whitegrid\")\n",
    "aver_t_plot = sns.barplot(x = \"PRODUCTCODE\", y = \"DECISIONMAKINGTIME(days)\", data = AVERAGE_TIME_TOP20_rec)\n",
    "plt.show()"
   ]
  },
  {
   "source": [
    "###  Top 20 most frequently applied product codes recently："
   ],
   "cell_type": "markdown",
   "metadata": {}
  },
  {
   "cell_type": "code",
   "execution_count": null,
   "metadata": {},
   "outputs": [],
   "source": [
    "Top20_productcode = TIME_LENGTH_df_rec['PRODUCTCODE'].value_counts()[0:20].index.tolist()\n",
    "Top20_productcode_counts = TIME_LENGTH_df_rec['PRODUCTCODE'].value_counts()[0:20].tolist()\n",
    "TIME_LENGTH_df_rec['PRODUCTCODE'].value_counts()[0:20]"
   ]
  },
  {
   "source": [
    "### Longest Time Length Recently:"
   ],
   "cell_type": "markdown",
   "metadata": {}
  },
  {
   "cell_type": "code",
   "execution_count": null,
   "metadata": {},
   "outputs": [],
   "source": [
    "MAX_TIME_L_rec = AVERAGE_TIME_rec.sort_values(by=['DECISIONMAKINGTIME(days)'], ascending= False)\n",
    "MAX_TIME_L_rec.head(1)"
   ]
  },
  {
   "source": [
    "### Result: The longest Time period of making decision is 682 days for Product EBG recently."
   ],
   "cell_type": "markdown",
   "metadata": {}
  },
  {
   "source": [
    "### Shortest Time Length Recently:"
   ],
   "cell_type": "markdown",
   "metadata": {}
  },
  {
   "cell_type": "code",
   "execution_count": null,
   "metadata": {},
   "outputs": [],
   "source": [
    "MIN_TIME_L_rec = AVERAGE_TIME_rec.sort_values(by=['DECISIONMAKINGTIME(days)'])\n",
    "MIN_TIME_L_rec.head(1)"
   ]
  },
  {
   "source": [
    "### Result: The shortest Time period of making decision is 14 days for Product DQO recently."
   ],
   "cell_type": "markdown",
   "metadata": {}
  },
  {
   "source": [
    "# 3. From 1996 to Now:"
   ],
   "cell_type": "markdown",
   "metadata": {}
  },
  {
   "cell_type": "code",
   "execution_count": null,
   "metadata": {},
   "outputs": [],
   "source": [
    "TIME_LENGTH_df_96 = DATA_96cur[[\"PRODUCTCODE\",\"DATERECEIVED\", \"DECISIONDATE\"]]\n",
    "recieved_date = TIME_LENGTH_df_96['DATERECEIVED'].tolist()\n",
    "decision_date = TIME_LENGTH_df_96[\"DECISIONDATE\"].tolist()\n",
    "time_length = []\n",
    "for i in range(len(recieved_date)):\n",
    "    time_length.append(cal_time_length(recieved_date[i], decision_date[i]))\n",
    "TIME_LENGTH_df_96['DECISIONMAKINGTIME(days)'] = time_length\n",
    "AVERAGE_TIME_96 = TIME_LENGTH_df_96.groupby('PRODUCTCODE', as_index= False)['DECISIONMAKINGTIME(days)'].mean()"
   ]
  },
  {
   "source": [
    "### Distributions:"
   ],
   "cell_type": "markdown",
   "metadata": {}
  },
  {
   "cell_type": "code",
   "execution_count": null,
   "metadata": {},
   "outputs": [],
   "source": [
    "print(f\"total number of product code types from 1996 till now is {len(AVERAGE_TIME_96.index)}\")\n",
    "print(f\"total case number recently from 1996 till now is {len(TIME_LENGTH_df_96)}\")"
   ]
  },
  {
   "cell_type": "code",
   "execution_count": null,
   "metadata": {},
   "outputs": [],
   "source": [
    "TOP10_96 = TIME_LENGTH_df_96['PRODUCTCODE'].value_counts()[:10].index.tolist()\n",
    "AVERAGE_TIME_TOP10_96 = AVERAGE_TIME_96.loc[AVERAGE_TIME_96['PRODUCTCODE'].isin(TOP10)]\n",
    "\n",
    "sns.set_theme(style=\"whitegrid\")\n",
    "aver_t_plot = sns.barplot(x = \"PRODUCTCODE\", y = \"DECISIONMAKINGTIME(days)\", data = AVERAGE_TIME_TOP10_96)\n",
    "plt.show()"
   ]
  },
  {
   "cell_type": "code",
   "execution_count": null,
   "metadata": {},
   "outputs": [],
   "source": [
    "TOP20_96 = TIME_LENGTH_df_96['PRODUCTCODE'].value_counts()[10:20].index.tolist()\n",
    "AVERAGE_TIME_TOP20_96 = AVERAGE_TIME_96.loc[AVERAGE_TIME_96['PRODUCTCODE'].isin(TOP20_96)]\n",
    "AVERAGE_TIME_TOP20_96.head(20)\n",
    "\n",
    "sns.set_theme(style=\"whitegrid\")\n",
    "aver_t_plot = sns.barplot(x = \"PRODUCTCODE\", y = \"DECISIONMAKINGTIME(days)\", data = AVERAGE_TIME_TOP20_96)\n",
    "plt.show()"
   ]
  },
  {
   "source": [
    "###  Top 20th most frequently apply product code from 1996 till now："
   ],
   "cell_type": "markdown",
   "metadata": {}
  },
  {
   "cell_type": "code",
   "execution_count": null,
   "metadata": {},
   "outputs": [],
   "source": [
    "Top20_productcode = TIME_LENGTH_df_96['PRODUCTCODE'].value_counts()[0:20].index.tolist()\n",
    "Top20_productcode_counts = TIME_LENGTH_df_96['PRODUCTCODE'].value_counts()[0:20].tolist()\n",
    "TIME_LENGTH_df_96['PRODUCTCODE'].value_counts()[0:20]"
   ]
  },
  {
   "source": [
    "### Longest Time Length (1996 till now):"
   ],
   "cell_type": "markdown",
   "metadata": {}
  },
  {
   "cell_type": "code",
   "execution_count": null,
   "metadata": {},
   "outputs": [],
   "source": [
    "MAX_TIME_L_96 = AVERAGE_TIME_96.sort_values(by=['DECISIONMAKINGTIME(days)'], ascending= False)\n",
    "MAX_TIME_L_96.head(1)"
   ]
  },
  {
   "source": [
    "### Result: The longest Time period of making decision is 2201 days for Product PBK recently."
   ],
   "cell_type": "markdown",
   "metadata": {}
  },
  {
   "source": [
    "### Shortest Time Length (1996 TILL NOW):"
   ],
   "cell_type": "markdown",
   "metadata": {}
  },
  {
   "cell_type": "code",
   "execution_count": null,
   "metadata": {},
   "outputs": [],
   "source": [
    "MIN_TIME_L_96 = AVERAGE_TIME_96.sort_values(by=['DECISIONMAKINGTIME(days)'])\n",
    "MIN_TIME_L_96.head(1)"
   ]
  },
  {
   "source": [
    "### Result: The shortest Time period of making decision is 7 days for Product OUC recently."
   ],
   "cell_type": "markdown",
   "metadata": {}
  },
  {
   "source": [
    "---"
   ],
   "cell_type": "markdown",
   "metadata": {}
  },
  {
   "source": [
    "\n"
   ],
   "cell_type": "markdown",
   "metadata": {}
  },
  {
   "source": [
    "# Find the trend of 510k applicant from the pass 30 years"
   ],
   "cell_type": "markdown",
   "metadata": {}
  },
  {
   "source": [
    "---\n"
   ],
   "cell_type": "markdown",
   "metadata": {}
  },
  {
   "cell_type": "code",
   "execution_count": null,
   "metadata": {},
   "outputs": [],
   "source": [
    "DATA_30years = pd.concat([DATA_rec, DATA_96cur,DATA_9195])\n"
   ]
  },
  {
   "cell_type": "code",
   "execution_count": null,
   "metadata": {
    "tags": []
   },
   "outputs": [],
   "source": [
    "received_date = DATA_30years['DATERECEIVED'].tolist()\n",
    "received_year = []\n",
    "for date in received_date:\n",
    "    new_date = datetime.strptime(str(date), date_format)\n",
    "    received_year.append(new_date.year)\n",
    "DATA_30years['YEARRECEIVED'] = received_year"
   ]
  },
  {
   "source": [
    "## 1, PRODUCT CODE TREND\n"
   ],
   "cell_type": "markdown",
   "metadata": {}
  },
  {
   "cell_type": "code",
   "execution_count": null,
   "metadata": {},
   "outputs": [],
   "source": [
    "DATA_30YEARS_PC = DATA_30years[[\"PRODUCTCODE\", \"YEARRECEIVED\"]]"
   ]
  },
  {
   "cell_type": "code",
   "execution_count": null,
   "metadata": {},
   "outputs": [],
   "source": [
    "DATA_1020_PC = DATA_30YEARS_PC[DATA_30YEARS_PC['YEARRECEIVED'] >= 2010]\n",
    "DATA_0010_PC = DATA_30YEARS_PC[DATA_30YEARS_PC['YEARRECEIVED'].isin(range(2000,2010))]\n",
    "DATA_9000_PC = DATA_30YEARS_PC[DATA_30YEARS_PC['YEARRECEIVED'] < 2000]\n",
    "if len(DATA_30YEARS_PC.index) == (len(DATA_0010_PC.index) + len(DATA_9000_PC.index)  +  len(DATA_1020_PC.index)):\n",
    "    print('Split successfully!')\n",
    "else:\n",
    "    print(len(DATA_30YEARS_PC.index))\n",
    "    print((len(DATA_0010_PC.index) + len(DATA_9000_PC.index)  +  len(DATA_1020_PC.index)))"
   ]
  },
  {
   "cell_type": "code",
   "execution_count": null,
   "metadata": {},
   "outputs": [],
   "source": [
    "TOP10_1020_PC = DATA_1020_PC['PRODUCTCODE'].value_counts().index[0:10].tolist()\n",
    "TOP10_1020_Count = DATA_1020_PC['PRODUCTCODE'].value_counts()[0:10].tolist()\n",
    "\n",
    "sns.set_theme(style=\"whitegrid\")\n",
    "TOP10_1020_P_plot = sns.barplot( TOP10_1020_PC, TOP10_1020_Count)\n",
    "plt.show()\n",
    "\n"
   ]
  },
  {
   "cell_type": "code",
   "execution_count": null,
   "metadata": {},
   "outputs": [],
   "source": [
    "TOP10_0010_PC = DATA_0010_PC['PRODUCTCODE'].value_counts().index[0:10].tolist()\n",
    "TOP10_0010_Count = DATA_0010_PC['PRODUCTCODE'].value_counts()[0:10].tolist()\n",
    "sns.set_theme(style=\"whitegrid\")\n",
    "TOP10_0010_P_plot = sns.barplot( TOP10_0010_PC, TOP10_0010_Count)\n",
    "plt.show()"
   ]
  },
  {
   "cell_type": "code",
   "execution_count": null,
   "metadata": {},
   "outputs": [],
   "source": [
    "TOP10_9000_PC = DATA_9000_PC['PRODUCTCODE'].value_counts().index[0:10].tolist()\n",
    "TOP10_9000_Count = DATA_9000_PC['PRODUCTCODE'].value_counts()[0:10].tolist()\n",
    "\n",
    "sns.set_theme(style=\"whitegrid\")\n",
    "TOP10_9000_P_plot = sns.barplot( TOP10_9000_PC, TOP10_9000_Count)\n",
    "plt.show()"
   ]
  },
  {
   "cell_type": "code",
   "execution_count": null,
   "metadata": {},
   "outputs": [],
   "source": [
    "COMMON_PC = []\n",
    "for i in range(10):\n",
    "    if TOP10_1020_PC[i] in TOP10_0010_PC and TOP10_1020_PC[i] in TOP10_9000_PC:\n",
    "        COMMON_PC.append(TOP10_1020_PC[i])\n",
    "\n",
    "print(f\"The most common product codes that dominate each decade are {COMMON_PC}\")"
   ]
  },
  {
   "cell_type": "code",
   "execution_count": null,
   "metadata": {},
   "outputs": [],
   "source": [
    "DATA_30years_PC_year = DATA_30years[['PRODUCTCODE','YEARRECEIVED']]\n",
    "DATA_COMMON = DATA_30years_PC_year[DATA_30years_PC_year[\"PRODUCTCODE\"].isin(COMMON_PC)]\n",
    "DATA_COMMON"
   ]
  },
  {
   "cell_type": "code",
   "execution_count": null,
   "metadata": {},
   "outputs": [],
   "source": [
    "COMMON_PC_YEAR_COUNT = DATA_COMMON.groupby([\"PRODUCTCODE\", \"YEARRECEIVED\"], as_index = False).size()"
   ]
  },
  {
   "cell_type": "code",
   "execution_count": null,
   "metadata": {},
   "outputs": [],
   "source": [
    "sns.lineplot(data=COMMON_PC_YEAR_COUNT, x=\"YEAR RECEIVED\", y=\"Size\", hue=\"PRODUCT CODE\")"
   ]
  },
  {
   "source": [
    "## 2. Trends by country of origin"
   ],
   "cell_type": "markdown",
   "metadata": {}
  },
  {
   "cell_type": "code",
   "execution_count": null,
   "metadata": {},
   "outputs": [],
   "source": [
    "# Main dataframe is DATA_30years\n",
    "DATA_30YEARS_CY = DATA_30years[[\"COUNTRY_CODE\",\"YEARRECEIVED\"]]\n",
    "DATA_30YEARS_CY"
   ]
  },
  {
   "cell_type": "code",
   "execution_count": null,
   "metadata": {},
   "outputs": [],
   "source": [
    "DATA_1020_CY = DATA_30YEARS_CY[DATA_30YEARS_CY['YEARRECEIVED'] >= 2010]\n",
    "DATA_0010_CY = DATA_30YEARS_CY[DATA_30YEARS_CY['YEARRECEIVED'].isin(range(2000,2010))]\n",
    "DATA_9000_CY = DATA_30YEARS_CY[DATA_30YEARS_CY['YEARRECEIVED'] < 2000]\n",
    "if len(DATA_30YEARS_CY.index) == (len(DATA_1020_CY.index) + len(DATA_0010_CY.index)  +  len(DATA_9000_CY.index)):\n",
    "    print('Split successfully!')\n",
    "else:\n",
    "    print(len(DATA_30YEARS_CY.index))\n",
    "    print((len(DATA_1020_CY.index) + len(DATA_0010_CY.index)  +  len(DATA_9000_CY.index)))"
   ]
  },
  {
   "source": [
    "# Dominant countries and their number of applications visualied throughout 3 decades"
   ],
   "cell_type": "markdown",
   "metadata": {}
  },
  {
   "cell_type": "code",
   "execution_count": null,
   "metadata": {},
   "outputs": [],
   "source": [
    "TOP10_1020_CY = DATA_1020_CY['COUNTRY_CODE'].value_counts().index[0:10].tolist()\n",
    "TOP10_1020_CY_Count = DATA_1020_CY['COUNTRY_CODE'].value_counts()[0:10].tolist()\n",
    "\n",
    "sns.set_theme(style=\"whitegrid\")\n",
    "TOP10_1020_C_plot = sns.barplot( TOP10_1020_CY, TOP10_1020_CY_Count)\n",
    "plt.show()"
   ]
  },
  {
   "cell_type": "code",
   "execution_count": null,
   "metadata": {},
   "outputs": [],
   "source": [
    "TOP10_0010_CY = DATA_0010_CY['COUNTRY_CODE'].value_counts().index[0:10].tolist()\n",
    "TOP10_0010_CY_Count = DATA_0010_CY['COUNTRY_CODE'].value_counts()[0:10].tolist()\n",
    "\n",
    "sns.set_theme(style=\"whitegrid\")\n",
    "TOP10_0010_C_plot = sns.barplot( TOP10_0010_CY, TOP10_0010_CY_Count)\n",
    "plt.show()"
   ]
  },
  {
   "cell_type": "code",
   "execution_count": null,
   "metadata": {},
   "outputs": [],
   "source": [
    "TOP10_9000_CY = DATA_9000_CY['COUNTRY_CODE'].value_counts().index[0:10].tolist()\n",
    "TOP10_9000_CY_Count = DATA_9000_CY['COUNTRY_CODE'].value_counts()[0:10].tolist()\n",
    "\n",
    "sns.set_theme(style=\"whitegrid\")\n",
    "TOP10_9000_C_plot = sns.barplot( TOP10_9000_CY, TOP10_9000_CY_Count)\n",
    "plt.show()"
   ]
  },
  {
   "cell_type": "code",
   "execution_count": null,
   "metadata": {},
   "outputs": [],
   "source": [
    "COMMON_CY = []\n",
    "for i in range(10):\n",
    "    if TOP10_1020_CY[i] in TOP10_0010_CY and TOP10_1020_CY[i] in TOP10_9000_CY:\n",
    "        COMMON_CY.append(TOP10_1020_CY[i])\n",
    "\n",
    "print(f\"The most common country where the applicants that dominate each decade from are {COMMON_CY}\")"
   ]
  },
  {
   "cell_type": "code",
   "execution_count": null,
   "metadata": {},
   "outputs": [],
   "source": [
    "DATA_30years_CY_year = DATA_30years[['COUNTRY_CODE','YEARRECEIVED']]\n",
    "DATA_COMMON_CY = DATA_30years_CY_year[DATA_30years_CY_year[\"COUNTRY_CODE\"].isin(COMMON_CY)]"
   ]
  },
  {
   "cell_type": "code",
   "execution_count": null,
   "metadata": {},
   "outputs": [],
   "source": [
    "COMMON_CY_YEAR_COUNT = DATA_COMMON_CY.groupby([\"COUNTRY_CODE\", \"YEARRECEIVED\"], as_index = False).size()\n",
    "COMMON_CY_YEAR_COUNT_US = COMMON_CY_YEAR_COUNT[COMMON_CY_YEAR_COUNT[\"COUNTRY_CODE\"] == \"US\"]\n",
    "COMMON_CY_YEAR_COUNT_OTHER = COMMON_CY_YEAR_COUNT[COMMON_CY_YEAR_COUNT[\"COUNTRY_CODE\"] != \"US\"]"
   ]
  },
  {
   "cell_type": "code",
   "execution_count": null,
   "metadata": {},
   "outputs": [],
   "source": [
    "# Since the number of US applicants is faily large, in order for better visualization the trend for the US has been seperated from the other 5 common countries. \n",
    "sns.lineplot(data=COMMON_CY_YEAR_COUNT_US, x=\"YEARRECEIVED\", y=\"size\", hue=\"COUNTRY_CODE\")"
   ]
  },
  {
   "cell_type": "code",
   "execution_count": null,
   "metadata": {},
   "outputs": [],
   "source": [
    "sns.lineplot(data=COMMON_CY_YEAR_COUNT_OTHER, x=\"YEARRECEIVED\", y=\"size\", hue=\"COUNTRY_CODE\")"
   ]
  },
  {
   "source": [
    "## 3. Applicants by corporation and their most dominant trends:"
   ],
   "cell_type": "markdown",
   "metadata": {}
  },
  {
   "cell_type": "code",
   "execution_count": null,
   "metadata": {},
   "outputs": [],
   "source": [
    "# Main dataframe is DATA_30years\n",
    "DATA_30YEARS_AP = DATA_30years[[\"APPLICANT\", \"YEARRECEIVED\"]]\n",
    "DATA_30YEARS_AP"
   ]
  },
  {
   "cell_type": "code",
   "execution_count": null,
   "metadata": {},
   "outputs": [],
   "source": [
    "DATA_1020_AP = DATA_30YEARS_AP[DATA_30YEARS_AP['YEARRECEIVED'] >= 2010]\n",
    "DATA_0010_AP = DATA_30YEARS_AP[DATA_30YEARS_AP['YEARRECEIVED'].isin(range(2000,2010))]\n",
    "DATA_9000_AP = DATA_30YEARS_AP[DATA_30YEARS_AP['YEARRECEIVED'] < 2000]\n",
    "if len(DATA_30YEARS_AP.index) == (len(DATA_1020_AP.index) + len(DATA_0010_AP.index)  +  len(DATA_9000_AP.index)):\n",
    "    print('Split successfully!')\n",
    "else:\n",
    "    print(len(DATA_30YEARS_AP.index))\n",
    "    print((len(DATA_1020_AP.index) + len(DATA_0010_AP.index)  +  len(DATA_9000_AP.index)))"
   ]
  },
  {
   "source": [
    "## Most dominant corpoations and their frequency of applications through the decades"
   ],
   "cell_type": "markdown",
   "metadata": {}
  },
  {
   "cell_type": "code",
   "execution_count": null,
   "metadata": {},
   "outputs": [],
   "source": [
    "TOP10_1020_AP = DATA_1020_AP['APPLICANT'].value_counts().index[0:10].tolist()\n",
    "TOP10_1020_AP_Count = DATA_1020_AP['APPLICANT'].value_counts()[0:10].tolist()\n",
    "\n",
    "sns.set_theme(style=\"whitegrid\")\n",
    "TOP10_1020_AP_plot = sns.barplot( TOP10_1020_AP, TOP10_1020_AP_Count)\n",
    "TOP10_1020_AP_plot.set_xticklabels(TOP10_1020_AP_plot.get_xticklabels(), rotation=40, ha=\"right\")\n",
    "\n",
    "plt.show()"
   ]
  },
  {
   "cell_type": "code",
   "execution_count": null,
   "metadata": {},
   "outputs": [],
   "source": [
    "TOP10_0010_AP = DATA_0010_AP['APPLICANT'].value_counts().index[0:10].tolist()\n",
    "TOP10_0010_AP_Count = DATA_0010_AP['APPLICANT'].value_counts()[0:10].tolist()\n",
    "\n",
    "sns.set_theme(style=\"whitegrid\")\n",
    "TOP10_0010_AP_plot = sns.barplot( TOP10_0010_AP, TOP10_0010_AP_Count)\n",
    "TOP10_0010_AP_plot.set_xticklabels(TOP10_0010_AP_plot.get_xticklabels(), rotation=40, ha=\"right\")\n",
    "\n",
    "plt.show()"
   ]
  },
  {
   "cell_type": "code",
   "execution_count": null,
   "metadata": {},
   "outputs": [],
   "source": [
    "TOP10_9000_AP = DATA_9000_AP['APPLICANT'].value_counts().index[0:10].tolist()\n",
    "TOP10_9000_AP_Count = DATA_9000_AP['APPLICANT'].value_counts()[0:10].tolist()\n",
    "\n",
    "sns.set_theme(style=\"whitegrid\")\n",
    "TOP10_9000_AP_plot = sns.barplot( TOP10_9000_AP, TOP10_9000_AP_Count)\n",
    "TOP10_9000_AP_plot.set_xticklabels(TOP10_9000_AP_plot.get_xticklabels(), rotation=40, ha=\"right\")\n",
    "\n",
    "plt.show()"
   ]
  },
  {
   "source": [
    "COMMON_AP = []\n",
    "for i in range(10):\n",
    "    if TOP10_1020_AP[i] in TOP10_0010_AP and TOP10_1020_AP[i] in TOP10_9000_AP:\n",
    "        COMMON_AP.append(TOP10_1020_AP[i])\n",
    "\n",
    "print(f\"The most common applicants that dominate each decade from are {COMMON_AP}\")"
   ],
   "cell_type": "code",
   "metadata": {},
   "execution_count": null,
   "outputs": []
  },
  {
   "source": [
    "# The number of applications per top 10 coprorations"
   ],
   "cell_type": "markdown",
   "metadata": {}
  },
  {
   "cell_type": "code",
   "execution_count": null,
   "metadata": {},
   "outputs": [],
   "source": [
    "TOP10_30Y_MODE_AP = DATA_30YEARS_AP['APPLICANT'].value_counts()[:10].index.tolist()\n",
    "TOP10_30Y_MODE_AP_VALUE = DATA_30YEARS_AP['APPLICANT'].value_counts()[:10].tolist()\n",
    "DATA_30YEARS_AP['APPLICANT'].value_counts()[:10]"
   ]
  },
  {
   "cell_type": "code",
   "execution_count": null,
   "metadata": {},
   "outputs": [],
   "source": [
    "TOP3_30Y_MODE_AP =  TOP10_30Y_MODE_AP[0:3]\n",
    "TOP10_30Y_MODE_AP =  TOP10_30Y_MODE_AP[3:10]\n",
    "TOP3_30Y_MODE_AP\n"
   ]
  },
  {
   "cell_type": "code",
   "execution_count": null,
   "metadata": {},
   "outputs": [],
   "source": [
    "DATA_TOP3_AP = DATA_30YEARS_AP[DATA_30YEARS_AP[\"APPLICANT\"].isin(TOP3_30Y_MODE_AP)]\n",
    "DATA_TOP3_AP_COUNT = DATA_TOP3_AP.groupby([\"APPLICANT\", \"YEARRECEIVED\"], as_index = False).size()\n",
    "DATA_30YEARS_AP[DATA_30YEARS_AP[\"APPLICANT\"].isin(TOP3_30Y_MODE_AP)]\n",
    "DATA_TOP3_AP_COUNT"
   ]
  },
  {
   "source": [
    "## The Annual Trends of the Top 3 Applicant Corporations "
   ],
   "cell_type": "code",
   "metadata": {},
   "execution_count": null,
   "outputs": []
  },
  {
   "cell_type": "code",
   "execution_count": null,
   "metadata": {},
   "outputs": [],
   "source": [
    "sns.lineplot(data=DATA_TOP3_AP_COUNT, x=\"YEARRECEIVED\", y=\"size\", hue=\"APPLICANT\").set_title(\"Top 3 companies applications number annually change\")"
   ]
  },
  {
   "source": [
    "## Note: the Siemens Medical Solutions Inc USA seems to be the most stable and consistent company through the time periods"
   ],
   "cell_type": "markdown",
   "metadata": {}
  },
  {
   "source": [
    "## 4. Number of Applicants Trend from 1995 to 2015"
   ],
   "cell_type": "markdown",
   "metadata": {}
  },
  {
   "cell_type": "code",
   "execution_count": null,
   "metadata": {},
   "outputs": [],
   "source": [
    "# Main dataframe is DATA_30years\n",
    "APPLICANT_YEAR = DATA_30years[['YEARRECEIVED']]\n",
    "APPLICANT_YEAR"
   ]
  },
  {
   "cell_type": "code",
   "execution_count": null,
   "metadata": {},
   "outputs": [],
   "source": [
    "AP_NUM_15 = APPLICANT_YEAR[APPLICANT_YEAR['YEARRECEIVED'] >= 2015]\n",
    "AP_NUM_10 = APPLICANT_YEAR[APPLICANT_YEAR['YEARRECEIVED'].isin(range(2010,2015))]\n",
    "AP_NUM_05 = APPLICANT_YEAR[APPLICANT_YEAR['YEARRECEIVED'].isin(range(2005,2010))]\n",
    "AP_NUM_00 = APPLICANT_YEAR[APPLICANT_YEAR['YEARRECEIVED'].isin(range(2000,2005))]\n",
    "AP_NUM_95 = APPLICANT_YEAR[APPLICANT_YEAR['YEARRECEIVED'].isin(range(1995,2000))]\n",
    "AP_NUM_90 = APPLICANT_YEAR[APPLICANT_YEAR['YEARRECEIVED'] < 1995]\n",
    "if (len(AP_NUM_15) + len(AP_NUM_10) + len(AP_NUM_05) + len(AP_NUM_00) + len(AP_NUM_95) + len(AP_NUM_90)) == len(APPLICANT_YEAR):\n",
    "    print(\"split successfully!\")\n",
    "else:\n",
    "    print(f\"Splitted number is {(len(AP_NUM_15) + len(AP_NUM_10) + len(AP_NUM_05) + len(AP_NUM_00) + len(AP_NUM_95) + len(AP_NUM_90))}\")\n",
    "    print(f'Total Number is {len(APPLICANT_YEAR)}')\n"
   ]
  },
  {
   "cell_type": "code",
   "execution_count": null,
   "metadata": {},
   "outputs": [],
   "source": [
    "d = {\"Period\":[ \"1995\", \"2000\", \"2005\", \"2010\", \"2015\", \"2020\"], \"Number\"  : [ len(AP_NUM_90),  len(AP_NUM_95), len(AP_NUM_00), len(AP_NUM_05), len(AP_NUM_10), len(AP_NUM_15),]}\n",
    "APP_NUMBER_TREND = pd.DataFrame(data  = d)\n",
    "APP_NUMBER_TREND"
   ]
  },
  {
   "cell_type": "code",
   "execution_count": null,
   "metadata": {},
   "outputs": [],
   "source": [
    "sns.lineplot(data=APP_NUMBER_TREND, x=\"Period\", y=\"Number\").set_title(\"Applicants per year trend in past 30 years!\")\n",
    "plt.show()"
   ]
  },
  {
   "source": [
    "# Specific Analytics of the Top 3 most consistent product codes of each decade (the 90s, early 2000s, and 2010-2020)"
   ],
   "cell_type": "markdown",
   "metadata": {}
  },
  {
   "source": [
    "### The most successful companies behind the high frequency of the GEX (Laser surgical implementations) product code"
   ],
   "cell_type": "markdown",
   "metadata": {}
  },
  {
   "cell_type": "code",
   "execution_count": null,
   "metadata": {},
   "outputs": [],
   "source": [
    "DATA_TOPInc_PC = DATA_30years.groupby([\"PRODUCTCODE\",\"APPLICANT\"], as_index = False).size()\n",
    "DATA_TOPInc_PC_GEX = DATA_TOPInc_PC[DATA_TOPInc_PC['PRODUCTCODE'] == \"GEX\"]\n",
    "DATA_TOPInc_PC_GEX.sort_values(by=['size'], ascending = False).head(10)\n"
   ]
  },
  {
   "source": [
    "### The most successful companies behind the high frequency of the GEI (Electrosurgical cutting and coagulation devices) product code "
   ],
   "cell_type": "markdown",
   "metadata": {}
  },
  {
   "cell_type": "code",
   "execution_count": null,
   "metadata": {},
   "outputs": [],
   "source": [
    "DATA_TOPInc_PC = DATA_30years.groupby([\"PRODUCTCODE\",\"APPLICANT\"], as_index = False).size()\n",
    "DATA_TOPInc_PC_GEX = DATA_TOPInc_PC[DATA_TOPInc_PC['PRODUCTCODE'] == \"GEI\"]\n",
    "DATA_TOPInc_PC_GEX.sort_values(by=['size'], ascending = False).head(10)"
   ]
  },
  {
   "source": [
    "### The most successful companies behind the high frequency of the DZE (Dental implants) product code "
   ],
   "cell_type": "markdown",
   "metadata": {}
  },
  {
   "cell_type": "code",
   "execution_count": null,
   "metadata": {},
   "outputs": [],
   "source": [
    "DATA_TOPInc_PC = DATA_30years.groupby([\"PRODUCTCODE\",\"APPLICANT\"], as_index = False).size()\n",
    "DATA_TOPInc_PC_GEX = DATA_TOPInc_PC[DATA_TOPInc_PC['PRODUCTCODE'] == \"DZE\"]\n",
    "DATA_TOPInc_PC_GEX.sort_values(by=['size'], ascending = False).head(10)"
   ]
  },
  {
   "source": [
    "## The Shortest Application time frames from China since 1996"
   ],
   "cell_type": "markdown",
   "metadata": {}
  },
  {
   "cell_type": "code",
   "execution_count": null,
   "metadata": {},
   "outputs": [],
   "source": [
    "MIN_TIME_L_96_CN = TIME_LENGTH_df[TIME_LENGTH_df[\"COUNTRY_CODE\"] == \"CN\"]\n",
    "MIN_TIME_L_96_CN.sort_values(by=['DECISIONMAKINGTIME(days)']).head(5)"
   ]
  },
  {
   "source": [
    "##### The IYN product code refers to products that are catagorized as -> ultrasonic pulsed doppler imaging systems\n",
    "##### The DSA product code refers to products that are catagorizedd as -> Electrode Transducers and Cardiovascular devices\n",
    "##### The LYZ product code refers to products  that are categorized as -> Non-powdered patient examination gloves"
   ],
   "cell_type": "markdown",
   "metadata": {}
  },
  {
   "source": [
    "## The Longest Time frames from China since 1996"
   ],
   "cell_type": "markdown",
   "metadata": {}
  },
  {
   "cell_type": "code",
   "execution_count": null,
   "metadata": {},
   "outputs": [],
   "source": [
    "MIN_TIME_L_96_CN = TIME_LENGTH_df[TIME_LENGTH_df[\"COUNTRY_CODE\"] == \"CN\"]\n",
    "MIN_TIME_L_96_CN.sort_values(by=['DECISIONMAKINGTIME(days)'], ascending= False).head(5)"
   ]
  },
  {
   "source": [
    "## Most frequently appearing China based applicant"
   ],
   "cell_type": "markdown",
   "metadata": {}
  },
  {
   "cell_type": "code",
   "execution_count": null,
   "metadata": {},
   "outputs": [],
   "source": [
    "DATA_TOPInc_PC = DATA_30years.groupby([\"COUNTRY_CODE\",\"APPLICANT\"], as_index = False).size()\n",
    "DATA_TOPInc_PC_GEX = DATA_TOPInc_PC[DATA_TOPInc_PC['COUNTRY_CODE'] == \"CN\"]\n",
    "DATA_TOPInc_PC_GEX.sort_values(by=['size'], ascending = False).head(10)"
   ]
  },
  {
   "source": [
    "### The top product code from the most frequently appearing China based company"
   ],
   "cell_type": "markdown",
   "metadata": {}
  },
  {
   "cell_type": "code",
   "execution_count": null,
   "metadata": {},
   "outputs": [],
   "source": [
    "DATA_TOPInc_PC = DATA_30years.groupby([\"COUNTRY_CODE\",\"APPLICANT\",\"PRODUCTCODE\"], as_index = False).size()\n",
    "DATA_TOPInc_PC_GEX = DATA_TOPInc_PC[DATA_TOPInc_PC['APPLICANT'] == \"ANDON HEALTH CO.,LTD\"]\n",
    "DATA_TOPInc_PC_GEX.sort_values(by=['size'], ascending = False).head(10)"
   ]
  },
  {
   "source": [
    "#### For context, The DXN product code refers to -> Noninvasive blood pressure measurement systems of the cardiovascular category"
   ],
   "cell_type": "markdown",
   "metadata": {}
  },
  {
   "source": [
    "### Follow up -> China based applicants"
   ],
   "cell_type": "markdown",
   "metadata": {}
  },
  {
   "source": [
    "## Collected the K number cases for the most successful applicants from previous years based on popular PureFDA product codes (FXX, LZA, FYA, QBD, JSM, JSG,GEX, FLL)"
   ],
   "cell_type": "markdown",
   "metadata": {}
  },
  {
   "source": [
    "### -> Time taken With Third Party review"
   ],
   "cell_type": "markdown",
   "metadata": {}
  },
  {
   "cell_type": "code",
   "execution_count": null,
   "metadata": {},
   "outputs": [],
   "source": [
    "DATA_30years_PFDACodes = DATA_30years.groupby ([\"COUNTRY_CODE\",\"APPLICANT\",\"PRODUCTCODE\",\"510(K) NUMBER\",\"DECISIONMAKINGTIME(days)\",\"THIRD PARTY FLAG\"])\n",
    "DATA_30years_PFDACodesPT2 = [DATA_30years_PFDACodes[\"THIRD PARTY FLAG\"] == 'Y']\n",
    "DATA_30years_PFDACodesPT2.sort_values(by=['DECISIONMAKINGTIME(days)'], ascending = False).head(20)\n",
    "\n",
    "DATA_30years_PFDACodes_plotdata = DATA_30years[['PRODUCTCODE'] == \"FXX, LZA, FYA, QBD, JSM, JSG, GEX, FLL\"]].value_counts().index[0:10].tolist()\n",
    "DATA_30years_PFDACodes_count = DATA_30years['size'].value_counts()[0:10].tolist()\n",
    "\n",
    "sns.set_theme(style=\"whitegrid\")\n",
    "DATA_30years_PFDACodes_plot = sns.barplot( DATA_30years_PFDACodes, DATA_30years_PFDACodes_count)\n",
    "DATA_30years_PFDACodes_Plot.set_xticklabels(DATA_30years_PFDACodes_plot.get_xticklabels(), rotation=40, ha=\"right\")\n",
    "\n",
    "plt.show()\n",
    "\n",
    "sns.lineplot(data=DATA_30years_PFDACodes_plotdata, x=\"DATERECEIVED\", y=\"size\", hue=\"PRODUCTCODE\")"
   ]
  },
  {
   "source": [
    "### -> Time Taken Without Third Party review"
   ],
   "cell_type": "markdown",
   "metadata": {}
  },
  {
   "cell_type": "code",
   "execution_count": null,
   "metadata": {},
   "outputs": [],
   "source": [
    "DATA_30years_PFDACodes = DATA_30years.groupby ([\"COUNTRY_CODE\",\"APPLICANT\",\"PRODUCTCODE\",\"510(K) NUMBER\",\"DECISIONMAKINGTIME(days)\"])\n",
    "DATA_30years_PFDACodes_plotdata = DATA_30years_PFDACodes[['510(K) NUMBER'] == \"FXX, LZA, FYA, QBD, JSM, JSG,GEX, FLL\"]].value_counts().index[0:10].tolist()\n",
    "DATA_30years_PFDACodes_count = DATA_30years_PFDACodes['size'].value_counts()[0:10].tolist()\n",
    "DATA_30years_PFDACodes_plotdata.sort_values(by=['DECISIONMAKINGTIME(days)'], ascending = False).head(10)\n",
    "\n",
    "sns.set_theme(style=\"whitegrid\")\n",
    "DATA_30years_PFDACodes_plotdata = sns.barplot( DATA_30years_PFDACodes, DATA_30years_PFDACodes_count)\n",
    "DATA_30years_PFDACodes_plotdata.set_xticklabels(DATA_30years_PFDACodes_plotdata.get_xticklabels(), rotation=40, ha=\"right\")\n",
    "\n",
    "plt.title('Decision Making Time for PureFDAs Most Popular Product Codes(Sans Third Party Review)')\n",
    "plt.show()"
   ]
  },
  {
   "source": [
    "## Trend of product popular Purefda codes over time"
   ],
   "cell_type": "markdown",
   "metadata": {}
  },
  {
   "cell_type": "code",
   "execution_count": null,
   "metadata": {},
   "outputs": [],
   "source": [
    "sns.lineplot(data=DATA_30years_PFDACodes_plotdata, x=\"DATERECEIVED\", y=\"size\", hue=\"PRODUCTCODE\")"
   ]
  },
  {
   "source": [
    "## Find the most popular product codes over time in the China Region"
   ],
   "cell_type": "markdown",
   "metadata": {}
  },
  {
   "cell_type": "code",
   "execution_count": null,
   "metadata": {},
   "outputs": [],
   "source": [
    "MIN_TIME_L_96_CN = TIME_LENGTH_df[TIME_LENGTH_df[\"COUNTRY_CODE\"] == \"CN\"]\n",
    "MIN_TIME_L_3rdParty_CN = MIN_TIME_L_96_CN[[\"THIRD PARTY FLAG\"] == \"Y\"]\n",
    "MIN_TIME_L_3rdParty_CN.sort_values(by=['DECISIONMAKINGTIME(days)'], ascending= False).head(10)"
   ]
  }
 ]
}