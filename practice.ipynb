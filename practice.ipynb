{
 "metadata": {
  "language_info": {
   "codemirror_mode": {
    "name": "ipython",
    "version": 3
   },
   "file_extension": ".py",
   "mimetype": "text/x-python",
   "name": "python",
   "nbconvert_exporter": "python",
   "pygments_lexer": "ipython3",
   "version": "3.8.7-final"
  },
  "orig_nbformat": 2,
  "kernelspec": {
   "name": "python3",
   "display_name": "Python 3.8.7 64-bit",
   "metadata": {
    "interpreter": {
     "hash": "cb8978d97803004491b95b5ae934149b7b078119e11e500a5b13931f85baa55f"
    }
   }
  }
 },
 "nbformat": 4,
 "nbformat_minor": 2,
 "cells": [
  {
   "cell_type": "code",
   "execution_count": 1,
   "metadata": {},
   "outputs": [],
   "source": [
    "def buyChicken(type, price, number):\n",
    "    if type == \"normal\":\n",
    "        rate = 1.0\n",
    "    elif type == \"special\":\n",
    "        rate = 1.5\n",
    "    else:\n",
    "        rate = 0.8\n",
    "    return number * price * rate"
   ]
  },
  {
   "cell_type": "code",
   "execution_count": 3,
   "metadata": {},
   "outputs": [
    {
     "output_type": "stream",
     "name": "stdout",
     "text": [
      "we need to pay 15.0\n"
     ]
    }
   ],
   "source": [
    "chickeA = [\"normal\", 5, 3]\n",
    "payment = buyChicken(chickeA[0], chickeA[1], chickeA[2])\n",
    "print(\"we need to pay \" + str(payment) )"
   ]
  },
  {
   "cell_type": "code",
   "execution_count": 4,
   "metadata": {},
   "outputs": [
    {
     "output_type": "stream",
     "name": "stdout",
     "text": [
      "we need to pay 292.5\n"
     ]
    }
   ],
   "source": [
    "chickeA = [\"special\", 15, 13]\n",
    "payment = buyChicken(chickeA[0], chickeA[1], chickeA[2])\n",
    "print(\"we need to pay \" + str(payment) )"
   ]
  },
  {
   "cell_type": "code",
   "execution_count": null,
   "metadata": {},
   "outputs": [],
   "source": []
  }
 ]
}