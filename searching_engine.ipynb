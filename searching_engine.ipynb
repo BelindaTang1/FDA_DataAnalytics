{
 "metadata": {
  "language_info": {
   "codemirror_mode": {
    "name": "ipython",
    "version": 3
   },
   "file_extension": ".py",
   "mimetype": "text/x-python",
   "name": "python",
   "nbconvert_exporter": "python",
   "pygments_lexer": "ipython3",
   "version": "3.8.7-final"
  },
  "orig_nbformat": 2,
  "kernelspec": {
   "name": "python3",
   "display_name": "Python 3.8.7 64-bit",
   "metadata": {
    "interpreter": {
     "hash": "cb8978d97803004491b95b5ae934149b7b078119e11e500a5b13931f85baa55f"
    }
   }
  }
 },
 "nbformat": 4,
 "nbformat_minor": 2,
 "cells": [
  {
   "cell_type": "code",
   "execution_count": 1,
   "metadata": {},
   "outputs": [
    {
     "output_type": "stream",
     "name": "stdout",
     "text": [
      "158468\nIndex(['KNUMBER', 'APPLICANT', 'CONTACT', 'STREET1', 'STREET2', 'CITY',\n       'STATE', 'COUNTRY_CODE', 'ZIP', 'POSTAL_CODE', 'DATERECEIVED',\n       'DECISIONDATE', 'DECISION', 'REVIEWADVISECOMM', 'PRODUCTCODE',\n       'STATEORSUMM', 'CLASSADVISECOMM', 'SSPINDICATOR', 'TYPE', 'THIRDPARTY',\n       'EXPEDITEDREVIEW', 'DEVICENAME'],\n      dtype='object')\n"
     ]
    }
   ],
   "source": [
    "import pandas as pd\n",
    "import os\n",
    "\n",
    "abs_path = os.path.abspath(\"\")\n",
    "\n",
    "data_file_list = [\"pmnlstmn.txt\", \"pmn96cur.txt\", \"pmn9195.txt\", \"pmn8690.txt\", \"pmn8185.txt\", \"pmn7680.txt\"]\n",
    "data_list = []\n",
    "for i in range(len(data_file_list)):\n",
    "    path = os.path.join(abs_path, \"FDA Registration Record\", \"510k\", data_file_list[i])\n",
    "    data_list.append(pd.read_csv(path, sep= \"|\", encoding=\"cp1252\"))\n",
    "\n",
    "DATA = pd.concat(data_list)\n",
    "\n",
    "\n",
    "\n",
    "\n",
    "print(len(DATA))\n",
    "print(DATA.columns)"
   ]
  },
  {
   "cell_type": "code",
   "execution_count": 11,
   "metadata": {},
   "outputs": [
    {
     "output_type": "execute_result",
     "data": {
      "text/plain": [
       "     PRODUCTCODE         TYPE\n",
       "134          FXX  Abbreviated\n",
       "135          FXX  Traditional\n",
       "147          FXX  Traditional\n",
       "151          FXX  Traditional\n",
       "165          FXX  Traditional\n",
       "...          ...          ...\n",
       "3975         FXX  Traditional\n",
       "3977         FXX  Traditional\n",
       "7308         FXX  Traditional\n",
       "8819         FXX  Traditional\n",
       "9959         FXX  Traditional\n",
       "\n",
       "[282 rows x 2 columns]"
      ],
      "text/html": "<div>\n<style scoped>\n    .dataframe tbody tr th:only-of-type {\n        vertical-align: middle;\n    }\n\n    .dataframe tbody tr th {\n        vertical-align: top;\n    }\n\n    .dataframe thead th {\n        text-align: right;\n    }\n</style>\n<table border=\"1\" class=\"dataframe\">\n  <thead>\n    <tr style=\"text-align: right;\">\n      <th></th>\n      <th>PRODUCTCODE</th>\n      <th>TYPE</th>\n    </tr>\n  </thead>\n  <tbody>\n    <tr>\n      <th>134</th>\n      <td>FXX</td>\n      <td>Abbreviated</td>\n    </tr>\n    <tr>\n      <th>135</th>\n      <td>FXX</td>\n      <td>Traditional</td>\n    </tr>\n    <tr>\n      <th>147</th>\n      <td>FXX</td>\n      <td>Traditional</td>\n    </tr>\n    <tr>\n      <th>151</th>\n      <td>FXX</td>\n      <td>Traditional</td>\n    </tr>\n    <tr>\n      <th>165</th>\n      <td>FXX</td>\n      <td>Traditional</td>\n    </tr>\n    <tr>\n      <th>...</th>\n      <td>...</td>\n      <td>...</td>\n    </tr>\n    <tr>\n      <th>3975</th>\n      <td>FXX</td>\n      <td>Traditional</td>\n    </tr>\n    <tr>\n      <th>3977</th>\n      <td>FXX</td>\n      <td>Traditional</td>\n    </tr>\n    <tr>\n      <th>7308</th>\n      <td>FXX</td>\n      <td>Traditional</td>\n    </tr>\n    <tr>\n      <th>8819</th>\n      <td>FXX</td>\n      <td>Traditional</td>\n    </tr>\n    <tr>\n      <th>9959</th>\n      <td>FXX</td>\n      <td>Traditional</td>\n    </tr>\n  </tbody>\n</table>\n<p>282 rows × 2 columns</p>\n</div>"
     },
     "metadata": {},
     "execution_count": 11
    }
   ],
   "source": [
    "data_type = DATA[[\"PRODUCTCODE\",\"TYPE\"]]\n",
    "FXX = data_type.loc[data_type[\"PRODUCTCODE\"]== \"FXX\"]\n",
    "FXX"
   ]
  },
  {
   "cell_type": "code",
   "execution_count": null,
   "metadata": {},
   "outputs": [],
   "source": []
  }
 ]
}