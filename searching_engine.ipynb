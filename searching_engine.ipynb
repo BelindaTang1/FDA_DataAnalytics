{
 "metadata": {
  "language_info": {
   "codemirror_mode": {
    "name": "ipython",
    "version": 3
   },
   "file_extension": ".py",
   "mimetype": "text/x-python",
   "name": "python",
   "nbconvert_exporter": "python",
   "pygments_lexer": "ipython3",
   "version": "3.8.7-final"
  },
  "orig_nbformat": 2,
  "kernelspec": {
   "name": "python3",
   "display_name": "Python 3.8.7 64-bit",
   "metadata": {
    "interpreter": {
     "hash": "cb8978d97803004491b95b5ae934149b7b078119e11e500a5b13931f85baa55f"
    }
   }
  }
 },
 "nbformat": 4,
 "nbformat_minor": 2,
 "cells": [
  {
   "cell_type": "code",
   "execution_count": 2,
   "metadata": {},
   "outputs": [],
   "source": [
    "import pandas as pd\n",
    "import os\n",
    "import numpy as np\n",
    "\n",
    "abs_path = os.path.abspath(\"\")\n",
    "\n"
   ]
  },
  {
   "source": [
    "## 510k"
   ],
   "cell_type": "markdown",
   "metadata": {}
  },
  {
   "cell_type": "code",
   "execution_count": 3,
   "metadata": {},
   "outputs": [
    {
     "output_type": "execute_result",
     "data": {
      "text/plain": [
       "'Searching functions are ready, there are 10 parameters for filtering: [\\'KNUMBER\\', \\'APPLICANT\\', \"COUNTRY_CODE\", \"DATERECEIVED\", \\'DECISIONDATE\\', \"DECISION\", \\'PRODUCTCODE\\', \"STATEORSUMM\", \"THIRDPARTY\", \\'DEVICENAME\\']. Only  \"DATERECEIVED\", \\'DECISIONDATE\\' take list as parameters, [year, mode]'"
      ]
     },
     "metadata": {},
     "execution_count": 3
    }
   ],
   "source": [
    "'''Searching functions are ready, there are 10 parameters for filtering: ['KNUMBER', 'APPLICANT', \"COUNTRY_CODE\", \"DATERECEIVED\", 'DECISIONDATE', \"DECISION\", 'PRODUCTCODE', \"STATEORSUMM\", \"THIRDPARTY\", 'DEVICENAME']. Only  \"DATERECEIVED\", 'DECISIONDATE' take list as parameters, [year, mode]'''"
   ]
  },
  {
   "cell_type": "code",
   "execution_count": 17,
   "metadata": {},
   "outputs": [],
   "source": [
    "data_file_list = [\"pmnlstmn.txt\", \"pmn96cur.txt\", \"pmn9195.txt\", \"pmn8690.txt\", \"pmn8185.txt\", \"pmn7680.txt\"]\n",
    "data_list = []\n",
    "for i in range(len(data_file_list)):\n",
    "    path = os.path.join(abs_path, \"FDA Registration Record\", \"510k\", data_file_list[i])\n",
    "    data_list.append(pd.read_csv(path, sep= \"|\", encoding=\"cp1252\"))\n",
    "\n",
    "DATA = pd.concat(data_list)\n",
    "DATA = DATA.reset_index(drop=True)"
   ]
  },
  {
   "cell_type": "code",
   "execution_count": 18,
   "metadata": {},
   "outputs": [
    {
     "output_type": "execute_result",
     "data": {
      "text/plain": [
       "          KNUMBER                                  APPLICANT COUNTRY_CODE  \\\n",
       "0       DEN190035                            Helix OpCo, LLC           CA   \n",
       "1         K190217  Aidite (Qinhuangdao) Technology Co., Ltd.           CN   \n",
       "2         K191978                           HuBDIC Co., Ltd.           KR   \n",
       "3         K192073                            Helix OpCo, LLC           CA   \n",
       "4         K192308                        Wu's Tech Co., Ltd.           TW   \n",
       "...           ...                                        ...          ...   \n",
       "158463    K803151                         ABCO DEALERS, INC.           US   \n",
       "158464    K803165                               ZIMMER, INC.           US   \n",
       "158465    K803174                              CONPHAR, INC.           US   \n",
       "158466    K803177                        DURO-MED IND., INC.           US   \n",
       "158467    K803201                                 WALPAK CO.           US   \n",
       "\n",
       "       DATERECEIVED DECISIONDATE DECISION PRODUCTCODE STATEORSUMM THIRDPARTY  \\\n",
       "0        08/02/2019   12/23/2020     DENG         QNC         NaN          N   \n",
       "1        02/04/2019   12/17/2020     SESE         EBG     Summary          N   \n",
       "2        07/24/2019   12/18/2020     SESE         FLL     Summary          N   \n",
       "3        08/02/2019   12/23/2020     SESE         PTA     Summary          N   \n",
       "4        08/26/2019   12/21/2020     SESE         INI     Summary          N   \n",
       "...             ...          ...      ...         ...         ...        ...   \n",
       "158463   12/12/1980   12/30/1980     SESE         GYB         NaN          N   \n",
       "158464   12/15/1980   12/31/1980     SESE         HXO         NaN          N   \n",
       "158465   12/15/1980   12/30/1980     SESE         GWZ         NaN          N   \n",
       "158466   12/16/1980   12/31/1980     SESE         IMA         NaN          N   \n",
       "158467   12/17/1980   12/17/1980     SESP         NaN         NaN          N   \n",
       "\n",
       "                                               DEVICENAME  \n",
       "0                               Helix Laboratory Platform  \n",
       "1                                             Aidite PMMA  \n",
       "2                                             Fever Garde  \n",
       "3       Helix Genetic Health Risk App for late-onset A...  \n",
       "4                                 Wu's Electrical Scooter  \n",
       "...                                                   ...  \n",
       "158463             ECG & ULTRASOUND GELS, CREAMS & LOTION  \n",
       "158464                       ACETABULAR CEMENT COMPRESSOR  \n",
       "158465               CONPHAR PERCUSSION HAMMER(BUCK TYPE)  \n",
       "158466                                    MOIST HEAT PACK  \n",
       "158467                              LEMON GLYCERINE SWABS  \n",
       "\n",
       "[158468 rows x 10 columns]"
      ],
      "text/html": "<div>\n<style scoped>\n    .dataframe tbody tr th:only-of-type {\n        vertical-align: middle;\n    }\n\n    .dataframe tbody tr th {\n        vertical-align: top;\n    }\n\n    .dataframe thead th {\n        text-align: right;\n    }\n</style>\n<table border=\"1\" class=\"dataframe\">\n  <thead>\n    <tr style=\"text-align: right;\">\n      <th></th>\n      <th>KNUMBER</th>\n      <th>APPLICANT</th>\n      <th>COUNTRY_CODE</th>\n      <th>DATERECEIVED</th>\n      <th>DECISIONDATE</th>\n      <th>DECISION</th>\n      <th>PRODUCTCODE</th>\n      <th>STATEORSUMM</th>\n      <th>THIRDPARTY</th>\n      <th>DEVICENAME</th>\n    </tr>\n  </thead>\n  <tbody>\n    <tr>\n      <th>0</th>\n      <td>DEN190035</td>\n      <td>Helix OpCo, LLC</td>\n      <td>CA</td>\n      <td>08/02/2019</td>\n      <td>12/23/2020</td>\n      <td>DENG</td>\n      <td>QNC</td>\n      <td>NaN</td>\n      <td>N</td>\n      <td>Helix Laboratory Platform</td>\n    </tr>\n    <tr>\n      <th>1</th>\n      <td>K190217</td>\n      <td>Aidite (Qinhuangdao) Technology Co., Ltd.</td>\n      <td>CN</td>\n      <td>02/04/2019</td>\n      <td>12/17/2020</td>\n      <td>SESE</td>\n      <td>EBG</td>\n      <td>Summary</td>\n      <td>N</td>\n      <td>Aidite PMMA</td>\n    </tr>\n    <tr>\n      <th>2</th>\n      <td>K191978</td>\n      <td>HuBDIC Co., Ltd.</td>\n      <td>KR</td>\n      <td>07/24/2019</td>\n      <td>12/18/2020</td>\n      <td>SESE</td>\n      <td>FLL</td>\n      <td>Summary</td>\n      <td>N</td>\n      <td>Fever Garde</td>\n    </tr>\n    <tr>\n      <th>3</th>\n      <td>K192073</td>\n      <td>Helix OpCo, LLC</td>\n      <td>CA</td>\n      <td>08/02/2019</td>\n      <td>12/23/2020</td>\n      <td>SESE</td>\n      <td>PTA</td>\n      <td>Summary</td>\n      <td>N</td>\n      <td>Helix Genetic Health Risk App for late-onset A...</td>\n    </tr>\n    <tr>\n      <th>4</th>\n      <td>K192308</td>\n      <td>Wu's Tech Co., Ltd.</td>\n      <td>TW</td>\n      <td>08/26/2019</td>\n      <td>12/21/2020</td>\n      <td>SESE</td>\n      <td>INI</td>\n      <td>Summary</td>\n      <td>N</td>\n      <td>Wu's Electrical Scooter</td>\n    </tr>\n    <tr>\n      <th>...</th>\n      <td>...</td>\n      <td>...</td>\n      <td>...</td>\n      <td>...</td>\n      <td>...</td>\n      <td>...</td>\n      <td>...</td>\n      <td>...</td>\n      <td>...</td>\n      <td>...</td>\n    </tr>\n    <tr>\n      <th>158463</th>\n      <td>K803151</td>\n      <td>ABCO DEALERS, INC.</td>\n      <td>US</td>\n      <td>12/12/1980</td>\n      <td>12/30/1980</td>\n      <td>SESE</td>\n      <td>GYB</td>\n      <td>NaN</td>\n      <td>N</td>\n      <td>ECG &amp; ULTRASOUND GELS, CREAMS &amp; LOTION</td>\n    </tr>\n    <tr>\n      <th>158464</th>\n      <td>K803165</td>\n      <td>ZIMMER, INC.</td>\n      <td>US</td>\n      <td>12/15/1980</td>\n      <td>12/31/1980</td>\n      <td>SESE</td>\n      <td>HXO</td>\n      <td>NaN</td>\n      <td>N</td>\n      <td>ACETABULAR CEMENT COMPRESSOR</td>\n    </tr>\n    <tr>\n      <th>158465</th>\n      <td>K803174</td>\n      <td>CONPHAR, INC.</td>\n      <td>US</td>\n      <td>12/15/1980</td>\n      <td>12/30/1980</td>\n      <td>SESE</td>\n      <td>GWZ</td>\n      <td>NaN</td>\n      <td>N</td>\n      <td>CONPHAR PERCUSSION HAMMER(BUCK TYPE)</td>\n    </tr>\n    <tr>\n      <th>158466</th>\n      <td>K803177</td>\n      <td>DURO-MED IND., INC.</td>\n      <td>US</td>\n      <td>12/16/1980</td>\n      <td>12/31/1980</td>\n      <td>SESE</td>\n      <td>IMA</td>\n      <td>NaN</td>\n      <td>N</td>\n      <td>MOIST HEAT PACK</td>\n    </tr>\n    <tr>\n      <th>158467</th>\n      <td>K803201</td>\n      <td>WALPAK CO.</td>\n      <td>US</td>\n      <td>12/17/1980</td>\n      <td>12/17/1980</td>\n      <td>SESP</td>\n      <td>NaN</td>\n      <td>NaN</td>\n      <td>N</td>\n      <td>LEMON GLYCERINE SWABS</td>\n    </tr>\n  </tbody>\n</table>\n<p>158468 rows × 10 columns</p>\n</div>"
     },
     "metadata": {},
     "execution_count": 18
    }
   ],
   "source": [
    "DATA[['KNUMBER', 'APPLICANT', \"COUNTRY_CODE\", \"DATERECEIVED\", 'DECISIONDATE', \"DECISION\", 'PRODUCTCODE', \"STATEORSUMM\", \"THIRDPARTY\", 'DEVICENAME']]"
   ]
  },
  {
   "cell_type": "code",
   "execution_count": 5,
   "metadata": {},
   "outputs": [],
   "source": [
    "FDA_INFO_510K = DATA[['KNUMBER', 'APPLICANT', \"COUNTRY_CODE\", \"DATERECEIVED\", 'DECISIONDATE', \"DECISION\", 'PRODUCTCODE', \"STATEORSUMM\", \"THIRDPARTY\", 'DEVICENAME']]\n",
    "FDA_INFO_510K = FDA_INFO_510K.rename({'APPLICANT':'MANUFACTOR', \"DEVICENAME\":\"MODELNAME\"}, axis=\"columns\")\n",
    "FDA_INFO_510K = FDA_INFO_510K.replace(np.nan, \"NA\", regex=True)\n",
    "FDA_INFO_510K['DATERECEIVED'] = pd.to_datetime(FDA_INFO_510K['DATERECEIVED'], errors = \"coerce\")\n",
    "FDA_INFO_510K['DECISIONDATE'] = pd.to_datetime(FDA_INFO_510K['DECISIONDATE'], errors = \"coerce\")"
   ]
  },
  {
   "cell_type": "code",
   "execution_count": 6,
   "metadata": {},
   "outputs": [],
   "source": [
    "import datetime as dt"
   ]
  },
  {
   "cell_type": "code",
   "execution_count": 7,
   "metadata": {},
   "outputs": [],
   "source": [
    "# FDA_INFO_510K = FDA_INFO_510K.replace(np.nan, \"NA\", regex=True)\n",
    "# FDA_INFO_510K[\"NAME\"] = FDA_INFO_510K[\"MODELNAME\"].str.cat(\n",
    "#     FDA_INFO_510K[\"MANUFACTOR\"].astype(str), sep=\"-\")\n",
    "# FDA_INFO_510K"
   ]
  },
  {
   "cell_type": "code",
   "execution_count": 8,
   "metadata": {},
   "outputs": [],
   "source": [
    "import datetime as dt\n",
    "filter_510k_kNumber = lambda df, knumber : df[df[\"KNUMBER\"].str.lower() == knumber.lower()]\n",
    "filter_510k_manufactor = lambda df, manufactor : df[df[\"MANUFACTOR\"].str.lower().str.contains(manufactor.lower())]\n",
    "filter_510k_countryCode = lambda df, countryCode : df[df[\"COUNTRY_CODE\"].str.lower() == countryCode.lower()]\n",
    "# mode = [before, in, after]\n",
    "def filter_510k_dateReceived(df, year_mode):\n",
    "    if year_mode[1] == 'before':\n",
    "        result_df = df[df[\"DATERECEIVED\"].dt.year < year_mode[0]]\n",
    "    elif year_mode[1] == \"in\":\n",
    "        result_df = df[df[\"DATERECEIVED\"].dt.year == year_mode[0]]\n",
    "    else:\n",
    "        result_df = df[df[\"DATERECEIVED\"].dt.year > year_mode[0]]\n",
    "    return result_df\n",
    "# mode = [before, in, after]\n",
    "def filter_510k_decisionDate(df, year_mode):\n",
    "    if year_mode[1] == 'before':\n",
    "        result_df = df[df[\"DECISIONDATE\"].dt.year < year_mode[0]]\n",
    "    elif year_mode[1] == \"in\":\n",
    "        result_df = df[df[\"DECISIONDATE\"].dt.year == year_mode[0]]\n",
    "    else:\n",
    "        result_df = df[df[\"DECISIONDATE\"].dt.year > year_mode[0]]\n",
    "    return result_df\n",
    "filter_510k_decision = lambda df, decision : df[df[\"DECISION\"].str.lower() == decision.lower()]\n",
    "filter_510k_productCode = lambda df, productCode : df[df[\"PRODUCTCODE\"].str.lower() == productCode.lower()]\n",
    "filter_510k_stateOrSum = lambda df, stateOrSum : df[df[\"STATEORSUMM\"].str.lower() == stateOrSum.lower()]\n",
    "filter_510k_thirdParty = lambda df, thirdParty : df[df[\"THIRDPARTY\"].str.lower() == thirdParty.lower()]\n",
    "filter_510k_modelName = lambda df, modelName: df[df[\"MODELNAME\"].str.lower().str.contains(modelName.lower())]\n",
    "\n",
    "func_list = [filter_510k_kNumber, filter_510k_manufactor, filter_510k_countryCode, filter_510k_dateReceived, filter_510k_decisionDate, filter_510k_decision, filter_510k_productCode, filter_510k_stateOrSum, filter_510k_thirdParty, filter_510k_modelName]"
   ]
  },
  {
   "cell_type": "code",
   "execution_count": 9,
   "metadata": {},
   "outputs": [],
   "source": [
    "def filter_510k(df, knumber = None, manufactor = None, countryCode = None, dateReceived = None, decisionDate = None, decision = None, productCode = None, stateOrSum = None, thirdParty = None, ModelName = None):\n",
    "    input_list = [knumber, manufactor, countryCode, dateReceived, decisionDate, decision, productCode, stateOrSum, thirdParty, ModelName]\n",
    "    result_df = df\n",
    "    for i in range(len(input_list)):\n",
    "        if input_list[i] != None:\n",
    "            result_df = func_list[i](result_df, input_list[i])\n",
    "    return result_df"
   ]
  },
  {
   "cell_type": "code",
   "execution_count": 28,
   "metadata": {},
   "outputs": [
    {
     "output_type": "execute_result",
     "data": {
      "text/plain": [
       "          KNUMBER                                 MANUFACTOR COUNTRY_CODE  \\\n",
       "0       DEN190035                            Helix OpCo, LLC           CA   \n",
       "1         K190217  Aidite (Qinhuangdao) Technology Co., Ltd.           CN   \n",
       "2         K191978                           HuBDIC Co., Ltd.           KR   \n",
       "3         K192073                            Helix OpCo, LLC           CA   \n",
       "4         K192308                        Wu's Tech Co., Ltd.           TW   \n",
       "...           ...                                        ...          ...   \n",
       "158463    K803151                         ABCO DEALERS, INC.           US   \n",
       "158464    K803165                               ZIMMER, INC.           US   \n",
       "158465    K803174                              CONPHAR, INC.           US   \n",
       "158466    K803177                        DURO-MED IND., INC.           US   \n",
       "158467    K803201                                 WALPAK CO.           US   \n",
       "\n",
       "       DATERECEIVED DECISIONDATE DECISION PRODUCTCODE STATEORSUMM THIRDPARTY  \\\n",
       "0        2019-08-02   2020-12-23     DENG         QNC          NA          N   \n",
       "1        2019-02-04   2020-12-17     SESE         EBG     Summary          N   \n",
       "2        2019-07-24   2020-12-18     SESE         FLL     Summary          N   \n",
       "3        2019-08-02   2020-12-23     SESE         PTA     Summary          N   \n",
       "4        2019-08-26   2020-12-21     SESE         INI     Summary          N   \n",
       "...             ...          ...      ...         ...         ...        ...   \n",
       "158463   1980-12-12   1980-12-30     SESE         GYB          NA          N   \n",
       "158464   1980-12-15   1980-12-31     SESE         HXO          NA          N   \n",
       "158465   1980-12-15   1980-12-30     SESE         GWZ          NA          N   \n",
       "158466   1980-12-16   1980-12-31     SESE         IMA          NA          N   \n",
       "158467   1980-12-17   1980-12-17     SESP          NA          NA          N   \n",
       "\n",
       "                                                MODELNAME  \n",
       "0                               Helix Laboratory Platform  \n",
       "1                                             Aidite PMMA  \n",
       "2                                             Fever Garde  \n",
       "3       Helix Genetic Health Risk App for late-onset A...  \n",
       "4                                 Wu's Electrical Scooter  \n",
       "...                                                   ...  \n",
       "158463             ECG & ULTRASOUND GELS, CREAMS & LOTION  \n",
       "158464                       ACETABULAR CEMENT COMPRESSOR  \n",
       "158465               CONPHAR PERCUSSION HAMMER(BUCK TYPE)  \n",
       "158466                                    MOIST HEAT PACK  \n",
       "158467                              LEMON GLYCERINE SWABS  \n",
       "\n",
       "[158468 rows x 10 columns]"
      ],
      "text/html": "<div>\n<style scoped>\n    .dataframe tbody tr th:only-of-type {\n        vertical-align: middle;\n    }\n\n    .dataframe tbody tr th {\n        vertical-align: top;\n    }\n\n    .dataframe thead th {\n        text-align: right;\n    }\n</style>\n<table border=\"1\" class=\"dataframe\">\n  <thead>\n    <tr style=\"text-align: right;\">\n      <th></th>\n      <th>KNUMBER</th>\n      <th>MANUFACTOR</th>\n      <th>COUNTRY_CODE</th>\n      <th>DATERECEIVED</th>\n      <th>DECISIONDATE</th>\n      <th>DECISION</th>\n      <th>PRODUCTCODE</th>\n      <th>STATEORSUMM</th>\n      <th>THIRDPARTY</th>\n      <th>MODELNAME</th>\n    </tr>\n  </thead>\n  <tbody>\n    <tr>\n      <th>0</th>\n      <td>DEN190035</td>\n      <td>Helix OpCo, LLC</td>\n      <td>CA</td>\n      <td>2019-08-02</td>\n      <td>2020-12-23</td>\n      <td>DENG</td>\n      <td>QNC</td>\n      <td>NA</td>\n      <td>N</td>\n      <td>Helix Laboratory Platform</td>\n    </tr>\n    <tr>\n      <th>1</th>\n      <td>K190217</td>\n      <td>Aidite (Qinhuangdao) Technology Co., Ltd.</td>\n      <td>CN</td>\n      <td>2019-02-04</td>\n      <td>2020-12-17</td>\n      <td>SESE</td>\n      <td>EBG</td>\n      <td>Summary</td>\n      <td>N</td>\n      <td>Aidite PMMA</td>\n    </tr>\n    <tr>\n      <th>2</th>\n      <td>K191978</td>\n      <td>HuBDIC Co., Ltd.</td>\n      <td>KR</td>\n      <td>2019-07-24</td>\n      <td>2020-12-18</td>\n      <td>SESE</td>\n      <td>FLL</td>\n      <td>Summary</td>\n      <td>N</td>\n      <td>Fever Garde</td>\n    </tr>\n    <tr>\n      <th>3</th>\n      <td>K192073</td>\n      <td>Helix OpCo, LLC</td>\n      <td>CA</td>\n      <td>2019-08-02</td>\n      <td>2020-12-23</td>\n      <td>SESE</td>\n      <td>PTA</td>\n      <td>Summary</td>\n      <td>N</td>\n      <td>Helix Genetic Health Risk App for late-onset A...</td>\n    </tr>\n    <tr>\n      <th>4</th>\n      <td>K192308</td>\n      <td>Wu's Tech Co., Ltd.</td>\n      <td>TW</td>\n      <td>2019-08-26</td>\n      <td>2020-12-21</td>\n      <td>SESE</td>\n      <td>INI</td>\n      <td>Summary</td>\n      <td>N</td>\n      <td>Wu's Electrical Scooter</td>\n    </tr>\n    <tr>\n      <th>...</th>\n      <td>...</td>\n      <td>...</td>\n      <td>...</td>\n      <td>...</td>\n      <td>...</td>\n      <td>...</td>\n      <td>...</td>\n      <td>...</td>\n      <td>...</td>\n      <td>...</td>\n    </tr>\n    <tr>\n      <th>158463</th>\n      <td>K803151</td>\n      <td>ABCO DEALERS, INC.</td>\n      <td>US</td>\n      <td>1980-12-12</td>\n      <td>1980-12-30</td>\n      <td>SESE</td>\n      <td>GYB</td>\n      <td>NA</td>\n      <td>N</td>\n      <td>ECG &amp; ULTRASOUND GELS, CREAMS &amp; LOTION</td>\n    </tr>\n    <tr>\n      <th>158464</th>\n      <td>K803165</td>\n      <td>ZIMMER, INC.</td>\n      <td>US</td>\n      <td>1980-12-15</td>\n      <td>1980-12-31</td>\n      <td>SESE</td>\n      <td>HXO</td>\n      <td>NA</td>\n      <td>N</td>\n      <td>ACETABULAR CEMENT COMPRESSOR</td>\n    </tr>\n    <tr>\n      <th>158465</th>\n      <td>K803174</td>\n      <td>CONPHAR, INC.</td>\n      <td>US</td>\n      <td>1980-12-15</td>\n      <td>1980-12-30</td>\n      <td>SESE</td>\n      <td>GWZ</td>\n      <td>NA</td>\n      <td>N</td>\n      <td>CONPHAR PERCUSSION HAMMER(BUCK TYPE)</td>\n    </tr>\n    <tr>\n      <th>158466</th>\n      <td>K803177</td>\n      <td>DURO-MED IND., INC.</td>\n      <td>US</td>\n      <td>1980-12-16</td>\n      <td>1980-12-31</td>\n      <td>SESE</td>\n      <td>IMA</td>\n      <td>NA</td>\n      <td>N</td>\n      <td>MOIST HEAT PACK</td>\n    </tr>\n    <tr>\n      <th>158467</th>\n      <td>K803201</td>\n      <td>WALPAK CO.</td>\n      <td>US</td>\n      <td>1980-12-17</td>\n      <td>1980-12-17</td>\n      <td>SESP</td>\n      <td>NA</td>\n      <td>NA</td>\n      <td>N</td>\n      <td>LEMON GLYCERINE SWABS</td>\n    </tr>\n  </tbody>\n</table>\n<p>158468 rows × 10 columns</p>\n</div>"
     },
     "metadata": {},
     "execution_count": 28
    }
   ],
   "source": [
    "result = filter_510k(FDA_INFO_510K )\n",
    "result.index.tolist()\n",
    "result"
   ]
  },
  {
   "source": [
    "## analyzing functions:"
   ],
   "cell_type": "markdown",
   "metadata": {}
  },
  {
   "cell_type": "code",
   "execution_count": 11,
   "metadata": {},
   "outputs": [],
   "source": [
    "# example\n",
    "def analyze_num_of_df(df):\n",
    "    return df.shape[0]"
   ]
  },
  {
   "cell_type": "code",
   "execution_count": 12,
   "metadata": {},
   "outputs": [
    {
     "output_type": "execute_result",
     "data": {
      "text/plain": [
       "3126"
      ]
     },
     "metadata": {},
     "execution_count": 12
    }
   ],
   "source": [
    "\n",
    "result_df = filter_510k(FDA_INFO_510K, thirdParty= \"Y\", )\n",
    "result = analyze_num_of_df(result_df)\n",
    "result"
   ]
  },
  {
   "cell_type": "code",
   "execution_count": null,
   "metadata": {},
   "outputs": [],
   "source": []
  }
 ]
}