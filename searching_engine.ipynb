{
 "metadata": {
  "language_info": {
   "codemirror_mode": {
    "name": "ipython",
    "version": 3
   },
   "file_extension": ".py",
   "mimetype": "text/x-python",
   "name": "python",
   "nbconvert_exporter": "python",
   "pygments_lexer": "ipython3",
   "version": "3.8.7-final"
  },
  "orig_nbformat": 2,
  "kernelspec": {
   "name": "python3",
   "display_name": "Python 3.8.7 64-bit",
   "metadata": {
    "interpreter": {
     "hash": "cb8978d97803004491b95b5ae934149b7b078119e11e500a5b13931f85baa55f"
    }
   }
  }
 },
 "nbformat": 4,
 "nbformat_minor": 2,
 "cells": [
  {
   "cell_type": "code",
   "execution_count": 42,
   "metadata": {},
   "outputs": [],
   "source": [
    "import pandas as pd\n",
    "import os\n",
    "import numpy as np\n",
    "import matplotlib.pyplot as plt\n",
    "import seaborn  as sns\n",
    "from datetime import datetime\n",
    "\n",
    "abs_path = os.path.abspath(\"\")"
   ]
  },
  {
   "source": [
    "## 510k"
   ],
   "cell_type": "markdown",
   "metadata": {}
  },
  {
   "cell_type": "code",
   "execution_count": 43,
   "metadata": {},
   "outputs": [
    {
     "output_type": "execute_result",
     "data": {
      "text/plain": [
       "'Searching functions are ready, there are 10 parameters for filtering: [\\'KNUMBER\\', \\'APPLICANT\\', \"COUNTRY_CODE\", \"DATERECEIVED\", \\'DECISIONDATE\\', \"DECISION\", \\'PRODUCTCODE\\', \"STATEORSUMM\", \"THIRDPARTY\", \\'DEVICENAME\\']. Only  \"DATERECEIVED\", \\'DECISIONDATE\\' take list as parameters, [year, mode]'"
      ]
     },
     "metadata": {},
     "execution_count": 43
    }
   ],
   "source": [
    "'''Searching functions are ready, there are 10 parameters for filtering: ['KNUMBER', 'APPLICANT', \"COUNTRY_CODE\", \"DATERECEIVED\", 'DECISIONDATE', \"DECISION\", 'PRODUCTCODE', \"STATEORSUMM\", \"THIRDPARTY\", 'DEVICENAME']. Only  \"DATERECEIVED\", 'DECISIONDATE' take list as parameters, [year, mode]'''"
   ]
  },
  {
   "cell_type": "code",
   "execution_count": 44,
   "metadata": {},
   "outputs": [],
   "source": [
    "data_file_list = [\"pmnlstmn.txt\", \"pmn96cur.txt\", \"pmn9195.txt\", \"pmn8690.txt\", \"pmn8185.txt\", \"pmn7680.txt\"]\n",
    "data_list = []\n",
    "for i in range(len(data_file_list)):\n",
    "    path = os.path.join(abs_path, \"FDA Registration Record\", \"510k\", data_file_list[i])\n",
    "    data_list.append(pd.read_csv(path, sep= \"|\", encoding=\"cp1252\"))\n",
    "\n",
    "DATA = pd.concat(data_list)\n",
    "DATA = DATA.reset_index(drop=True)\n"
   ]
  },
  {
   "cell_type": "code",
   "execution_count": 45,
   "metadata": {},
   "outputs": [],
   "source": [
    "FDA_INFO_510K = DATA[['KNUMBER', 'APPLICANT', \"COUNTRY_CODE\", \"DATERECEIVED\", 'DECISIONDATE', \"DECISION\", 'PRODUCTCODE', \"STATEORSUMM\", \"THIRDPARTY\", 'DEVICENAME']]\n",
    "FDA_INFO_510K = FDA_INFO_510K.rename({'APPLICANT':'MANUFACTURER', \"DEVICENAME\":\"MODELNAME\"}, axis=\"columns\")\n",
    "FDA_INFO_510K = FDA_INFO_510K.replace(np.nan, \"NA\", regex=True)\n",
    "FDA_INFO_510K['DATERECEIVED'] = pd.to_datetime(FDA_INFO_510K['DATERECEIVED'], errors = \"coerce\")\n",
    "FDA_INFO_510K['DECISIONDATE'] = pd.to_datetime(FDA_INFO_510K['DECISIONDATE'], errors = \"coerce\")"
   ]
  },
  {
   "cell_type": "code",
   "execution_count": 46,
   "metadata": {},
   "outputs": [],
   "source": [
    "import datetime as dt"
   ]
  },
  {
   "cell_type": "code",
   "execution_count": 47,
   "metadata": {},
   "outputs": [],
   "source": [
    "import datetime as dt\n",
    "filter_510k_kNumber = lambda df, knumber : df[df[\"KNUMBER\"].str.lower() == knumber.lower()]\n",
    "filter_510k_manufacturer = lambda df, manufacturer : df[df[\"MANUFACTURER\"].str.lower().str.contains(manufacturer.lower())]\n",
    "filter_510k_countryCode = lambda df, countryCode : df[df[\"COUNTRY_CODE\"].str.lower() == countryCode.lower()]\n",
    "# wanted_period = [(%YYYY, %MM, %DD), (%YYYY, %MM, %DD)] -> [start_date, end_date], included\n",
    "def filter_510k_dateReceived(df, wanted_period):\n",
    "    start_date_tuple = wanted_period[0]\n",
    "    end_date_tuple = wanted_period[1]\n",
    "    start_date = dt.date(start_date_tuple[0], start_date_tuple[1], start_date_tuple[2])\n",
    "    end_date = dt.date(end_date_tuple[0], end_date_tuple[1], end_date_tuple[2])\n",
    "    df_a = df[df['DATERECEIVED'].dt.date >= start_date]\n",
    "    df_b = df[df['DATERECEIVED'].dt.date <= end_date]\n",
    "    return df_a.merge(df_b, how = 'inner', indicator = False) \n",
    "# wanted_period = [(%YYYY, %MM, %DD), (%YYYY, %MM, %DD)] -> [start_date, end_date], included\n",
    "def filter_510k_decisionDate(df, wanted_period):\n",
    "    start_date_tuple = wanted_period[0]\n",
    "    end_date_tuple = wanted_period[1]\n",
    "    start_date = dt.date(start_date_tuple[0], start_date_tuple[1], start_date_tuple[2])\n",
    "    end_date = dt.date(end_date_tuple[0], end_date_tuple[1], end_date_tuple[2])\n",
    "    df_a = df[df['DECIDSIONDATE'].dt.date >= start_date]\n",
    "    df_b = df[df['DECIDSIONDATE'].dt.date <= end_date]\n",
    "    return df_a.merge(df_b, how = 'inner', indicator = False) \n",
    "filter_510k_decision = lambda df, decision : df[df[\"DECISION\"].str.lower() == decision.lower()]\n",
    "filter_510k_productCode = lambda df, productCode : df[df[\"PRODUCTCODE\"].str.lower() == productCode.lower()]\n",
    "filter_510k_stateOrSum = lambda df, stateOrSum : df[df[\"STATEORSUMM\"].str.lower() == stateOrSum.lower()]\n",
    "filter_510k_thirdParty = lambda df, thirdParty : df[df[\"THIRDPARTY\"].str.lower() == thirdParty.lower()]\n",
    "filter_510k_modelName = lambda df, modelName: df[df[\"MODELNAME\"].str.lower().str.contains(modelName.lower())]\n",
    "\n",
    "func_list = [filter_510k_kNumber, filter_510k_manufacturer, filter_510k_countryCode, filter_510k_dateReceived, filter_510k_decisionDate, filter_510k_decision, filter_510k_productCode, filter_510k_stateOrSum, filter_510k_thirdParty, filter_510k_modelName]"
   ]
  },
  {
   "cell_type": "code",
   "execution_count": 48,
   "metadata": {},
   "outputs": [],
   "source": [
    "def filter_510k(df, knumber = None, manufacturer = None, countryCode = None, dateReceived = None, decisionDate = None, decision = None, productCode = None, stateOrSum = None, thirdParty = None, ModelName = None):\n",
    "    input_list = [knumber, manufacturer, countryCode, dateReceived, decisionDate, decision, productCode, stateOrSum, thirdParty, ModelName]\n",
    "    result_df = df\n",
    "    for i in range(len(input_list)):\n",
    "        if input_list[i] != None:\n",
    "            result_df = func_list[i](result_df, input_list[i])\n",
    "    return result_df"
   ]
  },
  {
   "cell_type": "code",
   "execution_count": 57,
   "metadata": {},
   "outputs": [
    {
     "output_type": "execute_result",
     "data": {
      "text/plain": [
       "        KNUMBER                               MANUFACTURER COUNTRY_CODE  \\\n",
       "0       K190217  Aidite (Qinhuangdao) Technology Co., Ltd.           CN   \n",
       "1       K190217  Aidite (Qinhuangdao) Technology Co., Ltd.           CN   \n",
       "2       K190217  Aidite (Qinhuangdao) Technology Co., Ltd.           CN   \n",
       "3       K190217  Aidite (Qinhuangdao) Technology Co., Ltd.           CN   \n",
       "4     DEN180012                     Intellirod Spine, Inc.           US   \n",
       "...         ...                                        ...          ...   \n",
       "3434    K191222                Prismatik Dentalcraft, Inc.           US   \n",
       "3435    K191223               Blue Belt Technologies, Inc.           US   \n",
       "3436    K191225              Rhythmlink International, LLC           US   \n",
       "3437    K191226                               Arthrex Inc.           US   \n",
       "3438    K191227                           Paragon 28, Inc.           US   \n",
       "\n",
       "     DATERECEIVED DECISIONDATE DECISION PRODUCTCODE STATEORSUMM THIRDPARTY  \\\n",
       "0      2019-02-04   2020-12-17     SESE         EBG     Summary          N   \n",
       "1      2019-02-04   2020-12-17     SESE         EBG     Summary          N   \n",
       "2      2019-02-04   2020-12-17     SESE         EBG     Summary          N   \n",
       "3      2019-02-04   2020-12-17     SESE         EBG     Summary          N   \n",
       "4      2018-03-14   2019-03-28     DENG         QFP          NA          N   \n",
       "...           ...          ...      ...         ...         ...        ...   \n",
       "3434   2019-05-07   2019-08-05     SESE         NHA     Summary          N   \n",
       "3435   2019-05-07   2019-06-28     SESE         OLO     Summary          N   \n",
       "3436   2019-05-07   2019-08-05     SESE         GXY     Summary          N   \n",
       "3437   2019-05-07   2019-06-11     SESE         MAI     Summary          N   \n",
       "3438   2019-05-07   2020-01-24     SESE         MBI     Summary          N   \n",
       "\n",
       "                                              MODELNAME  \n",
       "0                                           Aidite PMMA  \n",
       "1                                           Aidite PMMA  \n",
       "2                                           Aidite PMMA  \n",
       "3                                           Aidite PMMA  \n",
       "4             LOADPRO™ Intraoperative Rod Strain Sensor  \n",
       "...                                                 ...  \n",
       "3434  Inclusive Titanium Abutments compatible with: ...  \n",
       "3435                                              NAVIO  \n",
       "3436                             EEG Electrode Template  \n",
       "3437                    Arthrex SwiveLock Suture Anchor  \n",
       "3438            Paratrooper Plantar Plate Repair System  \n",
       "\n",
       "[3439 rows x 10 columns]"
      ],
      "text/html": "<div>\n<style scoped>\n    .dataframe tbody tr th:only-of-type {\n        vertical-align: middle;\n    }\n\n    .dataframe tbody tr th {\n        vertical-align: top;\n    }\n\n    .dataframe thead th {\n        text-align: right;\n    }\n</style>\n<table border=\"1\" class=\"dataframe\">\n  <thead>\n    <tr style=\"text-align: right;\">\n      <th></th>\n      <th>KNUMBER</th>\n      <th>MANUFACTURER</th>\n      <th>COUNTRY_CODE</th>\n      <th>DATERECEIVED</th>\n      <th>DECISIONDATE</th>\n      <th>DECISION</th>\n      <th>PRODUCTCODE</th>\n      <th>STATEORSUMM</th>\n      <th>THIRDPARTY</th>\n      <th>MODELNAME</th>\n    </tr>\n  </thead>\n  <tbody>\n    <tr>\n      <th>0</th>\n      <td>K190217</td>\n      <td>Aidite (Qinhuangdao) Technology Co., Ltd.</td>\n      <td>CN</td>\n      <td>2019-02-04</td>\n      <td>2020-12-17</td>\n      <td>SESE</td>\n      <td>EBG</td>\n      <td>Summary</td>\n      <td>N</td>\n      <td>Aidite PMMA</td>\n    </tr>\n    <tr>\n      <th>1</th>\n      <td>K190217</td>\n      <td>Aidite (Qinhuangdao) Technology Co., Ltd.</td>\n      <td>CN</td>\n      <td>2019-02-04</td>\n      <td>2020-12-17</td>\n      <td>SESE</td>\n      <td>EBG</td>\n      <td>Summary</td>\n      <td>N</td>\n      <td>Aidite PMMA</td>\n    </tr>\n    <tr>\n      <th>2</th>\n      <td>K190217</td>\n      <td>Aidite (Qinhuangdao) Technology Co., Ltd.</td>\n      <td>CN</td>\n      <td>2019-02-04</td>\n      <td>2020-12-17</td>\n      <td>SESE</td>\n      <td>EBG</td>\n      <td>Summary</td>\n      <td>N</td>\n      <td>Aidite PMMA</td>\n    </tr>\n    <tr>\n      <th>3</th>\n      <td>K190217</td>\n      <td>Aidite (Qinhuangdao) Technology Co., Ltd.</td>\n      <td>CN</td>\n      <td>2019-02-04</td>\n      <td>2020-12-17</td>\n      <td>SESE</td>\n      <td>EBG</td>\n      <td>Summary</td>\n      <td>N</td>\n      <td>Aidite PMMA</td>\n    </tr>\n    <tr>\n      <th>4</th>\n      <td>DEN180012</td>\n      <td>Intellirod Spine, Inc.</td>\n      <td>US</td>\n      <td>2018-03-14</td>\n      <td>2019-03-28</td>\n      <td>DENG</td>\n      <td>QFP</td>\n      <td>NA</td>\n      <td>N</td>\n      <td>LOADPRO™ Intraoperative Rod Strain Sensor</td>\n    </tr>\n    <tr>\n      <th>...</th>\n      <td>...</td>\n      <td>...</td>\n      <td>...</td>\n      <td>...</td>\n      <td>...</td>\n      <td>...</td>\n      <td>...</td>\n      <td>...</td>\n      <td>...</td>\n      <td>...</td>\n    </tr>\n    <tr>\n      <th>3434</th>\n      <td>K191222</td>\n      <td>Prismatik Dentalcraft, Inc.</td>\n      <td>US</td>\n      <td>2019-05-07</td>\n      <td>2019-08-05</td>\n      <td>SESE</td>\n      <td>NHA</td>\n      <td>Summary</td>\n      <td>N</td>\n      <td>Inclusive Titanium Abutments compatible with: ...</td>\n    </tr>\n    <tr>\n      <th>3435</th>\n      <td>K191223</td>\n      <td>Blue Belt Technologies, Inc.</td>\n      <td>US</td>\n      <td>2019-05-07</td>\n      <td>2019-06-28</td>\n      <td>SESE</td>\n      <td>OLO</td>\n      <td>Summary</td>\n      <td>N</td>\n      <td>NAVIO</td>\n    </tr>\n    <tr>\n      <th>3436</th>\n      <td>K191225</td>\n      <td>Rhythmlink International, LLC</td>\n      <td>US</td>\n      <td>2019-05-07</td>\n      <td>2019-08-05</td>\n      <td>SESE</td>\n      <td>GXY</td>\n      <td>Summary</td>\n      <td>N</td>\n      <td>EEG Electrode Template</td>\n    </tr>\n    <tr>\n      <th>3437</th>\n      <td>K191226</td>\n      <td>Arthrex Inc.</td>\n      <td>US</td>\n      <td>2019-05-07</td>\n      <td>2019-06-11</td>\n      <td>SESE</td>\n      <td>MAI</td>\n      <td>Summary</td>\n      <td>N</td>\n      <td>Arthrex SwiveLock Suture Anchor</td>\n    </tr>\n    <tr>\n      <th>3438</th>\n      <td>K191227</td>\n      <td>Paragon 28, Inc.</td>\n      <td>US</td>\n      <td>2019-05-07</td>\n      <td>2020-01-24</td>\n      <td>SESE</td>\n      <td>MBI</td>\n      <td>Summary</td>\n      <td>N</td>\n      <td>Paratrooper Plantar Plate Repair System</td>\n    </tr>\n  </tbody>\n</table>\n<p>3439 rows × 10 columns</p>\n</div>"
     },
     "metadata": {},
     "execution_count": 57
    }
   ],
   "source": [
    "result = filter_510k(FDA_INFO_510K, dateReceived = [(2018,3,9), (2019,5,7)])\n",
    "result"
   ]
  }
 ]
}