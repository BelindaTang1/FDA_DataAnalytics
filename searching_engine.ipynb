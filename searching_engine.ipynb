{
 "metadata": {
  "language_info": {
   "codemirror_mode": {
    "name": "ipython",
    "version": 3
   },
   "file_extension": ".py",
   "mimetype": "text/x-python",
   "name": "python",
   "nbconvert_exporter": "python",
   "pygments_lexer": "ipython3",
   "version": "3.8.7-final"
  },
  "orig_nbformat": 2,
  "kernelspec": {
   "name": "python3",
   "display_name": "Python 3.8.7 64-bit",
   "metadata": {
    "interpreter": {
     "hash": "cb8978d97803004491b95b5ae934149b7b078119e11e500a5b13931f85baa55f"
    }
   }
  }
 },
 "nbformat": 4,
 "nbformat_minor": 2,
 "cells": [
  {
   "cell_type": "code",
   "execution_count": 20,
   "metadata": {},
   "outputs": [],
   "source": [
    "import pandas as pd\n",
    "import os\n",
    "import numpy as np\n",
    "\n",
    "abs_path = os.path.abspath(\"\")\n",
    "\n"
   ]
  },
  {
   "source": [
    "## 510k"
   ],
   "cell_type": "markdown",
   "metadata": {}
  },
  {
   "cell_type": "code",
   "execution_count": 21,
   "metadata": {},
   "outputs": [
    {
     "output_type": "execute_result",
     "data": {
      "text/plain": [
       "'Searching functions are ready, there are 10 parameters for filtering: [\\'KNUMBER\\', \\'APPLICANT\\', \"COUNTRY_CODE\", \"DATERECEIVED\", \\'DECISIONDATE\\', \"DECISION\", \\'PRODUCTCODE\\', \"STATEORSUMM\", \"THIRDPARTY\", \\'DEVICENAME\\']. Only  \"DATERECEIVED\", \\'DECISIONDATE\\' take list as parameters, [year, mode]'"
      ]
     },
     "metadata": {},
     "execution_count": 21
    }
   ],
   "source": [
    "'''Searching functions are ready, there are 10 parameters for filtering: ['KNUMBER', 'APPLICANT', \"COUNTRY_CODE\", \"DATERECEIVED\", 'DECISIONDATE', \"DECISION\", 'PRODUCTCODE', \"STATEORSUMM\", \"THIRDPARTY\", 'DEVICENAME']. Only  \"DATERECEIVED\", 'DECISIONDATE' take list as parameters, [year, mode]'''"
   ]
  },
  {
   "cell_type": "code",
   "execution_count": 22,
   "metadata": {},
   "outputs": [],
   "source": [
    "data_file_list = [\"pmnlstmn.txt\", \"pmn96cur.txt\", \"pmn9195.txt\", \"pmn8690.txt\", \"pmn8185.txt\", \"pmn7680.txt\"]\n",
    "data_list = []\n",
    "for i in range(len(data_file_list)):\n",
    "    path = os.path.join(abs_path, \"FDA Registration Record\", \"510k\", data_file_list[i])\n",
    "    data_list.append(pd.read_csv(path, sep= \"|\", encoding=\"cp1252\"))\n",
    "\n",
    "DATA = pd.concat(data_list)\n",
    "DATA = DATA.reset_index(drop=True)\n"
   ]
  },
  {
   "cell_type": "code",
   "execution_count": 23,
   "metadata": {},
   "outputs": [],
   "source": [
    "FDA_INFO_510K = DATA[['KNUMBER', 'APPLICANT', \"COUNTRY_CODE\", \"DATERECEIVED\", 'DECISIONDATE', \"DECISION\", 'PRODUCTCODE', \"STATEORSUMM\", \"THIRDPARTY\", 'DEVICENAME']]\n",
    "FDA_INFO_510K = FDA_INFO_510K.rename({'APPLICANT':'MANUFACTOR', \"DEVICENAME\":\"MODELNAME\"}, axis=\"columns\")\n",
    "FDA_INFO_510K = FDA_INFO_510K.replace(np.nan, \"NA\", regex=True)\n",
    "FDA_INFO_510K['DATERECEIVED'] = pd.to_datetime(FDA_INFO_510K['DATERECEIVED'], errors = \"coerce\")\n",
    "FDA_INFO_510K['DECISIONDATE'] = pd.to_datetime(FDA_INFO_510K['DECISIONDATE'], errors = \"coerce\")"
   ]
  },
  {
   "cell_type": "code",
   "execution_count": 24,
   "metadata": {},
   "outputs": [],
   "source": [
    "import datetime as dt"
   ]
  },
  {
   "cell_type": "code",
   "execution_count": 25,
   "metadata": {},
   "outputs": [],
   "source": [
    "# FDA_INFO_510K = FDA_INFO_510K.replace(np.nan, \"NA\", regex=True)\n",
    "# FDA_INFO_510K[\"NAME\"] = FDA_INFO_510K[\"MODELNAME\"].str.cat(\n",
    "#     FDA_INFO_510K[\"MANUFACTOR\"].astype(str), sep=\"-\")\n",
    "# FDA_INFO_510K"
   ]
  },
  {
   "cell_type": "code",
   "execution_count": 26,
   "metadata": {},
   "outputs": [],
   "source": [
    "import datetime as dt\n",
    "filter_510k_kNumber = lambda df, knumber : df[df[\"KNUMBER\"].str.lower() == knumber.lower()]\n",
    "filter_510k_manufactor = lambda df, manufactor : df[df[\"MANUFACTOR\"].str.lower().str.contains(manufactor.lower())]\n",
    "filter_510k_countryCode = lambda df, countryCode : df[df[\"COUNTRY_CODE\"].str.lower() == countryCode.lower()]\n",
    "# mode = [before, in, after]\n",
    "def filter_510k_dateReceived(df, year_mode):\n",
    "    if year_mode[1] == 'before':\n",
    "        result_df = df[df[\"DATERECEIVED\"].dt.year < year_mode[0]]\n",
    "    elif year_mode[1] == \"in\":\n",
    "        result_df = df[df[\"DATERECEIVED\"].dt.year == year_mode[0]]\n",
    "    else:\n",
    "        result_df = df[df[\"DATERECEIVED\"].dt.year > year_mode[0]]\n",
    "    return result_df\n",
    "# mode = [before, in, after]\n",
    "def filter_510k_decisionDate(df, year_mode):\n",
    "    if year_mode[1] == 'before':\n",
    "        result_df = df[df[\"DECISIONDATE\"].dt.year < year_mode[0]]\n",
    "    elif year_mode[1] == \"in\":\n",
    "        result_df = df[df[\"DECISIONDATE\"].dt.year == year_mode[0]]\n",
    "    else:\n",
    "        result_df = df[df[\"DECISIONDATE\"].dt.year > year_mode[0]]\n",
    "    return result_df\n",
    "filter_510k_decision = lambda df, decision : df[df[\"DECISION\"].str.lower() == decision.lower()]\n",
    "filter_510k_productCode = lambda df, productCode : df[df[\"PRODUCTCODE\"].str.lower() == productCode.lower()]\n",
    "filter_510k_stateOrSum = lambda df, stateOrSum : df[df[\"STATEORSUMM\"].str.lower() == stateOrSum.lower()]\n",
    "filter_510k_thirdParty = lambda df, thirdParty : df[df[\"THIRDPARTY\"].str.lower() == thirdParty.lower()]\n",
    "filter_510k_modelName = lambda df, modelName: df[df[\"MODELNAME\"].str.lower().str.contains(modelName.lower())]\n",
    "\n",
    "func_list = [filter_510k_kNumber, filter_510k_manufactor, filter_510k_countryCode, filter_510k_dateReceived, filter_510k_decisionDate, filter_510k_decision, filter_510k_productCode, filter_510k_stateOrSum, filter_510k_thirdParty, filter_510k_modelName]"
   ]
  },
  {
   "cell_type": "code",
   "execution_count": 27,
   "metadata": {},
   "outputs": [],
   "source": [
    "def filter_510k(df, knumber = None, manufactor = None, countryCode = None, dateReceived = None, decisionDate = None, decision = None, productCode = None, stateOrSum = None, thirdParty = None, ModelName = None):\n",
    "    input_list = [knumber, manufactor, countryCode, dateReceived, decisionDate, decision, productCode, stateOrSum, thirdParty, ModelName]\n",
    "    result_df = df\n",
    "    for i in range(len(input_list)):\n",
    "        if input_list[i] != None:\n",
    "            result_df = func_list[i](result_df, input_list[i])\n",
    "    return result_df"
   ]
  },
  {
   "cell_type": "code",
   "execution_count": 28,
   "metadata": {},
   "outputs": [
    {
     "output_type": "execute_result",
     "data": {
      "text/plain": [
       "       KNUMBER                        MANUFACTOR COUNTRY_CODE DATERECEIVED  \\\n",
       "242    K202456        Global Instrumentation LLC           US   2020-08-27   \n",
       "335    K203066              Avanos Medical, Inc.           US   2020-10-09   \n",
       "336    K203087  Philips Medical Systems DMC GmbH           DE   2020-10-13   \n",
       "359    K203189                  Aerobiotix, Inc.           US   2020-10-27   \n",
       "363    K203209                 AirPhysio Pty Ltd           AU   2020-10-30   \n",
       "...        ...                               ...          ...          ...   \n",
       "82523  K993888           A & D ENGINEERING, INC.           US   1999-11-16   \n",
       "82525  K993890    NIHON SEIMITSU SOKKI CO., LTD.           US   1999-11-16   \n",
       "82566  K993944              RITA MEDICAL SYSTEMS           US   1999-11-19   \n",
       "82567  K993945        BIONIKE LABORATORIES, INC.           US   1999-11-19   \n",
       "82698  K994096                     SONOSITE,INC.           US   1999-12-03   \n",
       "\n",
       "      DECISIONDATE DECISION PRODUCTCODE STATEORSUMM THIRDPARTY  \\\n",
       "242     2020-12-29     SESE         DSH     Summary          Y   \n",
       "335     2020-12-22     SESE         GXI     Summary          Y   \n",
       "336     2020-12-03     SESE         JAA     Summary          Y   \n",
       "359     2021-01-21     SESE         FRA     Summary          Y   \n",
       "363     2021-01-15     SESE         BWF     Summary          Y   \n",
       "...            ...      ...         ...         ...        ...   \n",
       "82523   1999-12-20     SESE         DXN   Statement          Y   \n",
       "82525   1999-12-01     SESE         DXN     Summary          Y   \n",
       "82566   1999-12-02     SESE         GEI     Summary          Y   \n",
       "82567   1999-12-07     SESE         LCM     Summary          Y   \n",
       "82698   1999-12-20     SESE         IYN     Summary          Y   \n",
       "\n",
       "                                               MODELNAME  \n",
       "242                                          M5 Recorder  \n",
       "335           COOLIEF Cooled Radiofrequency Kit Advanced  \n",
       "336                                    CombiDiagnost R90  \n",
       "359                                          AEROCURE-MD  \n",
       "363           AirPhysio Positive Expiratory (PEP) Device  \n",
       "...                                                  ...  \n",
       "82523  A & D MEDICALLIFESOURCE US-779PC & UA-779T DIG...  \n",
       "82525       DIGITAL BLOOD PRESSURE MONITOR, MODEL DS-181  \n",
       "82566  RITA MODEL 1500 ELECTROSURGICAL GENERATOR, POW...  \n",
       "82567                BIONIKE AQ PHENCYCLIDINE (PCP) TEST  \n",
       "82698     SONOHEART HAND-CARRIED ECHOCARDIOGRAPHY SYSTEM  \n",
       "\n",
       "[3126 rows x 10 columns]"
      ],
      "text/html": "<div>\n<style scoped>\n    .dataframe tbody tr th:only-of-type {\n        vertical-align: middle;\n    }\n\n    .dataframe tbody tr th {\n        vertical-align: top;\n    }\n\n    .dataframe thead th {\n        text-align: right;\n    }\n</style>\n<table border=\"1\" class=\"dataframe\">\n  <thead>\n    <tr style=\"text-align: right;\">\n      <th></th>\n      <th>KNUMBER</th>\n      <th>MANUFACTOR</th>\n      <th>COUNTRY_CODE</th>\n      <th>DATERECEIVED</th>\n      <th>DECISIONDATE</th>\n      <th>DECISION</th>\n      <th>PRODUCTCODE</th>\n      <th>STATEORSUMM</th>\n      <th>THIRDPARTY</th>\n      <th>MODELNAME</th>\n    </tr>\n  </thead>\n  <tbody>\n    <tr>\n      <th>242</th>\n      <td>K202456</td>\n      <td>Global Instrumentation LLC</td>\n      <td>US</td>\n      <td>2020-08-27</td>\n      <td>2020-12-29</td>\n      <td>SESE</td>\n      <td>DSH</td>\n      <td>Summary</td>\n      <td>Y</td>\n      <td>M5 Recorder</td>\n    </tr>\n    <tr>\n      <th>335</th>\n      <td>K203066</td>\n      <td>Avanos Medical, Inc.</td>\n      <td>US</td>\n      <td>2020-10-09</td>\n      <td>2020-12-22</td>\n      <td>SESE</td>\n      <td>GXI</td>\n      <td>Summary</td>\n      <td>Y</td>\n      <td>COOLIEF Cooled Radiofrequency Kit Advanced</td>\n    </tr>\n    <tr>\n      <th>336</th>\n      <td>K203087</td>\n      <td>Philips Medical Systems DMC GmbH</td>\n      <td>DE</td>\n      <td>2020-10-13</td>\n      <td>2020-12-03</td>\n      <td>SESE</td>\n      <td>JAA</td>\n      <td>Summary</td>\n      <td>Y</td>\n      <td>CombiDiagnost R90</td>\n    </tr>\n    <tr>\n      <th>359</th>\n      <td>K203189</td>\n      <td>Aerobiotix, Inc.</td>\n      <td>US</td>\n      <td>2020-10-27</td>\n      <td>2021-01-21</td>\n      <td>SESE</td>\n      <td>FRA</td>\n      <td>Summary</td>\n      <td>Y</td>\n      <td>AEROCURE-MD</td>\n    </tr>\n    <tr>\n      <th>363</th>\n      <td>K203209</td>\n      <td>AirPhysio Pty Ltd</td>\n      <td>AU</td>\n      <td>2020-10-30</td>\n      <td>2021-01-15</td>\n      <td>SESE</td>\n      <td>BWF</td>\n      <td>Summary</td>\n      <td>Y</td>\n      <td>AirPhysio Positive Expiratory (PEP) Device</td>\n    </tr>\n    <tr>\n      <th>...</th>\n      <td>...</td>\n      <td>...</td>\n      <td>...</td>\n      <td>...</td>\n      <td>...</td>\n      <td>...</td>\n      <td>...</td>\n      <td>...</td>\n      <td>...</td>\n      <td>...</td>\n    </tr>\n    <tr>\n      <th>82523</th>\n      <td>K993888</td>\n      <td>A &amp; D ENGINEERING, INC.</td>\n      <td>US</td>\n      <td>1999-11-16</td>\n      <td>1999-12-20</td>\n      <td>SESE</td>\n      <td>DXN</td>\n      <td>Statement</td>\n      <td>Y</td>\n      <td>A &amp; D MEDICALLIFESOURCE US-779PC &amp; UA-779T DIG...</td>\n    </tr>\n    <tr>\n      <th>82525</th>\n      <td>K993890</td>\n      <td>NIHON SEIMITSU SOKKI CO., LTD.</td>\n      <td>US</td>\n      <td>1999-11-16</td>\n      <td>1999-12-01</td>\n      <td>SESE</td>\n      <td>DXN</td>\n      <td>Summary</td>\n      <td>Y</td>\n      <td>DIGITAL BLOOD PRESSURE MONITOR, MODEL DS-181</td>\n    </tr>\n    <tr>\n      <th>82566</th>\n      <td>K993944</td>\n      <td>RITA MEDICAL SYSTEMS</td>\n      <td>US</td>\n      <td>1999-11-19</td>\n      <td>1999-12-02</td>\n      <td>SESE</td>\n      <td>GEI</td>\n      <td>Summary</td>\n      <td>Y</td>\n      <td>RITA MODEL 1500 ELECTROSURGICAL GENERATOR, POW...</td>\n    </tr>\n    <tr>\n      <th>82567</th>\n      <td>K993945</td>\n      <td>BIONIKE LABORATORIES, INC.</td>\n      <td>US</td>\n      <td>1999-11-19</td>\n      <td>1999-12-07</td>\n      <td>SESE</td>\n      <td>LCM</td>\n      <td>Summary</td>\n      <td>Y</td>\n      <td>BIONIKE AQ PHENCYCLIDINE (PCP) TEST</td>\n    </tr>\n    <tr>\n      <th>82698</th>\n      <td>K994096</td>\n      <td>SONOSITE,INC.</td>\n      <td>US</td>\n      <td>1999-12-03</td>\n      <td>1999-12-20</td>\n      <td>SESE</td>\n      <td>IYN</td>\n      <td>Summary</td>\n      <td>Y</td>\n      <td>SONOHEART HAND-CARRIED ECHOCARDIOGRAPHY SYSTEM</td>\n    </tr>\n  </tbody>\n</table>\n<p>3126 rows × 10 columns</p>\n</div>"
     },
     "metadata": {},
     "execution_count": 28
    }
   ],
   "source": [
    "result = filter_510k(FDA_INFO_510K, thirdParty= \"Y\", )\n",
    "result"
   ]
  },
  {
   "source": [
    "## analyzing functions:"
   ],
   "cell_type": "markdown",
   "metadata": {}
  },
  {
   "cell_type": "code",
   "execution_count": 29,
   "metadata": {},
   "outputs": [],
   "source": [
    "# example\n",
    "def analyze_num_of_df(df):\n",
    "    return df.shape[0]"
   ]
  },
  {
   "cell_type": "code",
   "execution_count": 30,
   "metadata": {},
   "outputs": [
    {
     "output_type": "execute_result",
     "data": {
      "text/plain": [
       "3126"
      ]
     },
     "metadata": {},
     "execution_count": 30
    }
   ],
   "source": [
    "\n",
    "result_df = filter_510k(FDA_INFO_510K, thirdParty= \"Y\", )\n",
    "result = analyze_num_of_df(result_df)\n",
    "result"
   ]
  },
  {
   "cell_type": "code",
   "execution_count": null,
   "metadata": {},
   "outputs": [],
   "source": []
  }
 ]
}