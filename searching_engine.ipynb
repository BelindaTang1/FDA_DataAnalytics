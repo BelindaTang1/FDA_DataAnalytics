{
 "metadata": {
  "language_info": {
   "codemirror_mode": {
    "name": "ipython",
    "version": 3
   },
   "file_extension": ".py",
   "mimetype": "text/x-python",
   "name": "python",
   "nbconvert_exporter": "python",
   "pygments_lexer": "ipython3",
   "version": "3.8.7-final"
  },
  "orig_nbformat": 2,
  "kernelspec": {
   "name": "python3",
   "display_name": "Python 3.8.7 64-bit",
   "metadata": {
    "interpreter": {
     "hash": "cb8978d97803004491b95b5ae934149b7b078119e11e500a5b13931f85baa55f"
    }
   }
  }
 },
 "nbformat": 4,
 "nbformat_minor": 2,
 "cells": [
  {
   "cell_type": "code",
   "execution_count": 2,
   "metadata": {},
   "outputs": [],
   "source": [
    "import pandas as pd\n",
    "import os\n",
    "import numpy as np\n",
    "\n",
    "abs_path = os.path.abspath(\"\")\n",
    "\n"
   ]
  },
  {
   "source": [
    "## product code dataset:"
   ],
   "cell_type": "markdown",
   "metadata": {}
  },
  {
   "cell_type": "code",
   "execution_count": 3,
   "metadata": {},
   "outputs": [
    {
     "output_type": "execute_result",
     "data": {
      "text/plain": [
       "     MEDICALSPECIALTY PRODUCTCODE  \\\n",
       "0                  AN         BRW   \n",
       "1                  AN         BRX   \n",
       "2                  AN         BRY   \n",
       "3                  AN         BSE   \n",
       "4                  AN         BSF   \n",
       "...               ...         ...   \n",
       "6667               NA         RIM   \n",
       "6668               NA         RIN   \n",
       "6669               NA         RIO   \n",
       "6670               NA         RIP   \n",
       "6671               NA         RIQ   \n",
       "\n",
       "                                                   NAME  \n",
       "0                             Protector, Dental-868.582  \n",
       "1                              Stool, Anesthesia-868.67  \n",
       "2            Cabinet, Table And Tray, Anesthesia-868.61  \n",
       "3          Analyzer, Gas, Helium, Gaseous-Phase-868.164  \n",
       "4                      Absorber, Carbon-Dioxide-868.531  \n",
       "...                                                 ...  \n",
       "6667  Laser Marker, Cutter, Or Engraver, Tabletop, C...  \n",
       "6668           Laser Illuminated Lighting Instrument-NA  \n",
       "6669             Led Toys And Entertainment Products-NA  \n",
       "6670  Led Diodes Sold As Components To Be Installed ...  \n",
       "6671  Low Emission Leds As Indicators Or Decorations-NA  \n",
       "\n",
       "[6672 rows x 3 columns]"
      ],
      "text/html": "<div>\n<style scoped>\n    .dataframe tbody tr th:only-of-type {\n        vertical-align: middle;\n    }\n\n    .dataframe tbody tr th {\n        vertical-align: top;\n    }\n\n    .dataframe thead th {\n        text-align: right;\n    }\n</style>\n<table border=\"1\" class=\"dataframe\">\n  <thead>\n    <tr style=\"text-align: right;\">\n      <th></th>\n      <th>MEDICALSPECIALTY</th>\n      <th>PRODUCTCODE</th>\n      <th>NAME</th>\n    </tr>\n  </thead>\n  <tbody>\n    <tr>\n      <th>0</th>\n      <td>AN</td>\n      <td>BRW</td>\n      <td>Protector, Dental-868.582</td>\n    </tr>\n    <tr>\n      <th>1</th>\n      <td>AN</td>\n      <td>BRX</td>\n      <td>Stool, Anesthesia-868.67</td>\n    </tr>\n    <tr>\n      <th>2</th>\n      <td>AN</td>\n      <td>BRY</td>\n      <td>Cabinet, Table And Tray, Anesthesia-868.61</td>\n    </tr>\n    <tr>\n      <th>3</th>\n      <td>AN</td>\n      <td>BSE</td>\n      <td>Analyzer, Gas, Helium, Gaseous-Phase-868.164</td>\n    </tr>\n    <tr>\n      <th>4</th>\n      <td>AN</td>\n      <td>BSF</td>\n      <td>Absorber, Carbon-Dioxide-868.531</td>\n    </tr>\n    <tr>\n      <th>...</th>\n      <td>...</td>\n      <td>...</td>\n      <td>...</td>\n    </tr>\n    <tr>\n      <th>6667</th>\n      <td>NA</td>\n      <td>RIM</td>\n      <td>Laser Marker, Cutter, Or Engraver, Tabletop, C...</td>\n    </tr>\n    <tr>\n      <th>6668</th>\n      <td>NA</td>\n      <td>RIN</td>\n      <td>Laser Illuminated Lighting Instrument-NA</td>\n    </tr>\n    <tr>\n      <th>6669</th>\n      <td>NA</td>\n      <td>RIO</td>\n      <td>Led Toys And Entertainment Products-NA</td>\n    </tr>\n    <tr>\n      <th>6670</th>\n      <td>NA</td>\n      <td>RIP</td>\n      <td>Led Diodes Sold As Components To Be Installed ...</td>\n    </tr>\n    <tr>\n      <th>6671</th>\n      <td>NA</td>\n      <td>RIQ</td>\n      <td>Low Emission Leds As Indicators Or Decorations-NA</td>\n    </tr>\n  </tbody>\n</table>\n<p>6672 rows × 3 columns</p>\n</div>"
     },
     "metadata": {},
     "execution_count": 3
    }
   ],
   "source": [
    "productCode_path = os.path.join(abs_path, \"FDA Registration Record\", \"PRODUCTCODE\", \"foiclass.txt\")\n",
    "productCode_data = pd.read_csv(productCode_path,sep= \"|\", encoding=\"cp1252\" )\n",
    "productCode_data = productCode_data.replace(np.nan, \"NA\", regex = True)\n",
    "productCode_data['NAME'] = productCode_data['DEVICENAME'].str.cat(productCode_data[\"REGULATIONNUMBER\"].astype(str),sep=\"-\")\n",
    "productCode_data['RESULT'] = productCode_data['PRODUCTCODE'].str.cat(productCode_data[\"NAME\"],sep=\",\")\n",
    "result_data = productCode_data[[\"PRODUCTCODE\", 'RESULT']]\n",
    "productCode_data = productCode_data[[\"MEDICALSPECIALTY\", \"PRODUCTCODE\", \"NAME\"]]\n",
    "FDA_INFO_PRODUCTCODE = productCode_data\n",
    "FDA_INFO_PRODUCTCODE"
   ]
  },
  {
   "cell_type": "code",
   "execution_count": 4,
   "metadata": {},
   "outputs": [
    {
     "output_type": "execute_result",
     "data": {
      "text/plain": [
       "     MEDICALSPECIALTY PRODUCTCODE  \\\n",
       "0                  AN         BRW   \n",
       "160                AN         NMA   \n",
       "161                AN         NMC   \n",
       "162                AN         NMR   \n",
       "163                AN         NNH   \n",
       "...               ...         ...   \n",
       "6650               NA         RHV   \n",
       "6656               NA         RIB   \n",
       "6661               NA         RIG   \n",
       "6669               NA         RIO   \n",
       "6670               NA         RIP   \n",
       "\n",
       "                                                   NAME  \n",
       "0                             Protector, Dental-868.582  \n",
       "160                 Tube, Tracheal, Reprocessed-868.573  \n",
       "161   Mask, Ventilator, Non-Continuous, Reprocessed-...  \n",
       "162     Needle, Spinal, Short Term, Reprocessed-868.515  \n",
       "163   Needle, Conduction, Anesthesia, Reprocessed-86...  \n",
       "...                                                 ...  \n",
       "6650                  Metal Deposition Laser Product-NA  \n",
       "6656  Microscopy Laser Instrument Or Accessory Produ...  \n",
       "6661                     Laser Illuminated Projector-NA  \n",
       "6669             Led Toys And Entertainment Products-NA  \n",
       "6670  Led Diodes Sold As Components To Be Installed ...  \n",
       "\n",
       "[609 rows x 3 columns]"
      ],
      "text/html": "<div>\n<style scoped>\n    .dataframe tbody tr th:only-of-type {\n        vertical-align: middle;\n    }\n\n    .dataframe tbody tr th {\n        vertical-align: top;\n    }\n\n    .dataframe thead th {\n        text-align: right;\n    }\n</style>\n<table border=\"1\" class=\"dataframe\">\n  <thead>\n    <tr style=\"text-align: right;\">\n      <th></th>\n      <th>MEDICALSPECIALTY</th>\n      <th>PRODUCTCODE</th>\n      <th>NAME</th>\n    </tr>\n  </thead>\n  <tbody>\n    <tr>\n      <th>0</th>\n      <td>AN</td>\n      <td>BRW</td>\n      <td>Protector, Dental-868.582</td>\n    </tr>\n    <tr>\n      <th>160</th>\n      <td>AN</td>\n      <td>NMA</td>\n      <td>Tube, Tracheal, Reprocessed-868.573</td>\n    </tr>\n    <tr>\n      <th>161</th>\n      <td>AN</td>\n      <td>NMC</td>\n      <td>Mask, Ventilator, Non-Continuous, Reprocessed-...</td>\n    </tr>\n    <tr>\n      <th>162</th>\n      <td>AN</td>\n      <td>NMR</td>\n      <td>Needle, Spinal, Short Term, Reprocessed-868.515</td>\n    </tr>\n    <tr>\n      <th>163</th>\n      <td>AN</td>\n      <td>NNH</td>\n      <td>Needle, Conduction, Anesthesia, Reprocessed-86...</td>\n    </tr>\n    <tr>\n      <th>...</th>\n      <td>...</td>\n      <td>...</td>\n      <td>...</td>\n    </tr>\n    <tr>\n      <th>6650</th>\n      <td>NA</td>\n      <td>RHV</td>\n      <td>Metal Deposition Laser Product-NA</td>\n    </tr>\n    <tr>\n      <th>6656</th>\n      <td>NA</td>\n      <td>RIB</td>\n      <td>Microscopy Laser Instrument Or Accessory Produ...</td>\n    </tr>\n    <tr>\n      <th>6661</th>\n      <td>NA</td>\n      <td>RIG</td>\n      <td>Laser Illuminated Projector-NA</td>\n    </tr>\n    <tr>\n      <th>6669</th>\n      <td>NA</td>\n      <td>RIO</td>\n      <td>Led Toys And Entertainment Products-NA</td>\n    </tr>\n    <tr>\n      <th>6670</th>\n      <td>NA</td>\n      <td>RIP</td>\n      <td>Led Diodes Sold As Components To Be Installed ...</td>\n    </tr>\n  </tbody>\n</table>\n<p>609 rows × 3 columns</p>\n</div>"
     },
     "metadata": {},
     "execution_count": 4
    }
   ],
   "source": [
    "a = FDA_INFO_PRODUCTCODE[FDA_INFO_PRODUCTCODE[\"NAME\"].str.lower().str.contains(\"pro\")]\n",
    "a"
   ]
  },
  {
   "cell_type": "code",
   "execution_count": 5,
   "metadata": {},
   "outputs": [],
   "source": [
    "# output: product code\n",
    "def search_product_code_classfication_database(specialty_key =  None, name =  None):\n",
    "    if specialty_key != None:\n",
    "        narrowed_df = FDA_INFO_PRODUCTCODE[FDA_INFO_PRODUCTCODE[\"MEDICALSPECIALTY\"] == specialty_key]\n",
    "        if name != None:\n",
    "            name = name.lower()\n",
    "            result_df = narrowed_df[narrowed_df[\"NAME\"].str.lower().str.contains(name)]\n",
    "        else:\n",
    "            result_df = narrowed_df\n",
    "    else:\n",
    "        if name != None:\n",
    "            name = name.lower()\n",
    "            result_df = FDA_INFO_PRODUCTCODE[FDA_INFO_PRODUCTCODE[\"NAME\"].str.lower().str.contains(name)]\n",
    "        else:\n",
    "            result_df = FDA_INFO_PRODUCTCODE\n",
    "    return result_df"
   ]
  },
  {
   "source": [
    "## 510k"
   ],
   "cell_type": "markdown",
   "metadata": {}
  },
  {
   "cell_type": "code",
   "execution_count": 6,
   "metadata": {},
   "outputs": [
    {
     "output_type": "execute_result",
     "data": {
      "text/plain": [
       "          KNUMBER                                  APPLICANT       CONTACT  \\\n",
       "0       DEN190035                            Helix OpCo, LLC   Gloria  Lee   \n",
       "1         K190217  Aidite (Qinhuangdao) Technology Co., Ltd.    Zhang  Wei   \n",
       "2         K191978                           HuBDIC Co., Ltd.  Shin  Jae-Ho   \n",
       "3         K192073                            Helix OpCo, LLC   Gloria  Lee   \n",
       "4         K192308                        Wu's Tech Co., Ltd.   Jen  Ke-Min   \n",
       "...           ...                                        ...           ...   \n",
       "158463    K803151                         ABCO DEALERS, INC.           NaN   \n",
       "158464    K803165                               ZIMMER, INC.           NaN   \n",
       "158465    K803174                              CONPHAR, INC.           NaN   \n",
       "158466    K803177                        DURO-MED IND., INC.           NaN   \n",
       "158467    K803201                                 WALPAK CO.           NaN   \n",
       "\n",
       "                                                  STREET1 STREET2  \\\n",
       "0                                       96 Colbeck Street     NaN   \n",
       "1       No.9 Dushan Road,Economic and Technological De...     NaN   \n",
       "2        301, 53 Jeonpa-ro, Mana-gu, Anyang-si, Gyongg-do     NaN   \n",
       "3                                       96 Colbeck Street     NaN   \n",
       "4                                  No. 225, Yuan Peir St.     NaN   \n",
       "...                                                   ...     ...   \n",
       "158463                           803 N. Front St. Suite 3     NaN   \n",
       "158464                           803 N. Front St. Suite 3     NaN   \n",
       "158465                           803 N. Front St. Suite 3     NaN   \n",
       "158466                           803 N. Front St. Suite 3     NaN   \n",
       "158467                           803 N. Front St. Suite 3     NaN   \n",
       "\n",
       "                 CITY STATE COUNTRY_CODE      ZIP POSTAL_CODE  ... DECISION  \\\n",
       "0             Toronto   NaN           CA  M6S1 V2     M6S1 V2  ...     DENG   \n",
       "1         Qinhuangdao   NaN           CN   066000      066000  ...     SESE   \n",
       "2           Anyang-si   NaN           KR    14084       14084  ...     SESE   \n",
       "3             Toronto   NaN           CA  M6S1 V2     M6S1 V2  ...     SESE   \n",
       "4       Hsin-Chu City   NaN           TW    30093       30093  ...     SESE   \n",
       "...               ...   ...          ...      ...         ...  ...      ...   \n",
       "158463        McHenry    IL           US    60050       60050  ...     SESE   \n",
       "158464        McHenry    IL           US    60050       60050  ...     SESE   \n",
       "158465        McHenry    IL           US    60050       60050  ...     SESE   \n",
       "158466        McHenry    IL           US    60050       60050  ...     SESE   \n",
       "158467        McHenry    IL           US    60050       60050  ...     SESP   \n",
       "\n",
       "       REVIEWADVISECOMM PRODUCTCODE STATEORSUMM CLASSADVISECOMM SSPINDICATOR  \\\n",
       "0                    MG         QNC         NaN              MG          NaN   \n",
       "1                    DE         EBG     Summary              DE          NaN   \n",
       "2                    HO         FLL     Summary              HO          NaN   \n",
       "3                    IM         PTA     Summary              IM          NaN   \n",
       "4                    PM         INI     Summary              PM          NaN   \n",
       "...                 ...         ...         ...             ...          ...   \n",
       "158463               NE         GYB         NaN              NE          NaN   \n",
       "158464               OR         HXO         NaN              OR          NaN   \n",
       "158465               NE         GWZ         NaN              NE          NaN   \n",
       "158466               PM         IMA         NaN              PM          NaN   \n",
       "158467               HO         NaN         NaN             NaN          NaN   \n",
       "\n",
       "               TYPE  THIRDPARTY EXPEDITEDREVIEW  \\\n",
       "0            Direct           N             NaN   \n",
       "1       Traditional           N             NaN   \n",
       "2       Traditional           N             NaN   \n",
       "3       Traditional           N             NaN   \n",
       "4       Traditional           N             NaN   \n",
       "...             ...         ...             ...   \n",
       "158463  Traditional           N             NaN   \n",
       "158464  Traditional           N             NaN   \n",
       "158465  Traditional           N             NaN   \n",
       "158466  Traditional           N             NaN   \n",
       "158467  Traditional           N             NaN   \n",
       "\n",
       "                                               DEVICENAME  \n",
       "0                               Helix Laboratory Platform  \n",
       "1                                             Aidite PMMA  \n",
       "2                                             Fever Garde  \n",
       "3       Helix Genetic Health Risk App for late-onset A...  \n",
       "4                                 Wu's Electrical Scooter  \n",
       "...                                                   ...  \n",
       "158463             ECG & ULTRASOUND GELS, CREAMS & LOTION  \n",
       "158464                       ACETABULAR CEMENT COMPRESSOR  \n",
       "158465               CONPHAR PERCUSSION HAMMER(BUCK TYPE)  \n",
       "158466                                    MOIST HEAT PACK  \n",
       "158467                              LEMON GLYCERINE SWABS  \n",
       "\n",
       "[158468 rows x 22 columns]"
      ],
      "text/html": "<div>\n<style scoped>\n    .dataframe tbody tr th:only-of-type {\n        vertical-align: middle;\n    }\n\n    .dataframe tbody tr th {\n        vertical-align: top;\n    }\n\n    .dataframe thead th {\n        text-align: right;\n    }\n</style>\n<table border=\"1\" class=\"dataframe\">\n  <thead>\n    <tr style=\"text-align: right;\">\n      <th></th>\n      <th>KNUMBER</th>\n      <th>APPLICANT</th>\n      <th>CONTACT</th>\n      <th>STREET1</th>\n      <th>STREET2</th>\n      <th>CITY</th>\n      <th>STATE</th>\n      <th>COUNTRY_CODE</th>\n      <th>ZIP</th>\n      <th>POSTAL_CODE</th>\n      <th>...</th>\n      <th>DECISION</th>\n      <th>REVIEWADVISECOMM</th>\n      <th>PRODUCTCODE</th>\n      <th>STATEORSUMM</th>\n      <th>CLASSADVISECOMM</th>\n      <th>SSPINDICATOR</th>\n      <th>TYPE</th>\n      <th>THIRDPARTY</th>\n      <th>EXPEDITEDREVIEW</th>\n      <th>DEVICENAME</th>\n    </tr>\n  </thead>\n  <tbody>\n    <tr>\n      <th>0</th>\n      <td>DEN190035</td>\n      <td>Helix OpCo, LLC</td>\n      <td>Gloria  Lee</td>\n      <td>96 Colbeck Street</td>\n      <td>NaN</td>\n      <td>Toronto</td>\n      <td>NaN</td>\n      <td>CA</td>\n      <td>M6S1 V2</td>\n      <td>M6S1 V2</td>\n      <td>...</td>\n      <td>DENG</td>\n      <td>MG</td>\n      <td>QNC</td>\n      <td>NaN</td>\n      <td>MG</td>\n      <td>NaN</td>\n      <td>Direct</td>\n      <td>N</td>\n      <td>NaN</td>\n      <td>Helix Laboratory Platform</td>\n    </tr>\n    <tr>\n      <th>1</th>\n      <td>K190217</td>\n      <td>Aidite (Qinhuangdao) Technology Co., Ltd.</td>\n      <td>Zhang  Wei</td>\n      <td>No.9 Dushan Road,Economic and Technological De...</td>\n      <td>NaN</td>\n      <td>Qinhuangdao</td>\n      <td>NaN</td>\n      <td>CN</td>\n      <td>066000</td>\n      <td>066000</td>\n      <td>...</td>\n      <td>SESE</td>\n      <td>DE</td>\n      <td>EBG</td>\n      <td>Summary</td>\n      <td>DE</td>\n      <td>NaN</td>\n      <td>Traditional</td>\n      <td>N</td>\n      <td>NaN</td>\n      <td>Aidite PMMA</td>\n    </tr>\n    <tr>\n      <th>2</th>\n      <td>K191978</td>\n      <td>HuBDIC Co., Ltd.</td>\n      <td>Shin  Jae-Ho</td>\n      <td>301, 53 Jeonpa-ro, Mana-gu, Anyang-si, Gyongg-do</td>\n      <td>NaN</td>\n      <td>Anyang-si</td>\n      <td>NaN</td>\n      <td>KR</td>\n      <td>14084</td>\n      <td>14084</td>\n      <td>...</td>\n      <td>SESE</td>\n      <td>HO</td>\n      <td>FLL</td>\n      <td>Summary</td>\n      <td>HO</td>\n      <td>NaN</td>\n      <td>Traditional</td>\n      <td>N</td>\n      <td>NaN</td>\n      <td>Fever Garde</td>\n    </tr>\n    <tr>\n      <th>3</th>\n      <td>K192073</td>\n      <td>Helix OpCo, LLC</td>\n      <td>Gloria  Lee</td>\n      <td>96 Colbeck Street</td>\n      <td>NaN</td>\n      <td>Toronto</td>\n      <td>NaN</td>\n      <td>CA</td>\n      <td>M6S1 V2</td>\n      <td>M6S1 V2</td>\n      <td>...</td>\n      <td>SESE</td>\n      <td>IM</td>\n      <td>PTA</td>\n      <td>Summary</td>\n      <td>IM</td>\n      <td>NaN</td>\n      <td>Traditional</td>\n      <td>N</td>\n      <td>NaN</td>\n      <td>Helix Genetic Health Risk App for late-onset A...</td>\n    </tr>\n    <tr>\n      <th>4</th>\n      <td>K192308</td>\n      <td>Wu's Tech Co., Ltd.</td>\n      <td>Jen  Ke-Min</td>\n      <td>No. 225, Yuan Peir St.</td>\n      <td>NaN</td>\n      <td>Hsin-Chu City</td>\n      <td>NaN</td>\n      <td>TW</td>\n      <td>30093</td>\n      <td>30093</td>\n      <td>...</td>\n      <td>SESE</td>\n      <td>PM</td>\n      <td>INI</td>\n      <td>Summary</td>\n      <td>PM</td>\n      <td>NaN</td>\n      <td>Traditional</td>\n      <td>N</td>\n      <td>NaN</td>\n      <td>Wu's Electrical Scooter</td>\n    </tr>\n    <tr>\n      <th>...</th>\n      <td>...</td>\n      <td>...</td>\n      <td>...</td>\n      <td>...</td>\n      <td>...</td>\n      <td>...</td>\n      <td>...</td>\n      <td>...</td>\n      <td>...</td>\n      <td>...</td>\n      <td>...</td>\n      <td>...</td>\n      <td>...</td>\n      <td>...</td>\n      <td>...</td>\n      <td>...</td>\n      <td>...</td>\n      <td>...</td>\n      <td>...</td>\n      <td>...</td>\n      <td>...</td>\n    </tr>\n    <tr>\n      <th>158463</th>\n      <td>K803151</td>\n      <td>ABCO DEALERS, INC.</td>\n      <td>NaN</td>\n      <td>803 N. Front St. Suite 3</td>\n      <td>NaN</td>\n      <td>McHenry</td>\n      <td>IL</td>\n      <td>US</td>\n      <td>60050</td>\n      <td>60050</td>\n      <td>...</td>\n      <td>SESE</td>\n      <td>NE</td>\n      <td>GYB</td>\n      <td>NaN</td>\n      <td>NE</td>\n      <td>NaN</td>\n      <td>Traditional</td>\n      <td>N</td>\n      <td>NaN</td>\n      <td>ECG &amp; ULTRASOUND GELS, CREAMS &amp; LOTION</td>\n    </tr>\n    <tr>\n      <th>158464</th>\n      <td>K803165</td>\n      <td>ZIMMER, INC.</td>\n      <td>NaN</td>\n      <td>803 N. Front St. Suite 3</td>\n      <td>NaN</td>\n      <td>McHenry</td>\n      <td>IL</td>\n      <td>US</td>\n      <td>60050</td>\n      <td>60050</td>\n      <td>...</td>\n      <td>SESE</td>\n      <td>OR</td>\n      <td>HXO</td>\n      <td>NaN</td>\n      <td>OR</td>\n      <td>NaN</td>\n      <td>Traditional</td>\n      <td>N</td>\n      <td>NaN</td>\n      <td>ACETABULAR CEMENT COMPRESSOR</td>\n    </tr>\n    <tr>\n      <th>158465</th>\n      <td>K803174</td>\n      <td>CONPHAR, INC.</td>\n      <td>NaN</td>\n      <td>803 N. Front St. Suite 3</td>\n      <td>NaN</td>\n      <td>McHenry</td>\n      <td>IL</td>\n      <td>US</td>\n      <td>60050</td>\n      <td>60050</td>\n      <td>...</td>\n      <td>SESE</td>\n      <td>NE</td>\n      <td>GWZ</td>\n      <td>NaN</td>\n      <td>NE</td>\n      <td>NaN</td>\n      <td>Traditional</td>\n      <td>N</td>\n      <td>NaN</td>\n      <td>CONPHAR PERCUSSION HAMMER(BUCK TYPE)</td>\n    </tr>\n    <tr>\n      <th>158466</th>\n      <td>K803177</td>\n      <td>DURO-MED IND., INC.</td>\n      <td>NaN</td>\n      <td>803 N. Front St. Suite 3</td>\n      <td>NaN</td>\n      <td>McHenry</td>\n      <td>IL</td>\n      <td>US</td>\n      <td>60050</td>\n      <td>60050</td>\n      <td>...</td>\n      <td>SESE</td>\n      <td>PM</td>\n      <td>IMA</td>\n      <td>NaN</td>\n      <td>PM</td>\n      <td>NaN</td>\n      <td>Traditional</td>\n      <td>N</td>\n      <td>NaN</td>\n      <td>MOIST HEAT PACK</td>\n    </tr>\n    <tr>\n      <th>158467</th>\n      <td>K803201</td>\n      <td>WALPAK CO.</td>\n      <td>NaN</td>\n      <td>803 N. Front St. Suite 3</td>\n      <td>NaN</td>\n      <td>McHenry</td>\n      <td>IL</td>\n      <td>US</td>\n      <td>60050</td>\n      <td>60050</td>\n      <td>...</td>\n      <td>SESP</td>\n      <td>HO</td>\n      <td>NaN</td>\n      <td>NaN</td>\n      <td>NaN</td>\n      <td>NaN</td>\n      <td>Traditional</td>\n      <td>N</td>\n      <td>NaN</td>\n      <td>LEMON GLYCERINE SWABS</td>\n    </tr>\n  </tbody>\n</table>\n<p>158468 rows × 22 columns</p>\n</div>"
     },
     "metadata": {},
     "execution_count": 6
    }
   ],
   "source": [
    "data_file_list = [\"pmnlstmn.txt\", \"pmn96cur.txt\", \"pmn9195.txt\", \"pmn8690.txt\", \"pmn8185.txt\", \"pmn7680.txt\"]\n",
    "data_list = []\n",
    "for i in range(len(data_file_list)):\n",
    "    path = os.path.join(abs_path, \"FDA Registration Record\", \"510k\", data_file_list[i])\n",
    "    data_list.append(pd.read_csv(path, sep= \"|\", encoding=\"cp1252\"))\n",
    "\n",
    "DATA = pd.concat(data_list)\n",
    "DATA = DATA.reset_index(drop=True)\n",
    "\n",
    "DATA"
   ]
  },
  {
   "cell_type": "code",
   "execution_count": 7,
   "metadata": {},
   "outputs": [
    {
     "output_type": "execute_result",
     "data": {
      "text/plain": [
       "          KNUMBER                                 MANUFACTOR COUNTRY_CODE  \\\n",
       "0       DEN190035                            Helix OpCo, LLC           CA   \n",
       "1         K190217  Aidite (Qinhuangdao) Technology Co., Ltd.           CN   \n",
       "2         K191978                           HuBDIC Co., Ltd.           KR   \n",
       "3         K192073                            Helix OpCo, LLC           CA   \n",
       "4         K192308                        Wu's Tech Co., Ltd.           TW   \n",
       "...           ...                                        ...          ...   \n",
       "158463    K803151                         ABCO DEALERS, INC.           US   \n",
       "158464    K803165                               ZIMMER, INC.           US   \n",
       "158465    K803174                              CONPHAR, INC.           US   \n",
       "158466    K803177                        DURO-MED IND., INC.           US   \n",
       "158467    K803201                                 WALPAK CO.           US   \n",
       "\n",
       "       DATERECEIVED DECISIONDATE DECISION PRODUCTCODE STATEORSUMM THIRDPARTY  \\\n",
       "0        2019-08-02   2020-12-23     DENG         QNC          NA          N   \n",
       "1        2019-02-04   2020-12-17     SESE         EBG     Summary          N   \n",
       "2        2019-07-24   2020-12-18     SESE         FLL     Summary          N   \n",
       "3        2019-08-02   2020-12-23     SESE         PTA     Summary          N   \n",
       "4        2019-08-26   2020-12-21     SESE         INI     Summary          N   \n",
       "...             ...          ...      ...         ...         ...        ...   \n",
       "158463   1980-12-12   1980-12-30     SESE         GYB          NA          N   \n",
       "158464   1980-12-15   1980-12-31     SESE         HXO          NA          N   \n",
       "158465   1980-12-15   1980-12-30     SESE         GWZ          NA          N   \n",
       "158466   1980-12-16   1980-12-31     SESE         IMA          NA          N   \n",
       "158467   1980-12-17   1980-12-17     SESP          NA          NA          N   \n",
       "\n",
       "                                                MODELNAME  \n",
       "0                               Helix Laboratory Platform  \n",
       "1                                             Aidite PMMA  \n",
       "2                                             Fever Garde  \n",
       "3       Helix Genetic Health Risk App for late-onset A...  \n",
       "4                                 Wu's Electrical Scooter  \n",
       "...                                                   ...  \n",
       "158463             ECG & ULTRASOUND GELS, CREAMS & LOTION  \n",
       "158464                       ACETABULAR CEMENT COMPRESSOR  \n",
       "158465               CONPHAR PERCUSSION HAMMER(BUCK TYPE)  \n",
       "158466                                    MOIST HEAT PACK  \n",
       "158467                              LEMON GLYCERINE SWABS  \n",
       "\n",
       "[158468 rows x 10 columns]"
      ],
      "text/html": "<div>\n<style scoped>\n    .dataframe tbody tr th:only-of-type {\n        vertical-align: middle;\n    }\n\n    .dataframe tbody tr th {\n        vertical-align: top;\n    }\n\n    .dataframe thead th {\n        text-align: right;\n    }\n</style>\n<table border=\"1\" class=\"dataframe\">\n  <thead>\n    <tr style=\"text-align: right;\">\n      <th></th>\n      <th>KNUMBER</th>\n      <th>MANUFACTOR</th>\n      <th>COUNTRY_CODE</th>\n      <th>DATERECEIVED</th>\n      <th>DECISIONDATE</th>\n      <th>DECISION</th>\n      <th>PRODUCTCODE</th>\n      <th>STATEORSUMM</th>\n      <th>THIRDPARTY</th>\n      <th>MODELNAME</th>\n    </tr>\n  </thead>\n  <tbody>\n    <tr>\n      <th>0</th>\n      <td>DEN190035</td>\n      <td>Helix OpCo, LLC</td>\n      <td>CA</td>\n      <td>2019-08-02</td>\n      <td>2020-12-23</td>\n      <td>DENG</td>\n      <td>QNC</td>\n      <td>NA</td>\n      <td>N</td>\n      <td>Helix Laboratory Platform</td>\n    </tr>\n    <tr>\n      <th>1</th>\n      <td>K190217</td>\n      <td>Aidite (Qinhuangdao) Technology Co., Ltd.</td>\n      <td>CN</td>\n      <td>2019-02-04</td>\n      <td>2020-12-17</td>\n      <td>SESE</td>\n      <td>EBG</td>\n      <td>Summary</td>\n      <td>N</td>\n      <td>Aidite PMMA</td>\n    </tr>\n    <tr>\n      <th>2</th>\n      <td>K191978</td>\n      <td>HuBDIC Co., Ltd.</td>\n      <td>KR</td>\n      <td>2019-07-24</td>\n      <td>2020-12-18</td>\n      <td>SESE</td>\n      <td>FLL</td>\n      <td>Summary</td>\n      <td>N</td>\n      <td>Fever Garde</td>\n    </tr>\n    <tr>\n      <th>3</th>\n      <td>K192073</td>\n      <td>Helix OpCo, LLC</td>\n      <td>CA</td>\n      <td>2019-08-02</td>\n      <td>2020-12-23</td>\n      <td>SESE</td>\n      <td>PTA</td>\n      <td>Summary</td>\n      <td>N</td>\n      <td>Helix Genetic Health Risk App for late-onset A...</td>\n    </tr>\n    <tr>\n      <th>4</th>\n      <td>K192308</td>\n      <td>Wu's Tech Co., Ltd.</td>\n      <td>TW</td>\n      <td>2019-08-26</td>\n      <td>2020-12-21</td>\n      <td>SESE</td>\n      <td>INI</td>\n      <td>Summary</td>\n      <td>N</td>\n      <td>Wu's Electrical Scooter</td>\n    </tr>\n    <tr>\n      <th>...</th>\n      <td>...</td>\n      <td>...</td>\n      <td>...</td>\n      <td>...</td>\n      <td>...</td>\n      <td>...</td>\n      <td>...</td>\n      <td>...</td>\n      <td>...</td>\n      <td>...</td>\n    </tr>\n    <tr>\n      <th>158463</th>\n      <td>K803151</td>\n      <td>ABCO DEALERS, INC.</td>\n      <td>US</td>\n      <td>1980-12-12</td>\n      <td>1980-12-30</td>\n      <td>SESE</td>\n      <td>GYB</td>\n      <td>NA</td>\n      <td>N</td>\n      <td>ECG &amp; ULTRASOUND GELS, CREAMS &amp; LOTION</td>\n    </tr>\n    <tr>\n      <th>158464</th>\n      <td>K803165</td>\n      <td>ZIMMER, INC.</td>\n      <td>US</td>\n      <td>1980-12-15</td>\n      <td>1980-12-31</td>\n      <td>SESE</td>\n      <td>HXO</td>\n      <td>NA</td>\n      <td>N</td>\n      <td>ACETABULAR CEMENT COMPRESSOR</td>\n    </tr>\n    <tr>\n      <th>158465</th>\n      <td>K803174</td>\n      <td>CONPHAR, INC.</td>\n      <td>US</td>\n      <td>1980-12-15</td>\n      <td>1980-12-30</td>\n      <td>SESE</td>\n      <td>GWZ</td>\n      <td>NA</td>\n      <td>N</td>\n      <td>CONPHAR PERCUSSION HAMMER(BUCK TYPE)</td>\n    </tr>\n    <tr>\n      <th>158466</th>\n      <td>K803177</td>\n      <td>DURO-MED IND., INC.</td>\n      <td>US</td>\n      <td>1980-12-16</td>\n      <td>1980-12-31</td>\n      <td>SESE</td>\n      <td>IMA</td>\n      <td>NA</td>\n      <td>N</td>\n      <td>MOIST HEAT PACK</td>\n    </tr>\n    <tr>\n      <th>158467</th>\n      <td>K803201</td>\n      <td>WALPAK CO.</td>\n      <td>US</td>\n      <td>1980-12-17</td>\n      <td>1980-12-17</td>\n      <td>SESP</td>\n      <td>NA</td>\n      <td>NA</td>\n      <td>N</td>\n      <td>LEMON GLYCERINE SWABS</td>\n    </tr>\n  </tbody>\n</table>\n<p>158468 rows × 10 columns</p>\n</div>"
     },
     "metadata": {},
     "execution_count": 7
    }
   ],
   "source": [
    "FDA_INFO_510K = DATA[['KNUMBER', 'APPLICANT', \"COUNTRY_CODE\", \"DATERECEIVED\", 'DECISIONDATE', \"DECISION\", 'PRODUCTCODE', \"STATEORSUMM\", \"THIRDPARTY\", 'DEVICENAME']]\n",
    "FDA_INFO_510K = FDA_INFO_510K.rename({'APPLICANT':'MANUFACTOR', \"DEVICENAME\":\"MODELNAME\"}, axis=\"columns\")\n",
    "FDA_INFO_510K = FDA_INFO_510K.replace(np.nan, \"NA\", regex=True)\n",
    "FDA_INFO_510K['DATERECEIVED'] = pd.to_datetime(FDA_INFO_510K['DATERECEIVED'], errors = \"coerce\")\n",
    "FDA_INFO_510K['DECISIONDATE'] = pd.to_datetime(FDA_INFO_510K['DECISIONDATE'], errors = \"coerce\")\n",
    "FDA_INFO_510K"
   ]
  },
  {
   "cell_type": "code",
   "execution_count": 8,
   "metadata": {},
   "outputs": [
    {
     "output_type": "execute_result",
     "data": {
      "text/plain": [
       "         KNUMBER                                         MANUFACTOR  \\\n",
       "0      DEN190035                                    Helix OpCo, LLC   \n",
       "1        K190217          Aidite (Qinhuangdao) Technology Co., Ltd.   \n",
       "2        K191978                                   HuBDIC Co., Ltd.   \n",
       "3        K192073                                    Helix OpCo, LLC   \n",
       "4        K192308                                Wu's Tech Co., Ltd.   \n",
       "...          ...                                                ...   \n",
       "65891    K203677  GE Medical Systems Ultrasound & Primary Care D...   \n",
       "65892    K203678                  Medtronic Sofamor Danek USA, INC.   \n",
       "65893    K203683                           CarboFix Orthpedics Ltd.   \n",
       "65894    K203719                                Volcano Corporation   \n",
       "65895    K203726                Siemens Medical Solutions USA, Inc.   \n",
       "\n",
       "      COUNTRY_CODE DATERECEIVED DECISIONDATE DECISION PRODUCTCODE STATEORSUMM  \\\n",
       "0               CA   2019-08-02   2020-12-23     DENG         QNC          NA   \n",
       "1               CN   2019-02-04   2020-12-17     SESE         EBG     Summary   \n",
       "2               KR   2019-07-24   2020-12-18     SESE         FLL     Summary   \n",
       "3               CA   2019-08-02   2020-12-23     SESE         PTA     Summary   \n",
       "4               TW   2019-08-26   2020-12-21     SESE         INI     Summary   \n",
       "...            ...          ...          ...      ...         ...         ...   \n",
       "65891           US   2020-12-17   2021-01-15     SESE         LLZ     Summary   \n",
       "65892           US   2020-12-17   2021-01-15     SESE         NQP     Summary   \n",
       "65893           IL   2020-12-17   2021-01-15     SESE         MAX     Summary   \n",
       "65894           US   2020-12-21   2021-01-19     SESE         IYO     Summary   \n",
       "65895           US   2020-12-21   2021-01-19     SESE         OBJ     Summary   \n",
       "\n",
       "      THIRDPARTY                                          MODELNAME  \n",
       "0              N                          Helix Laboratory Platform  \n",
       "1              N                                        Aidite PMMA  \n",
       "2              N                                        Fever Garde  \n",
       "3              N  Helix Genetic Health Risk App for late-onset A...  \n",
       "4              N                            Wu's Electrical Scooter  \n",
       "...          ...                                                ...  \n",
       "65891          N                                        ViewPoint 6  \n",
       "65892          N                          CD HORIZON™ Spinal System  \n",
       "65893          N                      CarboClear Lumbar Cage System  \n",
       "65894          N                                  IntraSight Mobile  \n",
       "65895          N  ACUSON AcuNav Volume Intracardiac Echocardiogr...  \n",
       "\n",
       "[5198 rows x 10 columns]"
      ],
      "text/html": "<div>\n<style scoped>\n    .dataframe tbody tr th:only-of-type {\n        vertical-align: middle;\n    }\n\n    .dataframe tbody tr th {\n        vertical-align: top;\n    }\n\n    .dataframe thead th {\n        text-align: right;\n    }\n</style>\n<table border=\"1\" class=\"dataframe\">\n  <thead>\n    <tr style=\"text-align: right;\">\n      <th></th>\n      <th>KNUMBER</th>\n      <th>MANUFACTOR</th>\n      <th>COUNTRY_CODE</th>\n      <th>DATERECEIVED</th>\n      <th>DECISIONDATE</th>\n      <th>DECISION</th>\n      <th>PRODUCTCODE</th>\n      <th>STATEORSUMM</th>\n      <th>THIRDPARTY</th>\n      <th>MODELNAME</th>\n    </tr>\n  </thead>\n  <tbody>\n    <tr>\n      <th>0</th>\n      <td>DEN190035</td>\n      <td>Helix OpCo, LLC</td>\n      <td>CA</td>\n      <td>2019-08-02</td>\n      <td>2020-12-23</td>\n      <td>DENG</td>\n      <td>QNC</td>\n      <td>NA</td>\n      <td>N</td>\n      <td>Helix Laboratory Platform</td>\n    </tr>\n    <tr>\n      <th>1</th>\n      <td>K190217</td>\n      <td>Aidite (Qinhuangdao) Technology Co., Ltd.</td>\n      <td>CN</td>\n      <td>2019-02-04</td>\n      <td>2020-12-17</td>\n      <td>SESE</td>\n      <td>EBG</td>\n      <td>Summary</td>\n      <td>N</td>\n      <td>Aidite PMMA</td>\n    </tr>\n    <tr>\n      <th>2</th>\n      <td>K191978</td>\n      <td>HuBDIC Co., Ltd.</td>\n      <td>KR</td>\n      <td>2019-07-24</td>\n      <td>2020-12-18</td>\n      <td>SESE</td>\n      <td>FLL</td>\n      <td>Summary</td>\n      <td>N</td>\n      <td>Fever Garde</td>\n    </tr>\n    <tr>\n      <th>3</th>\n      <td>K192073</td>\n      <td>Helix OpCo, LLC</td>\n      <td>CA</td>\n      <td>2019-08-02</td>\n      <td>2020-12-23</td>\n      <td>SESE</td>\n      <td>PTA</td>\n      <td>Summary</td>\n      <td>N</td>\n      <td>Helix Genetic Health Risk App for late-onset A...</td>\n    </tr>\n    <tr>\n      <th>4</th>\n      <td>K192308</td>\n      <td>Wu's Tech Co., Ltd.</td>\n      <td>TW</td>\n      <td>2019-08-26</td>\n      <td>2020-12-21</td>\n      <td>SESE</td>\n      <td>INI</td>\n      <td>Summary</td>\n      <td>N</td>\n      <td>Wu's Electrical Scooter</td>\n    </tr>\n    <tr>\n      <th>...</th>\n      <td>...</td>\n      <td>...</td>\n      <td>...</td>\n      <td>...</td>\n      <td>...</td>\n      <td>...</td>\n      <td>...</td>\n      <td>...</td>\n      <td>...</td>\n      <td>...</td>\n    </tr>\n    <tr>\n      <th>65891</th>\n      <td>K203677</td>\n      <td>GE Medical Systems Ultrasound &amp; Primary Care D...</td>\n      <td>US</td>\n      <td>2020-12-17</td>\n      <td>2021-01-15</td>\n      <td>SESE</td>\n      <td>LLZ</td>\n      <td>Summary</td>\n      <td>N</td>\n      <td>ViewPoint 6</td>\n    </tr>\n    <tr>\n      <th>65892</th>\n      <td>K203678</td>\n      <td>Medtronic Sofamor Danek USA, INC.</td>\n      <td>US</td>\n      <td>2020-12-17</td>\n      <td>2021-01-15</td>\n      <td>SESE</td>\n      <td>NQP</td>\n      <td>Summary</td>\n      <td>N</td>\n      <td>CD HORIZON™ Spinal System</td>\n    </tr>\n    <tr>\n      <th>65893</th>\n      <td>K203683</td>\n      <td>CarboFix Orthpedics Ltd.</td>\n      <td>IL</td>\n      <td>2020-12-17</td>\n      <td>2021-01-15</td>\n      <td>SESE</td>\n      <td>MAX</td>\n      <td>Summary</td>\n      <td>N</td>\n      <td>CarboClear Lumbar Cage System</td>\n    </tr>\n    <tr>\n      <th>65894</th>\n      <td>K203719</td>\n      <td>Volcano Corporation</td>\n      <td>US</td>\n      <td>2020-12-21</td>\n      <td>2021-01-19</td>\n      <td>SESE</td>\n      <td>IYO</td>\n      <td>Summary</td>\n      <td>N</td>\n      <td>IntraSight Mobile</td>\n    </tr>\n    <tr>\n      <th>65895</th>\n      <td>K203726</td>\n      <td>Siemens Medical Solutions USA, Inc.</td>\n      <td>US</td>\n      <td>2020-12-21</td>\n      <td>2021-01-19</td>\n      <td>SESE</td>\n      <td>OBJ</td>\n      <td>Summary</td>\n      <td>N</td>\n      <td>ACUSON AcuNav Volume Intracardiac Echocardiogr...</td>\n    </tr>\n  </tbody>\n</table>\n<p>5198 rows × 10 columns</p>\n</div>"
     },
     "metadata": {},
     "execution_count": 8
    }
   ],
   "source": [
    "import datetime as dt\n",
    "FDA_INFO_510K['DATERECEIVED'] = pd.to_datetime(FDA_INFO_510K['DATERECEIVED'], errors = \"coerce\")\n",
    "a = FDA_INFO_510K[FDA_INFO_510K[\"DATERECEIVED\"].dt.year >= 2019]\n",
    "\n",
    "a"
   ]
  },
  {
   "cell_type": "code",
   "execution_count": 9,
   "metadata": {},
   "outputs": [],
   "source": [
    "# FDA_INFO_510K = FDA_INFO_510K.replace(np.nan, \"NA\", regex=True)\n",
    "# FDA_INFO_510K[\"NAME\"] = FDA_INFO_510K[\"MODELNAME\"].str.cat(\n",
    "#     FDA_INFO_510K[\"MANUFACTOR\"].astype(str), sep=\"-\")\n",
    "# FDA_INFO_510K"
   ]
  },
  {
   "cell_type": "code",
   "execution_count": 10,
   "metadata": {},
   "outputs": [],
   "source": [
    "import datetime as dt\n",
    "filter_510k_kNumber = lambda df, knumber : df[df[\"KNUMBER\"].str.lower() == knumber.lower()]\n",
    "filter_510k_manufactor = lambda df, manufactor : df[df[\"MANUFACTOR\"].str.lower().str.contains(manufactor.lower())]\n",
    "filter_510k_countryCode = lambda df, countryCode : df[df[\"COUNTRY_CODE\"].str.lower() == countryCode.lower()]\n",
    "# mode = [before, in, after]\n",
    "def filter_510k_dateReceived(df, year_mode):\n",
    "    if year_mode[1] == 'before':\n",
    "        result_df = df[df[\"DATERECEIVED\"].dt.year < year_mode[0]]\n",
    "    elif year_mode[1] == \"in\":\n",
    "        result_df = df[df[\"DATERECEIVED\"].dt.year == year_mode[0]]\n",
    "    else:\n",
    "        result_df = df[df[\"DATERECEIVED\"].dt.year > year_mode[0]]\n",
    "    return result_df\n",
    "# mode = [before, in, after]\n",
    "def filter_510k_decisionDate(df, year_mode):\n",
    "    if year_mode[1] == 'before':\n",
    "        result_df = df[df[\"DECISIONDATE\"].dt.year < year_mode[0]]\n",
    "    elif year_mode[1] == \"in\":\n",
    "        result_df = df[df[\"DECISIONDATE\"].dt.year == year_mode[0]]\n",
    "    else:\n",
    "        result_df = df[df[\"DECISIONDATE\"].dt.year > year_mode[0]]\n",
    "    return result_df\n",
    "filter_510k_decision = lambda df, decision : df[df[\"DECISION\"].str.lower() == decision.lower()]\n",
    "filter_510k_productCode = lambda df, productCode : df[df[\"PRODUCTCODE\"].str.lower() == productCode.lower()]\n",
    "filter_510k_stateOrSum = lambda df, stateOrSum : df[df[\"STATEORSUMM\"].str.lower() == stateOrSum.lower()]\n",
    "filter_510k_thirdParty = lambda df, thirdParty : df[df[\"THIRDPARTY\"].str.lower() == thirdParty.lower()]\n",
    "filter_510k_modelName = lambda df, modelName: df[df[\"MODELNAME\"].str.lower().str.contains(modelName.lower())]\n",
    "\n",
    "func_list = [filter_510k_kNumber, filter_510k_manufactor, filter_510k_countryCode, filter_510k_dateReceived, filter_510k_decisionDate, filter_510k_decision, filter_510k_productCode, filter_510k_stateOrSum, filter_510k_thirdParty, filter_510k_modelName]"
   ]
  },
  {
   "cell_type": "code",
   "execution_count": 11,
   "metadata": {},
   "outputs": [],
   "source": [
    "def filter_510k(df, knumber = None, manufactor = None, countryCode = None, dateReceived = None, decisionDate = None, decision = None, productCode = None, stateOrSum = None, thirdParty = None, ModelName = None):\n",
    "    input_list = [knumber, manufactor, countryCode, dateReceived, decisionDate, decision, productCode, stateOrSum, thirdParty, ModelName]\n",
    "    result_df = df\n",
    "    for i in range(len(input_list)):\n",
    "        if input_list[i] != None:\n",
    "            result_df = func_list[i](result_df, input_list[i])\n",
    "    return result_df"
   ]
  },
  {
   "cell_type": "code",
   "execution_count": 18,
   "metadata": {},
   "outputs": [
    {
     "output_type": "execute_result",
     "data": {
      "text/plain": [
       "       KNUMBER                        MANUFACTOR COUNTRY_CODE DATERECEIVED  \\\n",
       "242    K202456        Global Instrumentation LLC           US   2020-08-27   \n",
       "335    K203066              Avanos Medical, Inc.           US   2020-10-09   \n",
       "336    K203087  Philips Medical Systems DMC GmbH           DE   2020-10-13   \n",
       "359    K203189                  Aerobiotix, Inc.           US   2020-10-27   \n",
       "363    K203209                 AirPhysio Pty Ltd           AU   2020-10-30   \n",
       "...        ...                               ...          ...          ...   \n",
       "82523  K993888           A & D ENGINEERING, INC.           US   1999-11-16   \n",
       "82525  K993890    NIHON SEIMITSU SOKKI CO., LTD.           US   1999-11-16   \n",
       "82566  K993944              RITA MEDICAL SYSTEMS           US   1999-11-19   \n",
       "82567  K993945        BIONIKE LABORATORIES, INC.           US   1999-11-19   \n",
       "82698  K994096                     SONOSITE,INC.           US   1999-12-03   \n",
       "\n",
       "      DECISIONDATE DECISION PRODUCTCODE STATEORSUMM THIRDPARTY  \\\n",
       "242     2020-12-29     SESE         DSH     Summary          Y   \n",
       "335     2020-12-22     SESE         GXI     Summary          Y   \n",
       "336     2020-12-03     SESE         JAA     Summary          Y   \n",
       "359     2021-01-21     SESE         FRA     Summary          Y   \n",
       "363     2021-01-15     SESE         BWF     Summary          Y   \n",
       "...            ...      ...         ...         ...        ...   \n",
       "82523   1999-12-20     SESE         DXN   Statement          Y   \n",
       "82525   1999-12-01     SESE         DXN     Summary          Y   \n",
       "82566   1999-12-02     SESE         GEI     Summary          Y   \n",
       "82567   1999-12-07     SESE         LCM     Summary          Y   \n",
       "82698   1999-12-20     SESE         IYN     Summary          Y   \n",
       "\n",
       "                                               MODELNAME  \n",
       "242                                          M5 Recorder  \n",
       "335           COOLIEF Cooled Radiofrequency Kit Advanced  \n",
       "336                                    CombiDiagnost R90  \n",
       "359                                          AEROCURE-MD  \n",
       "363           AirPhysio Positive Expiratory (PEP) Device  \n",
       "...                                                  ...  \n",
       "82523  A & D MEDICALLIFESOURCE US-779PC & UA-779T DIG...  \n",
       "82525       DIGITAL BLOOD PRESSURE MONITOR, MODEL DS-181  \n",
       "82566  RITA MODEL 1500 ELECTROSURGICAL GENERATOR, POW...  \n",
       "82567                BIONIKE AQ PHENCYCLIDINE (PCP) TEST  \n",
       "82698     SONOHEART HAND-CARRIED ECHOCARDIOGRAPHY SYSTEM  \n",
       "\n",
       "[3126 rows x 10 columns]"
      ],
      "text/html": "<div>\n<style scoped>\n    .dataframe tbody tr th:only-of-type {\n        vertical-align: middle;\n    }\n\n    .dataframe tbody tr th {\n        vertical-align: top;\n    }\n\n    .dataframe thead th {\n        text-align: right;\n    }\n</style>\n<table border=\"1\" class=\"dataframe\">\n  <thead>\n    <tr style=\"text-align: right;\">\n      <th></th>\n      <th>KNUMBER</th>\n      <th>MANUFACTOR</th>\n      <th>COUNTRY_CODE</th>\n      <th>DATERECEIVED</th>\n      <th>DECISIONDATE</th>\n      <th>DECISION</th>\n      <th>PRODUCTCODE</th>\n      <th>STATEORSUMM</th>\n      <th>THIRDPARTY</th>\n      <th>MODELNAME</th>\n    </tr>\n  </thead>\n  <tbody>\n    <tr>\n      <th>242</th>\n      <td>K202456</td>\n      <td>Global Instrumentation LLC</td>\n      <td>US</td>\n      <td>2020-08-27</td>\n      <td>2020-12-29</td>\n      <td>SESE</td>\n      <td>DSH</td>\n      <td>Summary</td>\n      <td>Y</td>\n      <td>M5 Recorder</td>\n    </tr>\n    <tr>\n      <th>335</th>\n      <td>K203066</td>\n      <td>Avanos Medical, Inc.</td>\n      <td>US</td>\n      <td>2020-10-09</td>\n      <td>2020-12-22</td>\n      <td>SESE</td>\n      <td>GXI</td>\n      <td>Summary</td>\n      <td>Y</td>\n      <td>COOLIEF Cooled Radiofrequency Kit Advanced</td>\n    </tr>\n    <tr>\n      <th>336</th>\n      <td>K203087</td>\n      <td>Philips Medical Systems DMC GmbH</td>\n      <td>DE</td>\n      <td>2020-10-13</td>\n      <td>2020-12-03</td>\n      <td>SESE</td>\n      <td>JAA</td>\n      <td>Summary</td>\n      <td>Y</td>\n      <td>CombiDiagnost R90</td>\n    </tr>\n    <tr>\n      <th>359</th>\n      <td>K203189</td>\n      <td>Aerobiotix, Inc.</td>\n      <td>US</td>\n      <td>2020-10-27</td>\n      <td>2021-01-21</td>\n      <td>SESE</td>\n      <td>FRA</td>\n      <td>Summary</td>\n      <td>Y</td>\n      <td>AEROCURE-MD</td>\n    </tr>\n    <tr>\n      <th>363</th>\n      <td>K203209</td>\n      <td>AirPhysio Pty Ltd</td>\n      <td>AU</td>\n      <td>2020-10-30</td>\n      <td>2021-01-15</td>\n      <td>SESE</td>\n      <td>BWF</td>\n      <td>Summary</td>\n      <td>Y</td>\n      <td>AirPhysio Positive Expiratory (PEP) Device</td>\n    </tr>\n    <tr>\n      <th>...</th>\n      <td>...</td>\n      <td>...</td>\n      <td>...</td>\n      <td>...</td>\n      <td>...</td>\n      <td>...</td>\n      <td>...</td>\n      <td>...</td>\n      <td>...</td>\n      <td>...</td>\n    </tr>\n    <tr>\n      <th>82523</th>\n      <td>K993888</td>\n      <td>A &amp; D ENGINEERING, INC.</td>\n      <td>US</td>\n      <td>1999-11-16</td>\n      <td>1999-12-20</td>\n      <td>SESE</td>\n      <td>DXN</td>\n      <td>Statement</td>\n      <td>Y</td>\n      <td>A &amp; D MEDICALLIFESOURCE US-779PC &amp; UA-779T DIG...</td>\n    </tr>\n    <tr>\n      <th>82525</th>\n      <td>K993890</td>\n      <td>NIHON SEIMITSU SOKKI CO., LTD.</td>\n      <td>US</td>\n      <td>1999-11-16</td>\n      <td>1999-12-01</td>\n      <td>SESE</td>\n      <td>DXN</td>\n      <td>Summary</td>\n      <td>Y</td>\n      <td>DIGITAL BLOOD PRESSURE MONITOR, MODEL DS-181</td>\n    </tr>\n    <tr>\n      <th>82566</th>\n      <td>K993944</td>\n      <td>RITA MEDICAL SYSTEMS</td>\n      <td>US</td>\n      <td>1999-11-19</td>\n      <td>1999-12-02</td>\n      <td>SESE</td>\n      <td>GEI</td>\n      <td>Summary</td>\n      <td>Y</td>\n      <td>RITA MODEL 1500 ELECTROSURGICAL GENERATOR, POW...</td>\n    </tr>\n    <tr>\n      <th>82567</th>\n      <td>K993945</td>\n      <td>BIONIKE LABORATORIES, INC.</td>\n      <td>US</td>\n      <td>1999-11-19</td>\n      <td>1999-12-07</td>\n      <td>SESE</td>\n      <td>LCM</td>\n      <td>Summary</td>\n      <td>Y</td>\n      <td>BIONIKE AQ PHENCYCLIDINE (PCP) TEST</td>\n    </tr>\n    <tr>\n      <th>82698</th>\n      <td>K994096</td>\n      <td>SONOSITE,INC.</td>\n      <td>US</td>\n      <td>1999-12-03</td>\n      <td>1999-12-20</td>\n      <td>SESE</td>\n      <td>IYN</td>\n      <td>Summary</td>\n      <td>Y</td>\n      <td>SONOHEART HAND-CARRIED ECHOCARDIOGRAPHY SYSTEM</td>\n    </tr>\n  </tbody>\n</table>\n<p>3126 rows × 10 columns</p>\n</div>"
     },
     "metadata": {},
     "execution_count": 18
    }
   ],
   "source": [
    "result = filter_510k(FDA_INFO_510K, thirdParty= \"Y\", )\n",
    "result"
   ]
  },
  {
   "source": [
    "## standards:"
   ],
   "cell_type": "markdown",
   "metadata": {}
  },
  {
   "cell_type": "code",
   "execution_count": 13,
   "metadata": {},
   "outputs": [
    {
     "output_type": "execute_result",
     "data": {
      "text/plain": [
       "     Standard Designation Number/Date  \\\n",
       "0                     61145 (1992-05)   \n",
       "1             C29-A2 (Replaces C29-A)   \n",
       "2             C31-A2 (Replaces C31-A)   \n",
       "3                               C37-A   \n",
       "4              C39-A (Replaces C39-P)   \n",
       "...                               ...   \n",
       "1424   60601-2-50 Edition 3.0 2020-09   \n",
       "1425   60601-2-50 Edition 2.1 2016-04   \n",
       "1426    8600-6 Second edition 2020-09   \n",
       "1427  8600-6 First edition 2005-03-15   \n",
       "1428                         F3502-21   \n",
       "\n",
       "                                      Title of Standard  \\\n",
       "0     Calibration and usage of ionization chamber sy...   \n",
       "1     Standardization of Sodium and Potassium Ion Se...   \n",
       "2     Ionized Calcium Determinations:  Precollection...   \n",
       "3     Preparation and Validation of Commutable Froze...   \n",
       "4     A Designated Comparison Method for the Measure...   \n",
       "...                                                 ...   \n",
       "1424  Medical electrical equipment - Part 2-50: Part...   \n",
       "1425  CONSOLIDATED VERSION Medical electrical equipm...   \n",
       "1426  Endoscopes - Medical endoscopes and endotherap...   \n",
       "1427  Optics and photonics - Medical endoscopes and ...   \n",
       "1428  Standard Specification for Barrier Face Coverings   \n",
       "\n",
       "                          Specialty Task Group Date of Recogntion  \\\n",
       "0                                    Radiology         07/12/1999   \n",
       "1                          InVitro Diagnostics         03/08/2004   \n",
       "2                          InVitro Diagnostics         03/08/2004   \n",
       "3                          InVitro Diagnostics         03/08/2004   \n",
       "4                          InVitro Diagnostics         03/08/2004   \n",
       "...                                        ...                ...   \n",
       "1424  General Plastic Surgery/General Hospital         12/21/2020   \n",
       "1425  General Plastic Surgery/General Hospital         08/21/2017   \n",
       "1426            ObGyn/Gastroenterology/Urology         12/21/2020   \n",
       "1427            ObGyn/Gastroenterology/Urology         01/15/2013   \n",
       "1428  General Plastic Surgery/General Hospital         03/01/2021   \n",
       "\n",
       "     Standard Developing Organization Recognition Number  \n",
       "0                                 IEC              12-51  \n",
       "1                                CLSI               7-86  \n",
       "2                                CLSI               7-87  \n",
       "3                                CLSI               7-88  \n",
       "4                                CLSI               7-89  \n",
       "...                               ...                ...  \n",
       "1424                              IEC              6-450  \n",
       "1425                              IEC              6-387  \n",
       "1426                              ISO              9-130  \n",
       "1427                              ISO               9-40  \n",
       "1428                             ASTM              6-460  \n",
       "\n",
       "[1429 rows x 6 columns]"
      ],
      "text/html": "<div>\n<style scoped>\n    .dataframe tbody tr th:only-of-type {\n        vertical-align: middle;\n    }\n\n    .dataframe tbody tr th {\n        vertical-align: top;\n    }\n\n    .dataframe thead th {\n        text-align: right;\n    }\n</style>\n<table border=\"1\" class=\"dataframe\">\n  <thead>\n    <tr style=\"text-align: right;\">\n      <th></th>\n      <th>Standard Designation Number/Date</th>\n      <th>Title of Standard</th>\n      <th>Specialty Task Group</th>\n      <th>Date of Recogntion</th>\n      <th>Standard Developing Organization</th>\n      <th>Recognition Number</th>\n    </tr>\n  </thead>\n  <tbody>\n    <tr>\n      <th>0</th>\n      <td>61145 (1992-05)</td>\n      <td>Calibration and usage of ionization chamber sy...</td>\n      <td>Radiology</td>\n      <td>07/12/1999</td>\n      <td>IEC</td>\n      <td>12-51</td>\n    </tr>\n    <tr>\n      <th>1</th>\n      <td>C29-A2 (Replaces C29-A)</td>\n      <td>Standardization of Sodium and Potassium Ion Se...</td>\n      <td>InVitro Diagnostics</td>\n      <td>03/08/2004</td>\n      <td>CLSI</td>\n      <td>7-86</td>\n    </tr>\n    <tr>\n      <th>2</th>\n      <td>C31-A2 (Replaces C31-A)</td>\n      <td>Ionized Calcium Determinations:  Precollection...</td>\n      <td>InVitro Diagnostics</td>\n      <td>03/08/2004</td>\n      <td>CLSI</td>\n      <td>7-87</td>\n    </tr>\n    <tr>\n      <th>3</th>\n      <td>C37-A</td>\n      <td>Preparation and Validation of Commutable Froze...</td>\n      <td>InVitro Diagnostics</td>\n      <td>03/08/2004</td>\n      <td>CLSI</td>\n      <td>7-88</td>\n    </tr>\n    <tr>\n      <th>4</th>\n      <td>C39-A (Replaces C39-P)</td>\n      <td>A Designated Comparison Method for the Measure...</td>\n      <td>InVitro Diagnostics</td>\n      <td>03/08/2004</td>\n      <td>CLSI</td>\n      <td>7-89</td>\n    </tr>\n    <tr>\n      <th>...</th>\n      <td>...</td>\n      <td>...</td>\n      <td>...</td>\n      <td>...</td>\n      <td>...</td>\n      <td>...</td>\n    </tr>\n    <tr>\n      <th>1424</th>\n      <td>60601-2-50 Edition 3.0 2020-09</td>\n      <td>Medical electrical equipment - Part 2-50: Part...</td>\n      <td>General Plastic Surgery/General Hospital</td>\n      <td>12/21/2020</td>\n      <td>IEC</td>\n      <td>6-450</td>\n    </tr>\n    <tr>\n      <th>1425</th>\n      <td>60601-2-50 Edition 2.1 2016-04</td>\n      <td>CONSOLIDATED VERSION Medical electrical equipm...</td>\n      <td>General Plastic Surgery/General Hospital</td>\n      <td>08/21/2017</td>\n      <td>IEC</td>\n      <td>6-387</td>\n    </tr>\n    <tr>\n      <th>1426</th>\n      <td>8600-6 Second edition 2020-09</td>\n      <td>Endoscopes - Medical endoscopes and endotherap...</td>\n      <td>ObGyn/Gastroenterology/Urology</td>\n      <td>12/21/2020</td>\n      <td>ISO</td>\n      <td>9-130</td>\n    </tr>\n    <tr>\n      <th>1427</th>\n      <td>8600-6 First edition 2005-03-15</td>\n      <td>Optics and photonics - Medical endoscopes and ...</td>\n      <td>ObGyn/Gastroenterology/Urology</td>\n      <td>01/15/2013</td>\n      <td>ISO</td>\n      <td>9-40</td>\n    </tr>\n    <tr>\n      <th>1428</th>\n      <td>F3502-21</td>\n      <td>Standard Specification for Barrier Face Coverings</td>\n      <td>General Plastic Surgery/General Hospital</td>\n      <td>03/01/2021</td>\n      <td>ASTM</td>\n      <td>6-460</td>\n    </tr>\n  </tbody>\n</table>\n<p>1429 rows × 6 columns</p>\n</div>"
     },
     "metadata": {},
     "execution_count": 13
    }
   ],
   "source": [
    "FDA_INFO_STANDARDS_PATH = os.path.join(abs_path, \"FDA Registration Record\", \"standards\", 'standards.csv')\n",
    "FDA_INFO_STANDARDS = pd.read_csv(\n",
    "    FDA_INFO_STANDARDS_PATH, sep=\",\", encoding=\"cp1252\")\n",
    "pd.set_option('display.max_columns', None)\n",
    "FDA_INFO_STANDARDS"
   ]
  },
  {
   "cell_type": "code",
   "execution_count": null,
   "metadata": {},
   "outputs": [],
   "source": []
  },
  {
   "cell_type": "code",
   "execution_count": 14,
   "metadata": {},
   "outputs": [
    {
     "output_type": "stream",
     "name": "stdout",
     "text": [
      "there are duplicates\nthere are duplicates\nthere are duplicates\nthere are duplicates\nthere are duplicates\nthere are duplicates\nthere are duplicates\nthere are duplicates\nthere are duplicates\nthere are duplicates\nthere are duplicates\nthere are duplicates\nthere are duplicates\nthere are duplicates\nthere are duplicates\nthere are duplicates\nthere are duplicates\nthere are duplicates\nthere are duplicates\nthere are duplicates\nthere are duplicates\nthere are duplicates\nthere are duplicates\n"
     ]
    }
   ],
   "source": [
    "design_numb = FDA_INFO_STANDARDS[\"Standard Designation Number/Date\"]\n",
    "a = list(design_numb.duplicated())\n",
    "for i in a:\n",
    "    if i == True:\n",
    "        print(\"there are duplicates\")"
   ]
  },
  {
   "cell_type": "code",
   "execution_count": null,
   "metadata": {},
   "outputs": [],
   "source": []
  }
 ]
}